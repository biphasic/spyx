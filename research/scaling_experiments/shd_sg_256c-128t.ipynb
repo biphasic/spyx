{
 "cells": [
  {
   "cell_type": "markdown",
   "id": "fd3a7575",
   "metadata": {},
   "source": [
    "# Training an SNN using surrogate gradients! 72c128t\n",
    "\n",
    "\n",
    "Train your first SNN in JAX in less than 10 minutes without needing a heavy-duty GPU!"
   ]
  },
  {
   "cell_type": "code",
   "execution_count": 1,
   "id": "3cf6fa71",
   "metadata": {
    "execution": {
     "iopub.execute_input": "2023-08-17T14:37:45.417264Z",
     "iopub.status.busy": "2023-08-17T14:37:45.416997Z",
     "iopub.status.idle": "2023-08-17T14:37:47.393566Z",
     "shell.execute_reply": "2023-08-17T14:37:47.393093Z",
     "shell.execute_reply.started": "2023-08-17T14:37:45.417244Z"
    }
   },
   "outputs": [],
   "source": [
    "import spyx\n",
    "import spyx.nn as snn\n",
    "\n",
    "# JAX imports\n",
    "import jax\n",
    "from jax import numpy as jnp\n",
    "import jmp\n",
    "import numpy as np\n",
    "\n",
    "from jax_tqdm import scan_tqdm\n",
    "from tqdm import tqdm\n",
    "\n",
    "# implement our SNN in DeepMind's Haiku\n",
    "import haiku as hk\n",
    "\n",
    "# for surrogate loss training.\n",
    "import optax\n",
    "\n",
    "# rendering tools\n",
    "import matplotlib.pyplot as plt\n",
    "from sklearn.metrics import confusion_matrix, ConfusionMatrixDisplay\n",
    "%matplotlib notebook"
   ]
  },
  {
   "cell_type": "code",
   "execution_count": 2,
   "id": "9bfdcd58",
   "metadata": {
    "execution": {
     "iopub.execute_input": "2023-08-17T14:37:47.399066Z",
     "iopub.status.busy": "2023-08-17T14:37:47.397354Z",
     "iopub.status.idle": "2023-08-17T14:37:47.514017Z",
     "shell.execute_reply": "2023-08-17T14:37:47.513352Z",
     "shell.execute_reply.started": "2023-08-17T14:37:47.399017Z"
    }
   },
   "outputs": [],
   "source": [
    "policy = jmp.get_policy('half')\n",
    "\n",
    "\n",
    "hk.mixed_precision.set_policy(hk.Linear, policy)\n",
    "hk.mixed_precision.set_policy(snn.LIF, policy)\n",
    "hk.mixed_precision.set_policy(snn.LI, policy)"
   ]
  },
  {
   "cell_type": "code",
   "execution_count": 3,
   "id": "6573ba59",
   "metadata": {
    "execution": {
     "iopub.execute_input": "2023-08-17T14:37:47.515511Z",
     "iopub.status.busy": "2023-08-17T14:37:47.514788Z",
     "iopub.status.idle": "2023-08-17T14:38:38.783808Z",
     "shell.execute_reply": "2023-08-17T14:38:38.783115Z",
     "shell.execute_reply.started": "2023-08-17T14:37:47.515486Z"
    }
   },
   "outputs": [],
   "source": [
    "shd_dl = spyx.data.SHD_loader(256,128,256)"
   ]
  },
  {
   "cell_type": "code",
   "execution_count": 4,
   "id": "e5d127b3",
   "metadata": {
    "execution": {
     "iopub.execute_input": "2023-08-17T14:38:38.785796Z",
     "iopub.status.busy": "2023-08-17T14:38:38.785263Z",
     "iopub.status.idle": "2023-08-17T14:38:40.608179Z",
     "shell.execute_reply": "2023-08-17T14:38:40.607419Z",
     "shell.execute_reply.started": "2023-08-17T14:38:38.785776Z"
    }
   },
   "outputs": [],
   "source": [
    "key = jax.random.PRNGKey(0)\n",
    "x, y = shd_dl.train_epoch(key)"
   ]
  },
  {
   "cell_type": "code",
   "execution_count": 5,
   "id": "df9bc18e",
   "metadata": {
    "execution": {
     "iopub.execute_input": "2023-08-17T14:38:40.610106Z",
     "iopub.status.busy": "2023-08-17T14:38:40.609915Z",
     "iopub.status.idle": "2023-08-17T14:38:40.614656Z",
     "shell.execute_reply": "2023-08-17T14:38:40.614148Z",
     "shell.execute_reply.started": "2023-08-17T14:38:40.610088Z"
    }
   },
   "outputs": [
    {
     "data": {
      "text/plain": [
       "(25, 256)"
      ]
     },
     "execution_count": 5,
     "metadata": {},
     "output_type": "execute_result"
    }
   ],
   "source": [
    "y.shape"
   ]
  },
  {
   "cell_type": "code",
   "execution_count": 6,
   "id": "f8e82dbb-fbcd-4510-a4ee-2db9a659dfe5",
   "metadata": {
    "execution": {
     "iopub.execute_input": "2023-08-17T14:38:40.615835Z",
     "iopub.status.busy": "2023-08-17T14:38:40.615406Z",
     "iopub.status.idle": "2023-08-17T14:38:40.619245Z",
     "shell.execute_reply": "2023-08-17T14:38:40.618702Z",
     "shell.execute_reply.started": "2023-08-17T14:38:40.615798Z"
    }
   },
   "outputs": [],
   "source": [
    "surrogate = spyx.axn.Axon(spyx.axn.arctan())"
   ]
  },
  {
   "cell_type": "code",
   "execution_count": 7,
   "id": "1e9ee900",
   "metadata": {
    "execution": {
     "iopub.execute_input": "2023-08-17T14:38:40.620702Z",
     "iopub.status.busy": "2023-08-17T14:38:40.620173Z",
     "iopub.status.idle": "2023-08-17T14:38:40.624500Z",
     "shell.execute_reply": "2023-08-17T14:38:40.623916Z",
     "shell.execute_reply.started": "2023-08-17T14:38:40.620683Z"
    }
   },
   "outputs": [],
   "source": [
    "def snn_64(x):\n",
    "    \n",
    "    x = hk.BatchApply(hk.Linear(64, with_bias=False))(x)\n",
    "    \n",
    "    core = hk.DeepRNN([\n",
    "        snn.LIF((64,), activation=surrogate),\n",
    "        hk.Linear(64, with_bias=False),\n",
    "        snn.LIF((64,), activation=surrogate),\n",
    "        hk.Linear(20, with_bias=False),\n",
    "        snn.LI((20,))\n",
    "    ])\n",
    "    \n",
    "    # static unroll for maximum performance\n",
    "    spikes, V = hk.dynamic_unroll(core, x, core.initial_state(x.shape[0]), time_major=False, unroll=16)\n",
    "    \n",
    "    return spikes, V"
   ]
  },
  {
   "cell_type": "code",
   "execution_count": 8,
   "id": "59302989",
   "metadata": {
    "execution": {
     "iopub.execute_input": "2023-08-17T14:38:40.625713Z",
     "iopub.status.busy": "2023-08-17T14:38:40.625389Z",
     "iopub.status.idle": "2023-08-17T14:38:40.629747Z",
     "shell.execute_reply": "2023-08-17T14:38:40.629237Z",
     "shell.execute_reply.started": "2023-08-17T14:38:40.625692Z"
    }
   },
   "outputs": [],
   "source": [
    "def snn_128(x):\n",
    "    \n",
    "    x = hk.BatchApply(hk.Linear(128, with_bias=False))(x)\n",
    "    \n",
    "    core = hk.DeepRNN([\n",
    "        snn.LIF((128,), activation=surrogate),\n",
    "        hk.Linear(128, with_bias=False),\n",
    "        snn.LIF((128,), activation=surrogate),\n",
    "        hk.Linear(20, with_bias=False),\n",
    "        snn.LI((20,))\n",
    "    ])\n",
    "    \n",
    "    # static unroll for maximum performance\n",
    "    spikes, V = hk.dynamic_unroll(core, x, core.initial_state(x.shape[0]), time_major=False, unroll=16)\n",
    "    \n",
    "    return spikes, V"
   ]
  },
  {
   "cell_type": "code",
   "execution_count": 9,
   "id": "6946dd93",
   "metadata": {
    "execution": {
     "iopub.execute_input": "2023-08-17T14:38:40.631071Z",
     "iopub.status.busy": "2023-08-17T14:38:40.630626Z",
     "iopub.status.idle": "2023-08-17T14:38:40.634805Z",
     "shell.execute_reply": "2023-08-17T14:38:40.634230Z",
     "shell.execute_reply.started": "2023-08-17T14:38:40.631050Z"
    }
   },
   "outputs": [],
   "source": [
    "def snn_256(x):\n",
    "    \n",
    "    x = hk.BatchApply(hk.Linear(256, with_bias=False))(x)\n",
    "    \n",
    "    core = hk.DeepRNN([\n",
    "        snn.LIF((256,), activation=surrogate),\n",
    "        hk.Linear(256, with_bias=False),\n",
    "        snn.LIF((256,), activation=surrogate),\n",
    "        hk.Linear(20, with_bias=False),\n",
    "        snn.LI((20,))\n",
    "    ])\n",
    "    \n",
    "    # static unroll for maximum performance\n",
    "    spikes, V = hk.dynamic_unroll(core, x, core.initial_state(x.shape[0]), time_major=False, unroll=16)\n",
    "    \n",
    "    return spikes, V"
   ]
  },
  {
   "cell_type": "code",
   "execution_count": 10,
   "id": "81f72d47-601b-4408-b6fb-36f60d8b6426",
   "metadata": {
    "execution": {
     "iopub.execute_input": "2023-08-17T14:38:40.637438Z",
     "iopub.status.busy": "2023-08-17T14:38:40.637144Z",
     "iopub.status.idle": "2023-08-17T14:38:40.641343Z",
     "shell.execute_reply": "2023-08-17T14:38:40.640734Z",
     "shell.execute_reply.started": "2023-08-17T14:38:40.637415Z"
    }
   },
   "outputs": [],
   "source": [
    "def snn_512(x):\n",
    "    \n",
    "    x = hk.BatchApply(hk.Linear(512, with_bias=False))(x)\n",
    "    \n",
    "    core = hk.DeepRNN([\n",
    "        snn.LIF((512,), activation=surrogate),\n",
    "        hk.Linear(512, with_bias=False),\n",
    "        snn.LIF((512,), activation=surrogate),\n",
    "        hk.Linear(20, with_bias=False),\n",
    "        snn.LI((20,))\n",
    "    ])\n",
    "    \n",
    "    # static unroll for maximum performance\n",
    "    spikes, V = hk.dynamic_unroll(core, x, core.initial_state(x.shape[0]), time_major=False, unroll=16)\n",
    "    \n",
    "    return spikes, V"
   ]
  },
  {
   "cell_type": "code",
   "execution_count": 11,
   "id": "e32e514a",
   "metadata": {
    "execution": {
     "iopub.execute_input": "2023-08-17T14:38:40.642750Z",
     "iopub.status.busy": "2023-08-17T14:38:40.642422Z",
     "iopub.status.idle": "2023-08-17T14:38:45.459188Z",
     "shell.execute_reply": "2023-08-17T14:38:45.458646Z",
     "shell.execute_reply.started": "2023-08-17T14:38:40.642739Z"
    }
   },
   "outputs": [],
   "source": [
    "key = jax.random.PRNGKey(0)\n",
    "# Since there's nothing stochastic about the network, we can avoid using an RNG as a param!\n",
    "SNN_64 = hk.without_apply_rng(hk.transform(snn_64))\n",
    "params_64 = SNN_64.init(rng=key, x=x[0])"
   ]
  },
  {
   "cell_type": "code",
   "execution_count": 12,
   "id": "85321879",
   "metadata": {
    "execution": {
     "iopub.execute_input": "2023-08-17T14:38:45.460368Z",
     "iopub.status.busy": "2023-08-17T14:38:45.460070Z",
     "iopub.status.idle": "2023-08-17T14:38:48.029455Z",
     "shell.execute_reply": "2023-08-17T14:38:48.028915Z",
     "shell.execute_reply.started": "2023-08-17T14:38:45.460349Z"
    }
   },
   "outputs": [],
   "source": [
    "key = jax.random.PRNGKey(0)\n",
    "# Since there's nothing stochastic about the network, we can avoid using an RNG as a param!\n",
    "SNN_128 = hk.without_apply_rng(hk.transform(snn_128))\n",
    "params_128 = SNN_128.init(rng=key, x=x[0])"
   ]
  },
  {
   "cell_type": "code",
   "execution_count": 13,
   "id": "9945035f",
   "metadata": {
    "execution": {
     "iopub.execute_input": "2023-08-17T14:38:48.030624Z",
     "iopub.status.busy": "2023-08-17T14:38:48.030313Z",
     "iopub.status.idle": "2023-08-17T14:38:50.393877Z",
     "shell.execute_reply": "2023-08-17T14:38:50.393244Z",
     "shell.execute_reply.started": "2023-08-17T14:38:48.030597Z"
    }
   },
   "outputs": [],
   "source": [
    "key = jax.random.PRNGKey(0)\n",
    "# Since there's nothing stochastic about the network, we can avoid using an RNG as a param!\n",
    "SNN_256 = hk.without_apply_rng(hk.transform(snn_256))\n",
    "params_256 = SNN_256.init(rng=key, x=x[0])"
   ]
  },
  {
   "cell_type": "code",
   "execution_count": 14,
   "id": "bcf31cb0-d691-459c-a444-a2bcf02880ab",
   "metadata": {
    "execution": {
     "iopub.execute_input": "2023-08-17T14:38:50.394922Z",
     "iopub.status.busy": "2023-08-17T14:38:50.394725Z",
     "iopub.status.idle": "2023-08-17T14:38:53.021680Z",
     "shell.execute_reply": "2023-08-17T14:38:53.021063Z",
     "shell.execute_reply.started": "2023-08-17T14:38:50.394904Z"
    }
   },
   "outputs": [],
   "source": [
    "key = jax.random.PRNGKey(0)\n",
    "# Since there's nothing stochastic about the network, we can avoid using an RNG as a param!\n",
    "SNN_512 = hk.without_apply_rng(hk.transform(snn_512))\n",
    "params_512 = SNN_512.init(rng=key, x=x[0])"
   ]
  },
  {
   "cell_type": "code",
   "execution_count": 15,
   "id": "aa93e1f4",
   "metadata": {
    "execution": {
     "iopub.execute_input": "2023-08-17T14:38:53.022984Z",
     "iopub.status.busy": "2023-08-17T14:38:53.022783Z",
     "iopub.status.idle": "2023-08-17T14:38:53.032485Z",
     "shell.execute_reply": "2023-08-17T14:38:53.031848Z",
     "shell.execute_reply.started": "2023-08-17T14:38:53.022967Z"
    }
   },
   "outputs": [],
   "source": [
    "def gd(SNN, params, dl, epochs=300, schedule=4e-4):\n",
    "    \n",
    "    aug = spyx.data.shift_augment(max_shift=16) # need to make this stateless\n",
    "\n",
    "    opt = optax.chain(\n",
    "        optax.centralize(),\n",
    "        optax.lion(learning_rate=schedule),\n",
    "    )\n",
    "    # create and initialize the optimizer\n",
    "    opt_state = opt.init(params)\n",
    "    grad_params = params\n",
    "        \n",
    "    # define and compile our eval function that computes the loss for our SNN\n",
    "    @jax.jit\n",
    "    def net_eval(weights, events, targets):\n",
    "        readout = SNN.apply(weights, events)\n",
    "        traces, V_f = readout\n",
    "        return spyx.fn.integral_crossentropy(traces, targets)\n",
    "        \n",
    "    # Use JAX to create a function that calculates the loss and the gradient!\n",
    "    surrogate_grad = jax.value_and_grad(net_eval) \n",
    "        \n",
    "    rng = jax.random.PRNGKey(0)        \n",
    "    \n",
    "    # compile the meat of our training loop for speed\n",
    "    @jax.jit\n",
    "    def train_step(state, data):\n",
    "        grad_params, opt_state = state\n",
    "        events, targets = data # fix this\n",
    "        events = jnp.unpackbits(events, axis=1) # decompress temporal axis\n",
    "        # compute loss and gradient                    # need better augment rng\n",
    "        loss, grads = surrogate_grad(grad_params, aug(events, jax.random.fold_in(rng,jnp.sum(targets))), targets)\n",
    "        # generate updates based on the gradients and optimizer\n",
    "        updates, opt_state = opt.update(grads, opt_state, grad_params)\n",
    "        # return the updated parameters\n",
    "        new_state = [optax.apply_updates(grad_params, updates), opt_state]\n",
    "        return new_state, loss\n",
    "    \n",
    "    # For validation epochs, do the same as before but compute the\n",
    "    # accuracy, predictions and losses (no gradients needed)\n",
    "    @jax.jit\n",
    "    def eval_step(grad_params, data):\n",
    "        events, targets = data # fix\n",
    "        events = jnp.unpackbits(events, axis=1)\n",
    "        readout = SNN.apply(grad_params, events)\n",
    "        traces, V_f = readout\n",
    "        acc, pred = spyx.fn.integral_accuracy(traces, targets)\n",
    "        loss = spyx.fn.integral_crossentropy(traces, targets)\n",
    "        return grad_params, jnp.array([acc, loss])\n",
    "        \n",
    "    \n",
    "    val_data = dl.val_epoch()\n",
    "    \n",
    "    # Here's the start of our training loop!\n",
    "    @scan_tqdm(epochs)\n",
    "    def epoch(epoch_state, epoch_num):\n",
    "        curr_params, curr_opt_state = epoch_state\n",
    "        \n",
    "        shuffle_rng = jax.random.fold_in(rng, epoch_num)\n",
    "        train_data = dl.train_epoch(shuffle_rng)\n",
    "        \n",
    "        # train epoch\n",
    "        end_state, train_loss = jax.lax.scan(\n",
    "            train_step,# func\n",
    "            [curr_params, curr_opt_state],# init\n",
    "            train_data,# xs\n",
    "            train_data.obs.shape[0]# len\n",
    "        )\n",
    "        \n",
    "        new_params, _ = end_state\n",
    "            \n",
    "        # val epoch\n",
    "        _, val_metrics = jax.lax.scan(\n",
    "            eval_step,# func\n",
    "            new_params,# init\n",
    "            val_data,# xs\n",
    "            val_data.obs.shape[0]# len\n",
    "        )\n",
    "\n",
    "        \n",
    "        return end_state, jnp.concatenate([jnp.expand_dims(jnp.mean(train_loss),0), jnp.mean(val_metrics, axis=0)])\n",
    "    # end epoch\n",
    "    \n",
    "    # epoch loop\n",
    "    final_state, metrics = jax.lax.scan(\n",
    "        epoch,\n",
    "        [grad_params, opt_state], # metric arrays\n",
    "        jnp.arange(epochs), # \n",
    "        epochs # len of loop\n",
    "    )\n",
    "    \n",
    "    final_params, _ = final_state\n",
    "    \n",
    "                \n",
    "    # return our final, optimized network.       \n",
    "    return final_params, metrics"
   ]
  },
  {
   "cell_type": "code",
   "execution_count": 16,
   "id": "f5eb4fb2",
   "metadata": {
    "execution": {
     "iopub.execute_input": "2023-08-17T14:38:53.033338Z",
     "iopub.status.busy": "2023-08-17T14:38:53.033177Z",
     "iopub.status.idle": "2023-08-17T14:38:53.038050Z",
     "shell.execute_reply": "2023-08-17T14:38:53.037440Z",
     "shell.execute_reply.started": "2023-08-17T14:38:53.033324Z"
    }
   },
   "outputs": [],
   "source": [
    "def test_gd(SNN, params, dl):\n",
    "\n",
    "    @jax.jit\n",
    "    def test_step(params, data):\n",
    "        events, targets = data\n",
    "        events = jnp.unpackbits(events, axis=1)\n",
    "        readout = SNN.apply(params, events)\n",
    "        traces, V_f = readout\n",
    "        acc, pred = spyx.fn.integral_accuracy(traces, targets)\n",
    "        loss = spyx.fn.integral_crossentropy(traces, targets)\n",
    "        return params, [acc, loss, pred, targets]\n",
    "    \n",
    "    test_data = dl.test_epoch()\n",
    "    \n",
    "    _, test_metrics = jax.lax.scan(\n",
    "            test_step,# func\n",
    "            params,# init\n",
    "            test_data,# xs\n",
    "            test_data.obs.shape[0]# len\n",
    "    )\n",
    "    \n",
    "    acc = jnp.mean(test_metrics[0])\n",
    "    loss = jnp.mean(test_metrics[1])\n",
    "    preds = jnp.array(test_metrics[2]).flatten()\n",
    "    tgts = jnp.array(test_metrics[3]).flatten()\n",
    "    return acc, loss, preds, tgts"
   ]
  },
  {
   "cell_type": "code",
   "execution_count": 17,
   "id": "f0e2626a-2ce8-4759-ae43-b0e0756cbd22",
   "metadata": {
    "execution": {
     "iopub.execute_input": "2023-08-17T14:38:53.038813Z",
     "iopub.status.busy": "2023-08-17T14:38:53.038659Z",
     "iopub.status.idle": "2023-08-17T14:38:53.041600Z",
     "shell.execute_reply": "2023-08-17T14:38:53.041005Z",
     "shell.execute_reply.started": "2023-08-17T14:38:53.038799Z"
    }
   },
   "outputs": [],
   "source": [
    "from time import time"
   ]
  },
  {
   "cell_type": "code",
   "execution_count": 41,
   "id": "ec1565db",
   "metadata": {
    "execution": {
     "iopub.execute_input": "2023-08-17T14:55:32.492848Z",
     "iopub.status.busy": "2023-08-17T14:55:32.492322Z",
     "iopub.status.idle": "2023-08-17T14:56:20.435046Z",
     "shell.execute_reply": "2023-08-17T14:56:20.434320Z",
     "shell.execute_reply.started": "2023-08-17T14:55:32.492824Z"
    },
    "scrolled": true
   },
   "outputs": [
    {
     "data": {
      "application/vnd.jupyter.widget-view+json": {
       "model_id": "b95a4dbbe69c43b2948d86e9dbfdc219",
       "version_major": 2,
       "version_minor": 0
      },
      "text/plain": [
       "  0%|          | 0/500 [00:00<?, ?it/s]"
      ]
     },
     "metadata": {},
     "output_type": "display_data"
    },
    {
     "name": "stdout",
     "output_type": "stream",
     "text": [
      "47.93808126449585 seconds elapsed\n"
     ]
    }
   ],
   "source": [
    "schedule = 2e-4\n",
    "\n",
    "start = time()\n",
    "grad_params_64, metrics_64 = gd(SNN_64, params_64, shd_dl, epochs=500, schedule=schedule) # :36 seconds for loop.\n",
    "total = time() - start\n",
    "print(total, \"seconds elapsed\")"
   ]
  },
  {
   "cell_type": "code",
   "execution_count": 42,
   "id": "086d0b93-b814-4d61-927e-1c1637f34ca9",
   "metadata": {
    "execution": {
     "iopub.execute_input": "2023-08-17T14:56:20.436651Z",
     "iopub.status.busy": "2023-08-17T14:56:20.436468Z",
     "iopub.status.idle": "2023-08-17T14:56:20.443140Z",
     "shell.execute_reply": "2023-08-17T14:56:20.442457Z",
     "shell.execute_reply.started": "2023-08-17T14:56:20.436641Z"
    }
   },
   "outputs": [
    {
     "name": "stdout",
     "output_type": "stream",
     "text": [
      "Performance: train_loss=1.8845133781433105, val_acc=0.853515625, val_loss=1.8762264251708984\n"
     ]
    }
   ],
   "source": [
    "print(\"Performance: train_loss={}, val_acc={}, val_loss={}\".format(*metrics_64[-1]))"
   ]
  },
  {
   "cell_type": "code",
   "execution_count": 34,
   "id": "b23e91c4",
   "metadata": {
    "execution": {
     "iopub.execute_input": "2023-08-17T14:48:06.934165Z",
     "iopub.status.busy": "2023-08-17T14:48:06.933310Z",
     "iopub.status.idle": "2023-08-17T14:48:59.268191Z",
     "shell.execute_reply": "2023-08-17T14:48:59.267296Z",
     "shell.execute_reply.started": "2023-08-17T14:48:06.934137Z"
    },
    "scrolled": true
   },
   "outputs": [
    {
     "data": {
      "application/vnd.jupyter.widget-view+json": {
       "model_id": "7b9c244eca9e48fba7865a737190fa2c",
       "version_major": 2,
       "version_minor": 0
      },
      "text/plain": [
       "  0%|          | 0/500 [00:00<?, ?it/s]"
      ]
     },
     "metadata": {},
     "output_type": "display_data"
    },
    {
     "name": "stdout",
     "output_type": "stream",
     "text": [
      "52.32969784736633 seconds elapsed\n"
     ]
    }
   ],
   "source": [
    "schedule = 1e-4\n",
    "\n",
    "start = time()\n",
    "grad_params_128, metrics_128 = gd(SNN_128, params_128, shd_dl, epochs=500, schedule=schedule) # :42 seconds for loop\n",
    "total = time() - start\n",
    "print(total, \"seconds elapsed\")"
   ]
  },
  {
   "cell_type": "code",
   "execution_count": 35,
   "id": "e6748c51",
   "metadata": {
    "execution": {
     "iopub.execute_input": "2023-08-17T14:48:59.269696Z",
     "iopub.status.busy": "2023-08-17T14:48:59.269461Z",
     "iopub.status.idle": "2023-08-17T14:48:59.276511Z",
     "shell.execute_reply": "2023-08-17T14:48:59.275733Z",
     "shell.execute_reply.started": "2023-08-17T14:48:59.269642Z"
    }
   },
   "outputs": [
    {
     "name": "stdout",
     "output_type": "stream",
     "text": [
      "Performance: train_loss=1.8095475435256958, val_acc=0.8743489980697632, val_loss=1.8248013257980347\n"
     ]
    }
   ],
   "source": [
    "print(\"Performance: train_loss={}, val_acc={}, val_loss={}\".format(*metrics_128[-1]))"
   ]
  },
  {
   "cell_type": "code",
   "execution_count": 32,
   "id": "ead3d1f3",
   "metadata": {
    "execution": {
     "iopub.execute_input": "2023-08-17T14:46:45.203507Z",
     "iopub.status.busy": "2023-08-17T14:46:45.202939Z",
     "iopub.status.idle": "2023-08-17T14:47:49.773289Z",
     "shell.execute_reply": "2023-08-17T14:47:49.772488Z",
     "shell.execute_reply.started": "2023-08-17T14:46:45.203485Z"
    },
    "scrolled": true
   },
   "outputs": [
    {
     "data": {
      "application/vnd.jupyter.widget-view+json": {
       "model_id": "dd095515452b4ba7b2d4b4d099bbcb08",
       "version_major": 2,
       "version_minor": 0
      },
      "text/plain": [
       "  0%|          | 0/500 [00:00<?, ?it/s]"
      ]
     },
     "metadata": {},
     "output_type": "display_data"
    },
    {
     "name": "stdout",
     "output_type": "stream",
     "text": [
      "64.56402540206909 seconds elapsed\n"
     ]
    }
   ],
   "source": [
    "schedule = 1e-4\n",
    "\n",
    "start = time()\n",
    "grad_params_256, metrics_256 = gd(SNN_256, params_256, shd_dl, epochs=500, schedule=schedule) # :54 seconds for loop\n",
    "total = time() - start\n",
    "print(total, \"seconds elapsed\")"
   ]
  },
  {
   "cell_type": "code",
   "execution_count": 33,
   "id": "ee0db09e",
   "metadata": {
    "execution": {
     "iopub.execute_input": "2023-08-17T14:47:49.774971Z",
     "iopub.status.busy": "2023-08-17T14:47:49.774496Z",
     "iopub.status.idle": "2023-08-17T14:47:49.780292Z",
     "shell.execute_reply": "2023-08-17T14:47:49.779734Z",
     "shell.execute_reply.started": "2023-08-17T14:47:49.774950Z"
    }
   },
   "outputs": [
    {
     "name": "stdout",
     "output_type": "stream",
     "text": [
      "Performance: train_loss=1.7232377529144287, val_acc=0.9147135615348816, val_loss=1.768821120262146\n"
     ]
    }
   ],
   "source": [
    "print(\"Performance: train_loss={}, val_acc={}, val_loss={}\".format(*metrics_256[-1]))"
   ]
  },
  {
   "cell_type": "code",
   "execution_count": 30,
   "id": "c395a1d3-d1cf-4b9d-adbe-740c7afff69d",
   "metadata": {
    "execution": {
     "iopub.execute_input": "2023-08-17T14:44:52.843175Z",
     "iopub.status.busy": "2023-08-17T14:44:52.842568Z",
     "iopub.status.idle": "2023-08-17T14:46:28.296898Z",
     "shell.execute_reply": "2023-08-17T14:46:28.296310Z",
     "shell.execute_reply.started": "2023-08-17T14:44:52.843145Z"
    },
    "scrolled": true
   },
   "outputs": [
    {
     "data": {
      "application/vnd.jupyter.widget-view+json": {
       "model_id": "0f71e7df08fe4e879bf9098d17a3cdba",
       "version_major": 2,
       "version_minor": 0
      },
      "text/plain": [
       "  0%|          | 0/500 [00:00<?, ?it/s]"
      ]
     },
     "metadata": {},
     "output_type": "display_data"
    },
    {
     "name": "stdout",
     "output_type": "stream",
     "text": [
      "95.45025062561035 seconds elapsed\n"
     ]
    }
   ],
   "source": [
    "schedule = 1e-4\n",
    "\n",
    "start = time()\n",
    "grad_params_512, metrics_512 = gd(SNN_512, params_512, shd_dl, epochs=500, schedule=schedule) # :42 seconds for loop\n",
    "total = time() - start\n",
    "print(total, \"seconds elapsed\")"
   ]
  },
  {
   "cell_type": "code",
   "execution_count": 31,
   "id": "ae904f3d-724a-4958-bce8-0dd23805859d",
   "metadata": {
    "execution": {
     "iopub.execute_input": "2023-08-17T14:46:33.290804Z",
     "iopub.status.busy": "2023-08-17T14:46:33.290158Z",
     "iopub.status.idle": "2023-08-17T14:46:33.296758Z",
     "shell.execute_reply": "2023-08-17T14:46:33.296078Z",
     "shell.execute_reply.started": "2023-08-17T14:46:33.290780Z"
    }
   },
   "outputs": [
    {
     "name": "stdout",
     "output_type": "stream",
     "text": [
      "Performance: train_loss=1.7753251791000366, val_acc=0.900390625, val_loss=1.7936084270477295\n"
     ]
    }
   ],
   "source": [
    "print(\"Performance: train_loss={}, val_acc={}, val_loss={}\".format(*metrics_512[-1]))"
   ]
  },
  {
   "cell_type": "code",
   "execution_count": 29,
   "id": "30ed6603-680a-44a6-affb-9d1466903807",
   "metadata": {
    "execution": {
     "iopub.execute_input": "2023-08-17T14:44:38.832919Z",
     "iopub.status.busy": "2023-08-17T14:44:38.832140Z",
     "iopub.status.idle": "2023-08-17T14:44:38.841938Z",
     "shell.execute_reply": "2023-08-17T14:44:38.841309Z",
     "shell.execute_reply.started": "2023-08-17T14:44:38.832897Z"
    }
   },
   "outputs": [
    {
     "data": {
      "text/plain": [
       "Array([0.10677084, 0.1842448 , 0.22526042, 0.24479167, 0.3125    ,\n",
       "       0.3294271 , 0.3684896 , 0.3763021 , 0.4088542 , 0.44270834,\n",
       "       0.49283856, 0.53971356, 0.5279948 , 0.5572917 , 0.55338544,\n",
       "       0.5677084 , 0.6015625 , 0.62890625, 0.624349  , 0.61588544,\n",
       "       0.6744792 , 0.6692709 , 0.68619794, 0.66015625, 0.69401044,\n",
       "       0.67252606, 0.6666667 , 0.6738281 , 0.686849  , 0.6848959 ,\n",
       "       0.72526044, 0.7057292 , 0.6966146 , 0.7447917 , 0.74544275,\n",
       "       0.7291667 , 0.7076823 , 0.718099  , 0.72200525, 0.7415365 ,\n",
       "       0.75846356, 0.7278646 , 0.72200525, 0.7161459 , 0.7402344 ,\n",
       "       0.734375  , 0.76106775, 0.7545573 , 0.7578125 , 0.76953125,\n",
       "       0.74609375, 0.76953125, 0.7864584 , 0.7890625 , 0.78190106,\n",
       "       0.7630209 , 0.7949219 , 0.72265625, 0.72526044, 0.73307294,\n",
       "       0.71744794, 0.72981775, 0.7467448 , 0.74283856, 0.7415365 ,\n",
       "       0.7526042 , 0.7623698 , 0.7864584 , 0.7714844 , 0.7884115 ,\n",
       "       0.79231775, 0.7701823 , 0.80013025, 0.78776044, 0.7708334 ,\n",
       "       0.765625  , 0.77734375, 0.7473959 , 0.75390625, 0.7591146 ,\n",
       "       0.75325525, 0.765625  , 0.76432294, 0.76953125, 0.7682292 ,\n",
       "       0.7792969 , 0.7747396 , 0.7727865 , 0.76432294, 0.7473959 ,\n",
       "       0.74544275, 0.7675781 , 0.733724  , 0.79296875, 0.70638025,\n",
       "       0.7291667 , 0.7278646 , 0.7089844 , 0.7317709 , 0.7558594 ,\n",
       "       0.734375  , 0.7597656 , 0.6933594 , 0.68619794, 0.6875    ,\n",
       "       0.7207031 , 0.7135417 , 0.6764323 , 0.6796875 , 0.74283856,\n",
       "       0.72981775, 0.69401044, 0.71484375, 0.63671875, 0.69401044,\n",
       "       0.6796875 , 0.6972656 , 0.6894531 , 0.6640625 , 0.7044271 ,\n",
       "       0.72981775, 0.7213542 , 0.7102865 , 0.7265625 , 0.7005209 ,\n",
       "       0.69856775, 0.71419275, 0.66796875, 0.66471356, 0.7109375 ,\n",
       "       0.6770834 , 0.65234375, 0.60546875, 0.64388025, 0.6536459 ,\n",
       "       0.63606775, 0.6139323 , 0.5963542 , 0.65234375, 0.56901044,\n",
       "       0.6028646 , 0.5514323 , 0.5598959 , 0.546875  , 0.5449219 ,\n",
       "       0.61783856, 0.6015625 , 0.6015625 , 0.561849  , 0.5833334 ,\n",
       "       0.5696615 , 0.5852865 , 0.546224  , 0.5839844 , 0.59700525,\n",
       "       0.5852865 , 0.5852865 , 0.61783856, 0.53971356, 0.5807292 ,\n",
       "       0.5957031 , 0.577474  , 0.53776044, 0.5677084 , 0.5605469 ,\n",
       "       0.546224  , 0.5045573 , 0.5794271 , 0.53971356, 0.58463544,\n",
       "       0.5371094 , 0.5058594 , 0.51888025, 0.5481771 , 0.5572917 ,\n",
       "       0.54557294, 0.4778646 , 0.5097656 , 0.48632812, 0.53190106,\n",
       "       0.47981772, 0.530599  , 0.4654948 , 0.5130209 , 0.50846356,\n",
       "       0.5078125 , 0.49088544, 0.49804688, 0.5201823 , 0.4733073 ,\n",
       "       0.5123698 , 0.4934896 , 0.4778646 , 0.5097656 , 0.49023438,\n",
       "       0.5527344 , 0.546224  , 0.4791667 , 0.48502606, 0.49414062,\n",
       "       0.44401044, 0.4700521 , 0.48307294, 0.5253906 , 0.5019531 ,\n",
       "       0.48242188, 0.46419272, 0.49544272, 0.43815106, 0.4401042 ,\n",
       "       0.4921875 , 0.44335938, 0.48046875, 0.44466147, 0.4466146 ,\n",
       "       0.4544271 , 0.49869794, 0.47265625, 0.46484375, 0.4713542 ,\n",
       "       0.41276044, 0.41145834, 0.4296875 , 0.34895834, 0.390625  ,\n",
       "       0.37369794, 0.34570312, 0.38476562, 0.43619794, 0.41015625,\n",
       "       0.39127606, 0.4029948 , 0.38606772, 0.3795573 , 0.3203125 ,\n",
       "       0.36783856, 0.36002606, 0.32747397, 0.4479167 , 0.42773438,\n",
       "       0.3776042 , 0.38476562, 0.41471356, 0.39778647, 0.40494794,\n",
       "       0.33138022, 0.34765625, 0.4029948 , 0.41276044, 0.37825522,\n",
       "       0.31184897, 0.3639323 , 0.40234375, 0.4010417 , 0.35221356,\n",
       "       0.27083334, 0.41471356, 0.3828125 , 0.3307292 , 0.30013022,\n",
       "       0.38151044, 0.32226562, 0.3248698 , 0.30338544, 0.3216146 ,\n",
       "       0.36588544, 0.36914062, 0.3307292 , 0.36132812, 0.375     ,\n",
       "       0.3619792 , 0.3072917 , 0.4010417 , 0.32682294, 0.28125   ,\n",
       "       0.2591146 , 0.22916667, 0.23372397, 0.25976562, 0.25195312,\n",
       "       0.29231772, 0.24739584, 0.27669272, 0.2356771 , 0.3014323 ,\n",
       "       0.26627606, 0.2434896 , 0.25      , 0.25651044, 0.24934897,\n",
       "       0.26953125, 0.23242188, 0.25585938, 0.2421875 , 0.1796875 ,\n",
       "       0.25585938, 0.26627606, 0.24804688, 0.20833334, 0.1640625 ,\n",
       "       0.2936198 , 0.32747397, 0.28776044, 0.2747396 , 0.23046875,\n",
       "       0.22135417, 0.16145834, 0.23828125, 0.33333334, 0.296875  ,\n",
       "       0.21158855, 0.29557294, 0.2467448 , 0.27408856, 0.2513021 ,\n",
       "       0.23697917, 0.23372397, 0.27278647, 0.2311198 , 0.16731772,\n",
       "       0.20638022, 0.2526042 , 0.1998698 , 0.28710938, 0.20052084,\n",
       "       0.20963542, 0.265625  , 0.28515625, 0.29427084, 0.17447917,\n",
       "       0.27539062, 0.21744792, 0.17903647, 0.20507812, 0.2076823 ,\n",
       "       0.27994794, 0.20703125, 0.21940105, 0.20182292, 0.25976562,\n",
       "       0.26627606, 0.19921875, 0.23502605, 0.18164062, 0.20833334,\n",
       "       0.21158855, 0.2701823 , 0.17122397, 0.21679688, 0.21679688,\n",
       "       0.16927084, 0.2747396 , 0.23502605, 0.26171875, 0.26757812,\n",
       "       0.1966146 , 0.22916667, 0.20052084, 0.25325522, 0.24479167,\n",
       "       0.25325522, 0.22591147, 0.26106772, 0.2701823 , 0.2278646 ,\n",
       "       0.28125   , 0.2526042 , 0.27408856, 0.22981772, 0.25195312,\n",
       "       0.28059897, 0.1796875 , 0.29752606, 0.25585938, 0.2434896 ,\n",
       "       0.23697917, 0.18294272, 0.26171875, 0.2591146 , 0.1953125 ,\n",
       "       0.2513021 , 0.24609375, 0.2356771 , 0.2421875 , 0.27669272,\n",
       "       0.18294272, 0.21679688, 0.24479167, 0.265625  , 0.27213544,\n",
       "       0.19596355, 0.24544272, 0.18294272, 0.19596355, 0.2747396 ,\n",
       "       0.24479167, 0.2734375 , 0.26627606, 0.20963542, 0.18945312,\n",
       "       0.19726562, 0.20963542, 0.23828125, 0.2591146 , 0.19596355,\n",
       "       0.22916667, 0.23697917, 0.24609375, 0.2669271 , 0.21289062,\n",
       "       0.29231772, 0.3294271 , 0.24153647, 0.28450522, 0.22851562,\n",
       "       0.24869792, 0.23307292, 0.22135417, 0.2389323 , 0.23632812,\n",
       "       0.20507812, 0.26432294, 0.25585938, 0.22135417, 0.24869792,\n",
       "       0.23763022, 0.2623698 , 0.25651044, 0.23828125, 0.30013022,\n",
       "       0.23763022, 0.20963542, 0.23763022, 0.26367188, 0.2421875 ,\n",
       "       0.22591147, 0.26953125, 0.18229167, 0.24739584, 0.23697917,\n",
       "       0.23958334, 0.29231772, 0.234375  , 0.21484375, 0.24153647,\n",
       "       0.21744792, 0.21940105, 0.21028647, 0.234375  , 0.30338544,\n",
       "       0.18229167, 0.1328125 , 0.2682292 , 0.20572917, 0.29492188,\n",
       "       0.20963542, 0.27148438, 0.17773438, 0.25195312, 0.30403647,\n",
       "       0.30533856, 0.3072917 , 0.2526042 , 0.26367188, 0.25846356,\n",
       "       0.24023438, 0.2981771 , 0.26757812, 0.27278647, 0.23632812,\n",
       "       0.20052084, 0.24544272, 0.2434896 , 0.30013022, 0.25585938,\n",
       "       0.29427084, 0.2545573 , 0.25390625, 0.3138021 , 0.234375  ,\n",
       "       0.25716147, 0.2467448 , 0.26106772, 0.22265625, 0.25846356,\n",
       "       0.2890625 , 0.2747396 , 0.21158855, 0.2682292 , 0.22135417,\n",
       "       0.23958334, 0.24544272, 0.24414062, 0.27864584, 0.3072917 ,\n",
       "       0.22135417, 0.23958334, 0.24023438, 0.24934897, 0.25846356],      dtype=float32)"
      ]
     },
     "execution_count": 29,
     "metadata": {},
     "output_type": "execute_result"
    }
   ],
   "source": [
    "metrics_512[:,1]"
   ]
  },
  {
   "cell_type": "markdown",
   "id": "959b79e4",
   "metadata": {},
   "source": [
    "## Evaluation Time\n",
    "\n",
    "Now we'll run the network on the test set and see what happens:"
   ]
  },
  {
   "cell_type": "code",
   "execution_count": 36,
   "id": "6a9716b6",
   "metadata": {
    "execution": {
     "iopub.execute_input": "2023-08-17T14:52:11.874814Z",
     "iopub.status.busy": "2023-08-17T14:52:11.874114Z",
     "iopub.status.idle": "2023-08-17T14:52:13.406099Z",
     "shell.execute_reply": "2023-08-17T14:52:13.405415Z",
     "shell.execute_reply.started": "2023-08-17T14:52:11.874788Z"
    },
    "scrolled": true
   },
   "outputs": [
    {
     "name": "stdout",
     "output_type": "stream",
     "text": [
      "Accuracy: 0.77734375 Loss: 1.9600438\n"
     ]
    }
   ],
   "source": [
    "acc, loss, preds, tgts = test_gd(SNN_512, grad_params_512, shd_dl)\n",
    "print(\"Accuracy:\", acc, \"Loss:\", loss)"
   ]
  },
  {
   "cell_type": "code",
   "execution_count": null,
   "id": "2349676d",
   "metadata": {},
   "outputs": [],
   "source": []
  }
 ],
 "metadata": {
  "kernelspec": {
   "display_name": "Python 3 (ipykernel)",
   "language": "python",
   "name": "python3"
  },
  "language_info": {
   "codemirror_mode": {
    "name": "ipython",
    "version": 3
   },
   "file_extension": ".py",
   "mimetype": "text/x-python",
   "name": "python",
   "nbconvert_exporter": "python",
   "pygments_lexer": "ipython3",
   "version": "3.9.16"
  }
 },
 "nbformat": 4,
 "nbformat_minor": 5
}
