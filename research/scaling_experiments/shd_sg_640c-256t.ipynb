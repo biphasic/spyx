{
 "cells": [
  {
   "cell_type": "markdown",
   "id": "fd3a7575",
   "metadata": {},
   "source": [
    "# Training an SNN using surrogate gradients! 72c128t\n",
    "\n",
    "\n",
    "Train your first SNN in JAX in less than 10 minutes without needing a heavy-duty GPU!"
   ]
  },
  {
   "cell_type": "code",
   "execution_count": 1,
   "id": "3cf6fa71",
   "metadata": {
    "execution": {
     "iopub.execute_input": "2023-08-17T20:57:22.066440Z",
     "iopub.status.busy": "2023-08-17T20:57:22.065776Z",
     "iopub.status.idle": "2023-08-17T20:57:24.227860Z",
     "shell.execute_reply": "2023-08-17T20:57:24.227118Z",
     "shell.execute_reply.started": "2023-08-17T20:57:22.066412Z"
    }
   },
   "outputs": [],
   "source": [
    "import spyx\n",
    "import spyx.nn as snn\n",
    "\n",
    "# JAX imports\n",
    "import jax\n",
    "from jax import numpy as jnp\n",
    "import jmp\n",
    "import numpy as np\n",
    "\n",
    "from jax_tqdm import scan_tqdm\n",
    "from tqdm import tqdm\n",
    "\n",
    "# implement our SNN in DeepMind's Haiku\n",
    "import haiku as hk\n",
    "\n",
    "# for surrogate loss training.\n",
    "import optax\n",
    "\n",
    "# rendering tools\n",
    "import matplotlib.pyplot as plt\n",
    "from sklearn.metrics import confusion_matrix, ConfusionMatrixDisplay\n",
    "%matplotlib notebook"
   ]
  },
  {
   "cell_type": "code",
   "execution_count": 2,
   "id": "9bfdcd58",
   "metadata": {
    "execution": {
     "iopub.execute_input": "2023-08-17T20:57:24.229595Z",
     "iopub.status.busy": "2023-08-17T20:57:24.229158Z",
     "iopub.status.idle": "2023-08-17T20:57:24.361111Z",
     "shell.execute_reply": "2023-08-17T20:57:24.360405Z",
     "shell.execute_reply.started": "2023-08-17T20:57:24.229573Z"
    }
   },
   "outputs": [],
   "source": [
    "policy = jmp.get_policy('half')\n",
    "\n",
    "\n",
    "hk.mixed_precision.set_policy(hk.Linear, policy)\n",
    "hk.mixed_precision.set_policy(snn.LIF, policy)\n",
    "hk.mixed_precision.set_policy(snn.LI, policy)"
   ]
  },
  {
   "cell_type": "code",
   "execution_count": 3,
   "id": "6573ba59",
   "metadata": {
    "execution": {
     "iopub.execute_input": "2023-08-17T20:57:24.362113Z",
     "iopub.status.busy": "2023-08-17T20:57:24.361888Z",
     "iopub.status.idle": "2023-08-17T20:58:32.969196Z",
     "shell.execute_reply": "2023-08-17T20:58:32.968450Z",
     "shell.execute_reply.started": "2023-08-17T20:57:24.362094Z"
    }
   },
   "outputs": [],
   "source": [
    "shd_dl = spyx.data.SHD_loader(256,256,640)"
   ]
  },
  {
   "cell_type": "code",
   "execution_count": 4,
   "id": "e5d127b3",
   "metadata": {
    "execution": {
     "iopub.execute_input": "2023-08-17T20:58:32.970961Z",
     "iopub.status.busy": "2023-08-17T20:58:32.970667Z",
     "iopub.status.idle": "2023-08-17T20:58:38.096222Z",
     "shell.execute_reply": "2023-08-17T20:58:38.095581Z",
     "shell.execute_reply.started": "2023-08-17T20:58:32.970922Z"
    }
   },
   "outputs": [],
   "source": [
    "key = jax.random.PRNGKey(0)\n",
    "x, y = shd_dl.train_epoch(key)"
   ]
  },
  {
   "cell_type": "code",
   "execution_count": 5,
   "id": "df9bc18e",
   "metadata": {
    "execution": {
     "iopub.execute_input": "2023-08-17T20:58:38.098448Z",
     "iopub.status.busy": "2023-08-17T20:58:38.098241Z",
     "iopub.status.idle": "2023-08-17T20:58:38.103147Z",
     "shell.execute_reply": "2023-08-17T20:58:38.102586Z",
     "shell.execute_reply.started": "2023-08-17T20:58:38.098429Z"
    }
   },
   "outputs": [
    {
     "data": {
      "text/plain": [
       "(25, 256)"
      ]
     },
     "execution_count": 5,
     "metadata": {},
     "output_type": "execute_result"
    }
   ],
   "source": [
    "y.shape"
   ]
  },
  {
   "cell_type": "code",
   "execution_count": 6,
   "id": "f8e82dbb-fbcd-4510-a4ee-2db9a659dfe5",
   "metadata": {
    "execution": {
     "iopub.execute_input": "2023-08-17T20:58:38.104123Z",
     "iopub.status.busy": "2023-08-17T20:58:38.103925Z",
     "iopub.status.idle": "2023-08-17T20:58:38.108055Z",
     "shell.execute_reply": "2023-08-17T20:58:38.107369Z",
     "shell.execute_reply.started": "2023-08-17T20:58:38.104105Z"
    }
   },
   "outputs": [],
   "source": [
    "surrogate = spyx.axn.Axon(spyx.axn.arctan())"
   ]
  },
  {
   "cell_type": "code",
   "execution_count": 7,
   "id": "1e9ee900",
   "metadata": {
    "execution": {
     "iopub.execute_input": "2023-08-17T20:58:38.109085Z",
     "iopub.status.busy": "2023-08-17T20:58:38.108875Z",
     "iopub.status.idle": "2023-08-17T20:58:38.113521Z",
     "shell.execute_reply": "2023-08-17T20:58:38.112811Z",
     "shell.execute_reply.started": "2023-08-17T20:58:38.109058Z"
    }
   },
   "outputs": [],
   "source": [
    "def snn_64(x):\n",
    "    \n",
    "    x = hk.BatchApply(hk.Linear(64, with_bias=False))(x)\n",
    "    \n",
    "    core = hk.DeepRNN([\n",
    "        snn.LIF((64,), activation=surrogate),\n",
    "        hk.Linear(64, with_bias=False),\n",
    "        snn.LIF((64,), activation=surrogate),\n",
    "        hk.Linear(20, with_bias=False),\n",
    "        snn.LI((20,))\n",
    "    ])\n",
    "    \n",
    "    # static unroll for maximum performance\n",
    "    spikes, V = hk.dynamic_unroll(core, x, core.initial_state(x.shape[0]), time_major=False, unroll=16)\n",
    "    \n",
    "    return spikes, V"
   ]
  },
  {
   "cell_type": "code",
   "execution_count": 8,
   "id": "59302989",
   "metadata": {
    "execution": {
     "iopub.execute_input": "2023-08-17T20:58:38.114459Z",
     "iopub.status.busy": "2023-08-17T20:58:38.114255Z",
     "iopub.status.idle": "2023-08-17T20:58:38.118736Z",
     "shell.execute_reply": "2023-08-17T20:58:38.118071Z",
     "shell.execute_reply.started": "2023-08-17T20:58:38.114441Z"
    }
   },
   "outputs": [],
   "source": [
    "def snn_128(x):\n",
    "    \n",
    "    x = hk.BatchApply(hk.Linear(128, with_bias=False))(x)\n",
    "    \n",
    "    core = hk.DeepRNN([\n",
    "        snn.LIF((128,), activation=surrogate),\n",
    "        hk.Linear(128, with_bias=False),\n",
    "        snn.LIF((128,), activation=surrogate),\n",
    "        hk.Linear(20, with_bias=False),\n",
    "        snn.LI((20,))\n",
    "    ])\n",
    "    \n",
    "    # static unroll for maximum performance\n",
    "    spikes, V = hk.dynamic_unroll(core, x, core.initial_state(x.shape[0]), time_major=False, unroll=16)\n",
    "    \n",
    "    return spikes, V"
   ]
  },
  {
   "cell_type": "code",
   "execution_count": 9,
   "id": "6946dd93",
   "metadata": {
    "execution": {
     "iopub.execute_input": "2023-08-17T20:58:38.119925Z",
     "iopub.status.busy": "2023-08-17T20:58:38.119750Z",
     "iopub.status.idle": "2023-08-17T20:58:38.123933Z",
     "shell.execute_reply": "2023-08-17T20:58:38.123282Z",
     "shell.execute_reply.started": "2023-08-17T20:58:38.119909Z"
    }
   },
   "outputs": [],
   "source": [
    "def snn_256(x):\n",
    "    \n",
    "    x = hk.BatchApply(hk.Linear(256, with_bias=False))(x)\n",
    "    \n",
    "    core = hk.DeepRNN([\n",
    "        snn.LIF((256,), activation=surrogate),\n",
    "        hk.Linear(256, with_bias=False),\n",
    "        snn.LIF((256,), activation=surrogate),\n",
    "        hk.Linear(20, with_bias=False),\n",
    "        snn.LI((20,))\n",
    "    ])\n",
    "    \n",
    "    # static unroll for maximum performance\n",
    "    spikes, V = hk.dynamic_unroll(core, x, core.initial_state(x.shape[0]), time_major=False, unroll=16)\n",
    "    \n",
    "    return spikes, V"
   ]
  },
  {
   "cell_type": "code",
   "execution_count": 10,
   "id": "81f72d47-601b-4408-b6fb-36f60d8b6426",
   "metadata": {
    "execution": {
     "iopub.execute_input": "2023-08-17T20:58:38.124880Z",
     "iopub.status.busy": "2023-08-17T20:58:38.124697Z",
     "iopub.status.idle": "2023-08-17T20:58:38.129205Z",
     "shell.execute_reply": "2023-08-17T20:58:38.128646Z",
     "shell.execute_reply.started": "2023-08-17T20:58:38.124862Z"
    }
   },
   "outputs": [],
   "source": [
    "def snn_512(x):\n",
    "    \n",
    "    x = hk.BatchApply(hk.Linear(512, with_bias=False))(x)\n",
    "    \n",
    "    core = hk.DeepRNN([\n",
    "        snn.LIF((512,), activation=surrogate),\n",
    "        hk.Linear(512, with_bias=False),\n",
    "        snn.LIF((512,), activation=surrogate),\n",
    "        hk.Linear(20, with_bias=False),\n",
    "        snn.LI((20,))\n",
    "    ])\n",
    "    \n",
    "    # static unroll for maximum performance\n",
    "    spikes, V = hk.dynamic_unroll(core, x, core.initial_state(x.shape[0]), time_major=False, unroll=16)\n",
    "    \n",
    "    return spikes, V"
   ]
  },
  {
   "cell_type": "code",
   "execution_count": 11,
   "id": "e32e514a",
   "metadata": {
    "execution": {
     "iopub.execute_input": "2023-08-17T20:58:38.130126Z",
     "iopub.status.busy": "2023-08-17T20:58:38.129935Z",
     "iopub.status.idle": "2023-08-17T20:58:46.278493Z",
     "shell.execute_reply": "2023-08-17T20:58:46.277637Z",
     "shell.execute_reply.started": "2023-08-17T20:58:38.130103Z"
    }
   },
   "outputs": [],
   "source": [
    "key = jax.random.PRNGKey(0)\n",
    "# Since there's nothing stochastic about the network, we can avoid using an RNG as a param!\n",
    "SNN_64 = hk.without_apply_rng(hk.transform(snn_64))\n",
    "params_64 = SNN_64.init(rng=key, x=x[0])"
   ]
  },
  {
   "cell_type": "code",
   "execution_count": 12,
   "id": "85321879",
   "metadata": {
    "execution": {
     "iopub.execute_input": "2023-08-17T20:58:46.280010Z",
     "iopub.status.busy": "2023-08-17T20:58:46.279519Z",
     "iopub.status.idle": "2023-08-17T20:58:50.904698Z",
     "shell.execute_reply": "2023-08-17T20:58:50.903907Z",
     "shell.execute_reply.started": "2023-08-17T20:58:46.279989Z"
    }
   },
   "outputs": [],
   "source": [
    "key = jax.random.PRNGKey(0)\n",
    "# Since there's nothing stochastic about the network, we can avoid using an RNG as a param!\n",
    "SNN_128 = hk.without_apply_rng(hk.transform(snn_128))\n",
    "params_128 = SNN_128.init(rng=key, x=x[0])"
   ]
  },
  {
   "cell_type": "code",
   "execution_count": 13,
   "id": "9945035f",
   "metadata": {
    "execution": {
     "iopub.execute_input": "2023-08-17T20:58:50.906389Z",
     "iopub.status.busy": "2023-08-17T20:58:50.905790Z",
     "iopub.status.idle": "2023-08-17T20:58:55.773715Z",
     "shell.execute_reply": "2023-08-17T20:58:55.772627Z",
     "shell.execute_reply.started": "2023-08-17T20:58:50.906365Z"
    }
   },
   "outputs": [],
   "source": [
    "key = jax.random.PRNGKey(0)\n",
    "# Since there's nothing stochastic about the network, we can avoid using an RNG as a param!\n",
    "SNN_256 = hk.without_apply_rng(hk.transform(snn_256))\n",
    "params_256 = SNN_256.init(rng=key, x=x[0])"
   ]
  },
  {
   "cell_type": "code",
   "execution_count": 14,
   "id": "bcf31cb0-d691-459c-a444-a2bcf02880ab",
   "metadata": {
    "execution": {
     "iopub.execute_input": "2023-08-17T20:58:55.777169Z",
     "iopub.status.busy": "2023-08-17T20:58:55.776501Z",
     "iopub.status.idle": "2023-08-17T20:58:59.984246Z",
     "shell.execute_reply": "2023-08-17T20:58:59.983462Z",
     "shell.execute_reply.started": "2023-08-17T20:58:55.777146Z"
    }
   },
   "outputs": [],
   "source": [
    "key = jax.random.PRNGKey(0)\n",
    "# Since there's nothing stochastic about the network, we can avoid using an RNG as a param!\n",
    "SNN_512 = hk.without_apply_rng(hk.transform(snn_512))\n",
    "params_512 = SNN_512.init(rng=key, x=x[0])"
   ]
  },
  {
   "cell_type": "code",
   "execution_count": 15,
   "id": "aa93e1f4",
   "metadata": {
    "execution": {
     "iopub.execute_input": "2023-08-17T20:58:59.985533Z",
     "iopub.status.busy": "2023-08-17T20:58:59.985234Z",
     "iopub.status.idle": "2023-08-17T20:58:59.995653Z",
     "shell.execute_reply": "2023-08-17T20:58:59.994768Z",
     "shell.execute_reply.started": "2023-08-17T20:58:59.985512Z"
    }
   },
   "outputs": [],
   "source": [
    "def gd(SNN, params, dl, epochs=300, schedule=4e-4):\n",
    "    \n",
    "    aug = spyx.data.shift_augment(max_shift=36) # need to make this stateless\n",
    "\n",
    "    opt = optax.chain(\n",
    "        optax.centralize(),\n",
    "        optax.lion(learning_rate=schedule),\n",
    "    )\n",
    "    # create and initialize the optimizer\n",
    "    opt_state = opt.init(params)\n",
    "    grad_params = params\n",
    "        \n",
    "    # define and compile our eval function that computes the loss for our SNN\n",
    "    @jax.jit\n",
    "    def net_eval(weights, events, targets):\n",
    "        readout = SNN.apply(weights, events)\n",
    "        traces, V_f = readout\n",
    "        return spyx.fn.integral_crossentropy(traces, targets)\n",
    "        \n",
    "    # Use JAX to create a function that calculates the loss and the gradient!\n",
    "    surrogate_grad = jax.value_and_grad(net_eval) \n",
    "        \n",
    "    rng = jax.random.PRNGKey(0)        \n",
    "    \n",
    "    # compile the meat of our training loop for speed\n",
    "    @jax.jit\n",
    "    def train_step(state, data):\n",
    "        grad_params, opt_state = state\n",
    "        events, targets = data # fix this\n",
    "        events = jnp.unpackbits(events, axis=1) # decompress temporal axis\n",
    "        # compute loss and gradient                    # need better augment rng\n",
    "        loss, grads = surrogate_grad(grad_params, aug(events, jax.random.fold_in(rng,jnp.sum(targets))), targets)\n",
    "        # generate updates based on the gradients and optimizer\n",
    "        updates, opt_state = opt.update(grads, opt_state, grad_params)\n",
    "        # return the updated parameters\n",
    "        new_state = [optax.apply_updates(grad_params, updates), opt_state]\n",
    "        return new_state, loss\n",
    "    \n",
    "    # For validation epochs, do the same as before but compute the\n",
    "    # accuracy, predictions and losses (no gradients needed)\n",
    "    @jax.jit\n",
    "    def eval_step(grad_params, data):\n",
    "        events, targets = data # fix\n",
    "        events = jnp.unpackbits(events, axis=1)\n",
    "        readout = SNN.apply(grad_params, events)\n",
    "        traces, V_f = readout\n",
    "        acc, pred = spyx.fn.integral_accuracy(traces, targets)\n",
    "        loss = spyx.fn.integral_crossentropy(traces, targets)\n",
    "        return grad_params, jnp.array([acc, loss])\n",
    "        \n",
    "    \n",
    "    val_data = dl.val_epoch()\n",
    "    \n",
    "    # Here's the start of our training loop!\n",
    "    @scan_tqdm(epochs)\n",
    "    def epoch(epoch_state, epoch_num):\n",
    "        curr_params, curr_opt_state = epoch_state\n",
    "        \n",
    "        shuffle_rng = jax.random.fold_in(rng, epoch_num)\n",
    "        train_data = dl.train_epoch(shuffle_rng)\n",
    "        \n",
    "        # train epoch\n",
    "        end_state, train_loss = jax.lax.scan(\n",
    "            train_step,# func\n",
    "            [curr_params, curr_opt_state],# init\n",
    "            train_data,# xs\n",
    "            train_data.obs.shape[0]# len\n",
    "        )\n",
    "        \n",
    "        new_params, _ = end_state\n",
    "            \n",
    "        # val epoch\n",
    "        _, val_metrics = jax.lax.scan(\n",
    "            eval_step,# func\n",
    "            new_params,# init\n",
    "            val_data,# xs\n",
    "            val_data.obs.shape[0]# len\n",
    "        )\n",
    "\n",
    "        \n",
    "        return end_state, jnp.concatenate([jnp.expand_dims(jnp.mean(train_loss),0), jnp.mean(val_metrics, axis=0)])\n",
    "    # end epoch\n",
    "    \n",
    "    # epoch loop\n",
    "    final_state, metrics = jax.lax.scan(\n",
    "        epoch,\n",
    "        [grad_params, opt_state], # metric arrays\n",
    "        jnp.arange(epochs), # \n",
    "        epochs # len of loop\n",
    "    )\n",
    "    \n",
    "    final_params, _ = final_state\n",
    "    \n",
    "                \n",
    "    # return our final, optimized network.       \n",
    "    return final_params, metrics"
   ]
  },
  {
   "cell_type": "code",
   "execution_count": 16,
   "id": "f5eb4fb2",
   "metadata": {
    "execution": {
     "iopub.execute_input": "2023-08-17T20:58:59.997039Z",
     "iopub.status.busy": "2023-08-17T20:58:59.996841Z",
     "iopub.status.idle": "2023-08-17T20:59:00.002571Z",
     "shell.execute_reply": "2023-08-17T20:59:00.001817Z",
     "shell.execute_reply.started": "2023-08-17T20:58:59.997020Z"
    }
   },
   "outputs": [],
   "source": [
    "def test_gd(SNN, params, dl):\n",
    "\n",
    "    @jax.jit\n",
    "    def test_step(params, data):\n",
    "        events, targets = data\n",
    "        events = jnp.unpackbits(events, axis=1)\n",
    "        readout = SNN.apply(params, events)\n",
    "        traces, V_f = readout\n",
    "        acc, pred = spyx.fn.integral_accuracy(traces, targets)\n",
    "        loss = spyx.fn.integral_crossentropy(traces, targets)\n",
    "        return params, [acc, loss, pred, targets]\n",
    "    \n",
    "    test_data = dl.test_epoch()\n",
    "    \n",
    "    _, test_metrics = jax.lax.scan(\n",
    "            test_step,# func\n",
    "            params,# init\n",
    "            test_data,# xs\n",
    "            test_data.obs.shape[0]# len\n",
    "    )\n",
    "    \n",
    "    acc = jnp.mean(test_metrics[0])\n",
    "    loss = jnp.mean(test_metrics[1])\n",
    "    preds = jnp.array(test_metrics[2]).flatten()\n",
    "    tgts = jnp.array(test_metrics[3]).flatten()\n",
    "    return acc, loss, preds, tgts"
   ]
  },
  {
   "cell_type": "code",
   "execution_count": 17,
   "id": "f0e2626a-2ce8-4759-ae43-b0e0756cbd22",
   "metadata": {
    "execution": {
     "iopub.execute_input": "2023-08-17T20:59:00.003588Z",
     "iopub.status.busy": "2023-08-17T20:59:00.003396Z",
     "iopub.status.idle": "2023-08-17T20:59:00.006774Z",
     "shell.execute_reply": "2023-08-17T20:59:00.005951Z",
     "shell.execute_reply.started": "2023-08-17T20:59:00.003570Z"
    }
   },
   "outputs": [],
   "source": [
    "from time import time"
   ]
  },
  {
   "cell_type": "code",
   "execution_count": 18,
   "id": "ec1565db",
   "metadata": {
    "execution": {
     "iopub.execute_input": "2023-08-17T20:59:00.007745Z",
     "iopub.status.busy": "2023-08-17T20:59:00.007570Z",
     "iopub.status.idle": "2023-08-17T21:00:29.406814Z",
     "shell.execute_reply": "2023-08-17T21:00:29.406045Z",
     "shell.execute_reply.started": "2023-08-17T20:59:00.007728Z"
    },
    "scrolled": true
   },
   "outputs": [
    {
     "data": {
      "application/vnd.jupyter.widget-view+json": {
       "model_id": "7a2fc130d96344aa9491b2e40d3003c0",
       "version_major": 2,
       "version_minor": 0
      },
      "text/plain": [
       "  0%|          | 0/500 [00:00<?, ?it/s]"
      ]
     },
     "metadata": {},
     "output_type": "display_data"
    },
    {
     "name": "stdout",
     "output_type": "stream",
     "text": [
      "89.39533019065857 seconds elapsed\n"
     ]
    }
   ],
   "source": [
    "schedule = 2e-4\n",
    "\n",
    "start = time()\n",
    "grad_params_64, metrics_64 = gd(SNN_64, params_64, shd_dl, epochs=500, schedule=schedule) # :36 seconds for loop.\n",
    "total = time() - start\n",
    "print(total, \"seconds elapsed\")"
   ]
  },
  {
   "cell_type": "code",
   "execution_count": 19,
   "id": "086d0b93-b814-4d61-927e-1c1637f34ca9",
   "metadata": {
    "execution": {
     "iopub.execute_input": "2023-08-17T21:00:29.408267Z",
     "iopub.status.busy": "2023-08-17T21:00:29.407795Z",
     "iopub.status.idle": "2023-08-17T21:00:29.621016Z",
     "shell.execute_reply": "2023-08-17T21:00:29.620335Z",
     "shell.execute_reply.started": "2023-08-17T21:00:29.408244Z"
    }
   },
   "outputs": [
    {
     "name": "stdout",
     "output_type": "stream",
     "text": [
      "Performance: train_loss=1.80653715133667, val_acc=0.90625, val_loss=1.7939739227294922\n"
     ]
    }
   ],
   "source": [
    "print(\"Performance: train_loss={}, val_acc={}, val_loss={}\".format(*metrics_64[-1]))"
   ]
  },
  {
   "cell_type": "code",
   "execution_count": 20,
   "id": "b23e91c4",
   "metadata": {
    "execution": {
     "iopub.execute_input": "2023-08-17T21:00:29.622222Z",
     "iopub.status.busy": "2023-08-17T21:00:29.621916Z",
     "iopub.status.idle": "2023-08-17T21:02:08.783333Z",
     "shell.execute_reply": "2023-08-17T21:02:08.782494Z",
     "shell.execute_reply.started": "2023-08-17T21:00:29.622194Z"
    },
    "scrolled": true
   },
   "outputs": [
    {
     "data": {
      "application/vnd.jupyter.widget-view+json": {
       "model_id": "098b97f0addd4ccf916523decd2f3662",
       "version_major": 2,
       "version_minor": 0
      },
      "text/plain": [
       "  0%|          | 0/500 [00:00<?, ?it/s]"
      ]
     },
     "metadata": {},
     "output_type": "display_data"
    },
    {
     "name": "stdout",
     "output_type": "stream",
     "text": [
      "99.15653967857361 seconds elapsed\n"
     ]
    }
   ],
   "source": [
    "schedule = 1e-4\n",
    "\n",
    "start = time()\n",
    "grad_params_128, metrics_128 = gd(SNN_128, params_128, shd_dl, epochs=500, schedule=schedule) # :42 seconds for loop\n",
    "total = time() - start\n",
    "print(total, \"seconds elapsed\")"
   ]
  },
  {
   "cell_type": "code",
   "execution_count": 21,
   "id": "e6748c51",
   "metadata": {
    "execution": {
     "iopub.execute_input": "2023-08-17T21:02:08.784431Z",
     "iopub.status.busy": "2023-08-17T21:02:08.784227Z",
     "iopub.status.idle": "2023-08-17T21:02:08.791553Z",
     "shell.execute_reply": "2023-08-17T21:02:08.790786Z",
     "shell.execute_reply.started": "2023-08-17T21:02:08.784412Z"
    }
   },
   "outputs": [
    {
     "name": "stdout",
     "output_type": "stream",
     "text": [
      "Performance: train_loss=1.739546775817871, val_acc=0.9283854365348816, val_loss=1.7513251304626465\n"
     ]
    }
   ],
   "source": [
    "print(\"Performance: train_loss={}, val_acc={}, val_loss={}\".format(*metrics_128[-1]))"
   ]
  },
  {
   "cell_type": "code",
   "execution_count": 29,
   "id": "ead3d1f3",
   "metadata": {
    "execution": {
     "iopub.execute_input": "2023-08-17T21:10:53.097524Z",
     "iopub.status.busy": "2023-08-17T21:10:53.096933Z",
     "iopub.status.idle": "2023-08-17T21:13:00.616261Z",
     "shell.execute_reply": "2023-08-17T21:13:00.615389Z",
     "shell.execute_reply.started": "2023-08-17T21:10:53.097496Z"
    },
    "scrolled": true
   },
   "outputs": [
    {
     "data": {
      "application/vnd.jupyter.widget-view+json": {
       "model_id": "4de14b0c75c34feba24810221117f708",
       "version_major": 2,
       "version_minor": 0
      },
      "text/plain": [
       "  0%|          | 0/500 [00:00<?, ?it/s]"
      ]
     },
     "metadata": {},
     "output_type": "display_data"
    },
    {
     "name": "stdout",
     "output_type": "stream",
     "text": [
      "127.50967764854431 seconds elapsed\n"
     ]
    }
   ],
   "source": [
    "schedule = 1e-4\n",
    "\n",
    "start = time()\n",
    "grad_params_256, metrics_256 = gd(SNN_256, params_256, shd_dl, epochs=500, schedule=schedule) # :54 seconds for loop\n",
    "total = time() - start\n",
    "print(total, \"seconds elapsed\")"
   ]
  },
  {
   "cell_type": "code",
   "execution_count": 30,
   "id": "ee0db09e",
   "metadata": {
    "execution": {
     "iopub.execute_input": "2023-08-17T21:13:00.618242Z",
     "iopub.status.busy": "2023-08-17T21:13:00.617624Z",
     "iopub.status.idle": "2023-08-17T21:13:00.623822Z",
     "shell.execute_reply": "2023-08-17T21:13:00.623140Z",
     "shell.execute_reply.started": "2023-08-17T21:13:00.618206Z"
    }
   },
   "outputs": [
    {
     "name": "stdout",
     "output_type": "stream",
     "text": [
      "Performance: train_loss=1.7352452278137207, val_acc=0.912109375, val_loss=1.7512859106063843\n"
     ]
    }
   ],
   "source": [
    "print(\"Performance: train_loss={}, val_acc={}, val_loss={}\".format(*metrics_256[-1]))"
   ]
  },
  {
   "cell_type": "code",
   "execution_count": 24,
   "id": "c395a1d3-d1cf-4b9d-adbe-740c7afff69d",
   "metadata": {
    "execution": {
     "iopub.execute_input": "2023-08-17T21:04:16.539253Z",
     "iopub.status.busy": "2023-08-17T21:04:16.539005Z",
     "iopub.status.idle": "2023-08-17T21:07:33.380329Z",
     "shell.execute_reply": "2023-08-17T21:07:33.379424Z",
     "shell.execute_reply.started": "2023-08-17T21:04:16.539222Z"
    },
    "scrolled": true
   },
   "outputs": [
    {
     "data": {
      "application/vnd.jupyter.widget-view+json": {
       "model_id": "23d51ec1e8b342d8806a4a9cc6016112",
       "version_major": 2,
       "version_minor": 0
      },
      "text/plain": [
       "  0%|          | 0/500 [00:00<?, ?it/s]"
      ]
     },
     "metadata": {},
     "output_type": "display_data"
    },
    {
     "name": "stdout",
     "output_type": "stream",
     "text": [
      "196.83657598495483 seconds elapsed\n"
     ]
    }
   ],
   "source": [
    "schedule = .5e-4\n",
    "\n",
    "start = time()\n",
    "grad_params_512, metrics_512 = gd(SNN_512, params_512, shd_dl, epochs=500, schedule=schedule) # :42 seconds for loop\n",
    "total = time() - start\n",
    "print(total, \"seconds elapsed\")"
   ]
  },
  {
   "cell_type": "code",
   "execution_count": 25,
   "id": "ae904f3d-724a-4958-bce8-0dd23805859d",
   "metadata": {
    "execution": {
     "iopub.execute_input": "2023-08-17T21:07:33.381662Z",
     "iopub.status.busy": "2023-08-17T21:07:33.381453Z",
     "iopub.status.idle": "2023-08-17T21:07:33.388299Z",
     "shell.execute_reply": "2023-08-17T21:07:33.387469Z",
     "shell.execute_reply.started": "2023-08-17T21:07:33.381643Z"
    }
   },
   "outputs": [
    {
     "name": "stdout",
     "output_type": "stream",
     "text": [
      "Performance: train_loss=1.7533361911773682, val_acc=0.935546875, val_loss=1.7347697019577026\n"
     ]
    }
   ],
   "source": [
    "print(\"Performance: train_loss={}, val_acc={}, val_loss={}\".format(*metrics_512[-1]))"
   ]
  },
  {
   "cell_type": "markdown",
   "id": "959b79e4",
   "metadata": {},
   "source": [
    "## Evaluation Time\n",
    "\n",
    "Now we'll run the network on the test set and see what happens:"
   ]
  },
  {
   "cell_type": "code",
   "execution_count": 32,
   "id": "6a9716b6",
   "metadata": {
    "execution": {
     "iopub.execute_input": "2023-08-17T21:16:20.801394Z",
     "iopub.status.busy": "2023-08-17T21:16:20.800602Z",
     "iopub.status.idle": "2023-08-17T21:16:22.921027Z",
     "shell.execute_reply": "2023-08-17T21:16:22.920287Z",
     "shell.execute_reply.started": "2023-08-17T21:16:20.801361Z"
    },
    "scrolled": true
   },
   "outputs": [
    {
     "name": "stdout",
     "output_type": "stream",
     "text": [
      "Accuracy: 0.82128906 Loss: 1.9170606\n"
     ]
    }
   ],
   "source": [
    "acc, loss, preds, tgts = test_gd(SNN_128, grad_params_128, shd_dl)\n",
    "print(\"Accuracy:\", acc, \"Loss:\", loss)"
   ]
  },
  {
   "cell_type": "code",
   "execution_count": null,
   "id": "2349676d",
   "metadata": {},
   "outputs": [],
   "source": []
  }
 ],
 "metadata": {
  "kernelspec": {
   "display_name": "Python 3 (ipykernel)",
   "language": "python",
   "name": "python3"
  },
  "language_info": {
   "codemirror_mode": {
    "name": "ipython",
    "version": 3
   },
   "file_extension": ".py",
   "mimetype": "text/x-python",
   "name": "python",
   "nbconvert_exporter": "python",
   "pygments_lexer": "ipython3",
   "version": "3.9.16"
  }
 },
 "nbformat": 4,
 "nbformat_minor": 5
}
