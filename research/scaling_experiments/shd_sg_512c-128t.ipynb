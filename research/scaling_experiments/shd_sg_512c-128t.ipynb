{
 "cells": [
  {
   "cell_type": "markdown",
   "id": "fd3a7575",
   "metadata": {},
   "source": [
    "# Training an SNN using surrogate gradients! 72c128t\n",
    "\n",
    "\n",
    "Train your first SNN in JAX in less than 10 minutes without needing a heavy-duty GPU!"
   ]
  },
  {
   "cell_type": "code",
   "execution_count": 1,
   "id": "3cf6fa71",
   "metadata": {
    "execution": {
     "iopub.execute_input": "2023-08-17T15:05:09.538131Z",
     "iopub.status.busy": "2023-08-17T15:05:09.537498Z",
     "iopub.status.idle": "2023-08-17T15:05:11.535082Z",
     "shell.execute_reply": "2023-08-17T15:05:11.534437Z",
     "shell.execute_reply.started": "2023-08-17T15:05:09.538099Z"
    }
   },
   "outputs": [],
   "source": [
    "import spyx\n",
    "import spyx.nn as snn\n",
    "\n",
    "# JAX imports\n",
    "import jax\n",
    "from jax import numpy as jnp\n",
    "import jmp\n",
    "import numpy as np\n",
    "\n",
    "from jax_tqdm import scan_tqdm\n",
    "from tqdm import tqdm\n",
    "\n",
    "# implement our SNN in DeepMind's Haiku\n",
    "import haiku as hk\n",
    "\n",
    "# for surrogate loss training.\n",
    "import optax\n",
    "\n",
    "# rendering tools\n",
    "import matplotlib.pyplot as plt\n",
    "from sklearn.metrics import confusion_matrix, ConfusionMatrixDisplay\n",
    "%matplotlib notebook"
   ]
  },
  {
   "cell_type": "code",
   "execution_count": 2,
   "id": "9bfdcd58",
   "metadata": {
    "execution": {
     "iopub.execute_input": "2023-08-17T15:05:11.536754Z",
     "iopub.status.busy": "2023-08-17T15:05:11.536357Z",
     "iopub.status.idle": "2023-08-17T15:05:11.675870Z",
     "shell.execute_reply": "2023-08-17T15:05:11.675189Z",
     "shell.execute_reply.started": "2023-08-17T15:05:11.536754Z"
    }
   },
   "outputs": [],
   "source": [
    "policy = jmp.get_policy('half')\n",
    "\n",
    "\n",
    "hk.mixed_precision.set_policy(hk.Linear, policy)\n",
    "hk.mixed_precision.set_policy(snn.LIF, policy)\n",
    "hk.mixed_precision.set_policy(snn.LI, policy)"
   ]
  },
  {
   "cell_type": "code",
   "execution_count": 3,
   "id": "6573ba59",
   "metadata": {
    "execution": {
     "iopub.execute_input": "2023-08-17T15:05:11.677172Z",
     "iopub.status.busy": "2023-08-17T15:05:11.676708Z",
     "iopub.status.idle": "2023-08-17T15:06:07.936042Z",
     "shell.execute_reply": "2023-08-17T15:06:07.935400Z",
     "shell.execute_reply.started": "2023-08-17T15:05:11.677160Z"
    }
   },
   "outputs": [],
   "source": [
    "shd_dl = spyx.data.SHD_loader(256,128,512)"
   ]
  },
  {
   "cell_type": "code",
   "execution_count": 4,
   "id": "e5d127b3",
   "metadata": {
    "execution": {
     "iopub.execute_input": "2023-08-17T15:06:07.938131Z",
     "iopub.status.busy": "2023-08-17T15:06:07.937877Z",
     "iopub.status.idle": "2023-08-17T15:06:10.621062Z",
     "shell.execute_reply": "2023-08-17T15:06:10.620336Z",
     "shell.execute_reply.started": "2023-08-17T15:06:07.938112Z"
    }
   },
   "outputs": [],
   "source": [
    "key = jax.random.PRNGKey(0)\n",
    "x, y = shd_dl.train_epoch(key)"
   ]
  },
  {
   "cell_type": "code",
   "execution_count": 5,
   "id": "df9bc18e",
   "metadata": {
    "execution": {
     "iopub.execute_input": "2023-08-17T15:06:10.622872Z",
     "iopub.status.busy": "2023-08-17T15:06:10.622683Z",
     "iopub.status.idle": "2023-08-17T15:06:10.627641Z",
     "shell.execute_reply": "2023-08-17T15:06:10.626997Z",
     "shell.execute_reply.started": "2023-08-17T15:06:10.622855Z"
    }
   },
   "outputs": [
    {
     "data": {
      "text/plain": [
       "(25, 256)"
      ]
     },
     "execution_count": 5,
     "metadata": {},
     "output_type": "execute_result"
    }
   ],
   "source": [
    "y.shape"
   ]
  },
  {
   "cell_type": "code",
   "execution_count": 6,
   "id": "f8e82dbb-fbcd-4510-a4ee-2db9a659dfe5",
   "metadata": {
    "execution": {
     "iopub.execute_input": "2023-08-17T15:06:10.629019Z",
     "iopub.status.busy": "2023-08-17T15:06:10.628718Z",
     "iopub.status.idle": "2023-08-17T15:06:10.631980Z",
     "shell.execute_reply": "2023-08-17T15:06:10.631341Z",
     "shell.execute_reply.started": "2023-08-17T15:06:10.629000Z"
    }
   },
   "outputs": [],
   "source": [
    "surrogate = spyx.axn.Axon(spyx.axn.arctan())"
   ]
  },
  {
   "cell_type": "code",
   "execution_count": 7,
   "id": "1e9ee900",
   "metadata": {
    "execution": {
     "iopub.execute_input": "2023-08-17T15:06:10.632863Z",
     "iopub.status.busy": "2023-08-17T15:06:10.632691Z",
     "iopub.status.idle": "2023-08-17T15:06:10.637226Z",
     "shell.execute_reply": "2023-08-17T15:06:10.636649Z",
     "shell.execute_reply.started": "2023-08-17T15:06:10.632851Z"
    }
   },
   "outputs": [],
   "source": [
    "def snn_64(x):\n",
    "    \n",
    "    x = hk.BatchApply(hk.Linear(64, with_bias=False))(x)\n",
    "    \n",
    "    core = hk.DeepRNN([\n",
    "        snn.LIF((64,), activation=surrogate),\n",
    "        hk.Linear(64, with_bias=False),\n",
    "        snn.LIF((64,), activation=surrogate),\n",
    "        hk.Linear(20, with_bias=False),\n",
    "        snn.LI((20,))\n",
    "    ])\n",
    "    \n",
    "    # static unroll for maximum performance\n",
    "    spikes, V = hk.dynamic_unroll(core, x, core.initial_state(x.shape[0]), time_major=False, unroll=16)\n",
    "    \n",
    "    return spikes, V"
   ]
  },
  {
   "cell_type": "code",
   "execution_count": 8,
   "id": "59302989",
   "metadata": {
    "execution": {
     "iopub.execute_input": "2023-08-17T15:06:10.638254Z",
     "iopub.status.busy": "2023-08-17T15:06:10.638080Z",
     "iopub.status.idle": "2023-08-17T15:06:10.642556Z",
     "shell.execute_reply": "2023-08-17T15:06:10.641965Z",
     "shell.execute_reply.started": "2023-08-17T15:06:10.638238Z"
    }
   },
   "outputs": [],
   "source": [
    "def snn_128(x):\n",
    "    \n",
    "    x = hk.BatchApply(hk.Linear(128, with_bias=False))(x)\n",
    "    \n",
    "    core = hk.DeepRNN([\n",
    "        snn.LIF((128,), activation=surrogate),\n",
    "        hk.Linear(128, with_bias=False),\n",
    "        snn.LIF((128,), activation=surrogate),\n",
    "        hk.Linear(20, with_bias=False),\n",
    "        snn.LI((20,))\n",
    "    ])\n",
    "    \n",
    "    # static unroll for maximum performance\n",
    "    spikes, V = hk.dynamic_unroll(core, x, core.initial_state(x.shape[0]), time_major=False, unroll=16)\n",
    "    \n",
    "    return spikes, V"
   ]
  },
  {
   "cell_type": "code",
   "execution_count": 9,
   "id": "6946dd93",
   "metadata": {
    "execution": {
     "iopub.execute_input": "2023-08-17T15:06:10.643413Z",
     "iopub.status.busy": "2023-08-17T15:06:10.643246Z",
     "iopub.status.idle": "2023-08-17T15:06:10.647890Z",
     "shell.execute_reply": "2023-08-17T15:06:10.647300Z",
     "shell.execute_reply.started": "2023-08-17T15:06:10.643398Z"
    }
   },
   "outputs": [],
   "source": [
    "def snn_256(x):\n",
    "    \n",
    "    x = hk.BatchApply(hk.Linear(256, with_bias=False))(x)\n",
    "    \n",
    "    core = hk.DeepRNN([\n",
    "        snn.LIF((256,), activation=surrogate),\n",
    "        hk.Linear(256, with_bias=False),\n",
    "        snn.LIF((256,), activation=surrogate),\n",
    "        hk.Linear(20, with_bias=False),\n",
    "        snn.LI((20,))\n",
    "    ])\n",
    "    \n",
    "    # static unroll for maximum performance\n",
    "    spikes, V = hk.dynamic_unroll(core, x, core.initial_state(x.shape[0]), time_major=False, unroll=16)\n",
    "    \n",
    "    return spikes, V"
   ]
  },
  {
   "cell_type": "code",
   "execution_count": 10,
   "id": "81f72d47-601b-4408-b6fb-36f60d8b6426",
   "metadata": {
    "execution": {
     "iopub.execute_input": "2023-08-17T15:06:10.648823Z",
     "iopub.status.busy": "2023-08-17T15:06:10.648656Z",
     "iopub.status.idle": "2023-08-17T15:06:10.653633Z",
     "shell.execute_reply": "2023-08-17T15:06:10.652926Z",
     "shell.execute_reply.started": "2023-08-17T15:06:10.648808Z"
    }
   },
   "outputs": [],
   "source": [
    "def snn_512(x):\n",
    "    \n",
    "    x = hk.BatchApply(hk.Linear(512, with_bias=False))(x)\n",
    "    \n",
    "    core = hk.DeepRNN([\n",
    "        snn.LIF((512,), activation=surrogate),\n",
    "        hk.Linear(512, with_bias=False),\n",
    "        snn.LIF((512,), activation=surrogate),\n",
    "        hk.Linear(20, with_bias=False),\n",
    "        snn.LI((20,))\n",
    "    ])\n",
    "    \n",
    "    # static unroll for maximum performance\n",
    "    spikes, V = hk.dynamic_unroll(core, x, core.initial_state(x.shape[0]), time_major=False, unroll=16)\n",
    "    \n",
    "    return spikes, V"
   ]
  },
  {
   "cell_type": "code",
   "execution_count": 11,
   "id": "e32e514a",
   "metadata": {
    "execution": {
     "iopub.execute_input": "2023-08-17T15:06:10.654600Z",
     "iopub.status.busy": "2023-08-17T15:06:10.654327Z",
     "iopub.status.idle": "2023-08-17T15:06:15.617258Z",
     "shell.execute_reply": "2023-08-17T15:06:15.616657Z",
     "shell.execute_reply.started": "2023-08-17T15:06:10.654577Z"
    }
   },
   "outputs": [],
   "source": [
    "key = jax.random.PRNGKey(0)\n",
    "# Since there's nothing stochastic about the network, we can avoid using an RNG as a param!\n",
    "SNN_64 = hk.without_apply_rng(hk.transform(snn_64))\n",
    "params_64 = SNN_64.init(rng=key, x=x[0])"
   ]
  },
  {
   "cell_type": "code",
   "execution_count": 12,
   "id": "85321879",
   "metadata": {
    "execution": {
     "iopub.execute_input": "2023-08-17T15:06:15.618363Z",
     "iopub.status.busy": "2023-08-17T15:06:15.618177Z",
     "iopub.status.idle": "2023-08-17T15:06:18.338894Z",
     "shell.execute_reply": "2023-08-17T15:06:18.338360Z",
     "shell.execute_reply.started": "2023-08-17T15:06:15.618346Z"
    }
   },
   "outputs": [],
   "source": [
    "key = jax.random.PRNGKey(0)\n",
    "# Since there's nothing stochastic about the network, we can avoid using an RNG as a param!\n",
    "SNN_128 = hk.without_apply_rng(hk.transform(snn_128))\n",
    "params_128 = SNN_128.init(rng=key, x=x[0])"
   ]
  },
  {
   "cell_type": "code",
   "execution_count": 13,
   "id": "9945035f",
   "metadata": {
    "execution": {
     "iopub.execute_input": "2023-08-17T15:06:18.340372Z",
     "iopub.status.busy": "2023-08-17T15:06:18.339695Z",
     "iopub.status.idle": "2023-08-17T15:06:20.998793Z",
     "shell.execute_reply": "2023-08-17T15:06:20.998038Z",
     "shell.execute_reply.started": "2023-08-17T15:06:18.340351Z"
    }
   },
   "outputs": [],
   "source": [
    "key = jax.random.PRNGKey(0)\n",
    "# Since there's nothing stochastic about the network, we can avoid using an RNG as a param!\n",
    "SNN_256 = hk.without_apply_rng(hk.transform(snn_256))\n",
    "params_256 = SNN_256.init(rng=key, x=x[0])"
   ]
  },
  {
   "cell_type": "code",
   "execution_count": 14,
   "id": "bcf31cb0-d691-459c-a444-a2bcf02880ab",
   "metadata": {
    "execution": {
     "iopub.execute_input": "2023-08-17T15:06:21.001654Z",
     "iopub.status.busy": "2023-08-17T15:06:21.001427Z",
     "iopub.status.idle": "2023-08-17T15:06:23.322037Z",
     "shell.execute_reply": "2023-08-17T15:06:23.321422Z",
     "shell.execute_reply.started": "2023-08-17T15:06:21.001631Z"
    }
   },
   "outputs": [],
   "source": [
    "key = jax.random.PRNGKey(0)\n",
    "# Since there's nothing stochastic about the network, we can avoid using an RNG as a param!\n",
    "SNN_512 = hk.without_apply_rng(hk.transform(snn_512))\n",
    "params_512 = SNN_512.init(rng=key, x=x[0])"
   ]
  },
  {
   "cell_type": "code",
   "execution_count": 15,
   "id": "aa93e1f4",
   "metadata": {
    "execution": {
     "iopub.execute_input": "2023-08-17T15:06:23.323466Z",
     "iopub.status.busy": "2023-08-17T15:06:23.323274Z",
     "iopub.status.idle": "2023-08-17T15:06:23.332707Z",
     "shell.execute_reply": "2023-08-17T15:06:23.332092Z",
     "shell.execute_reply.started": "2023-08-17T15:06:23.323449Z"
    }
   },
   "outputs": [],
   "source": [
    "def gd(SNN, params, dl, epochs=300, schedule=4e-4):\n",
    "    \n",
    "    aug = spyx.data.shift_augment(max_shift=32) # need to make this stateless\n",
    "\n",
    "    opt = optax.chain(\n",
    "        optax.centralize(),\n",
    "        optax.lion(learning_rate=schedule),\n",
    "    )\n",
    "    # create and initialize the optimizer\n",
    "    opt_state = opt.init(params)\n",
    "    grad_params = params\n",
    "        \n",
    "    # define and compile our eval function that computes the loss for our SNN\n",
    "    @jax.jit\n",
    "    def net_eval(weights, events, targets):\n",
    "        readout = SNN.apply(weights, events)\n",
    "        traces, V_f = readout\n",
    "        return spyx.fn.integral_crossentropy(traces, targets)\n",
    "        \n",
    "    # Use JAX to create a function that calculates the loss and the gradient!\n",
    "    surrogate_grad = jax.value_and_grad(net_eval) \n",
    "        \n",
    "    rng = jax.random.PRNGKey(0)        \n",
    "    \n",
    "    # compile the meat of our training loop for speed\n",
    "    @jax.jit\n",
    "    def train_step(state, data):\n",
    "        grad_params, opt_state = state\n",
    "        events, targets = data # fix this\n",
    "        events = jnp.unpackbits(events, axis=1) # decompress temporal axis\n",
    "        # compute loss and gradient                    # need better augment rng\n",
    "        loss, grads = surrogate_grad(grad_params, aug(events, jax.random.fold_in(rng,jnp.sum(targets))), targets)\n",
    "        # generate updates based on the gradients and optimizer\n",
    "        updates, opt_state = opt.update(grads, opt_state, grad_params)\n",
    "        # return the updated parameters\n",
    "        new_state = [optax.apply_updates(grad_params, updates), opt_state]\n",
    "        return new_state, loss\n",
    "    \n",
    "    # For validation epochs, do the same as before but compute the\n",
    "    # accuracy, predictions and losses (no gradients needed)\n",
    "    @jax.jit\n",
    "    def eval_step(grad_params, data):\n",
    "        events, targets = data # fix\n",
    "        events = jnp.unpackbits(events, axis=1)\n",
    "        readout = SNN.apply(grad_params, events)\n",
    "        traces, V_f = readout\n",
    "        acc, pred = spyx.fn.integral_accuracy(traces, targets)\n",
    "        loss = spyx.fn.integral_crossentropy(traces, targets)\n",
    "        return grad_params, jnp.array([acc, loss])\n",
    "        \n",
    "    \n",
    "    val_data = dl.val_epoch()\n",
    "    \n",
    "    # Here's the start of our training loop!\n",
    "    @scan_tqdm(epochs)\n",
    "    def epoch(epoch_state, epoch_num):\n",
    "        curr_params, curr_opt_state = epoch_state\n",
    "        \n",
    "        shuffle_rng = jax.random.fold_in(rng, epoch_num)\n",
    "        train_data = dl.train_epoch(shuffle_rng)\n",
    "        \n",
    "        # train epoch\n",
    "        end_state, train_loss = jax.lax.scan(\n",
    "            train_step,# func\n",
    "            [curr_params, curr_opt_state],# init\n",
    "            train_data,# xs\n",
    "            train_data.obs.shape[0]# len\n",
    "        )\n",
    "        \n",
    "        new_params, _ = end_state\n",
    "            \n",
    "        # val epoch\n",
    "        _, val_metrics = jax.lax.scan(\n",
    "            eval_step,# func\n",
    "            new_params,# init\n",
    "            val_data,# xs\n",
    "            val_data.obs.shape[0]# len\n",
    "        )\n",
    "\n",
    "        \n",
    "        return end_state, jnp.concatenate([jnp.expand_dims(jnp.mean(train_loss),0), jnp.mean(val_metrics, axis=0)])\n",
    "    # end epoch\n",
    "    \n",
    "    # epoch loop\n",
    "    final_state, metrics = jax.lax.scan(\n",
    "        epoch,\n",
    "        [grad_params, opt_state], # metric arrays\n",
    "        jnp.arange(epochs), # \n",
    "        epochs # len of loop\n",
    "    )\n",
    "    \n",
    "    final_params, _ = final_state\n",
    "    \n",
    "                \n",
    "    # return our final, optimized network.       \n",
    "    return final_params, metrics"
   ]
  },
  {
   "cell_type": "code",
   "execution_count": 16,
   "id": "f5eb4fb2",
   "metadata": {
    "execution": {
     "iopub.execute_input": "2023-08-17T15:06:23.333938Z",
     "iopub.status.busy": "2023-08-17T15:06:23.333505Z",
     "iopub.status.idle": "2023-08-17T15:06:23.338735Z",
     "shell.execute_reply": "2023-08-17T15:06:23.338201Z",
     "shell.execute_reply.started": "2023-08-17T15:06:23.333915Z"
    }
   },
   "outputs": [],
   "source": [
    "def test_gd(SNN, params, dl):\n",
    "\n",
    "    @jax.jit\n",
    "    def test_step(params, data):\n",
    "        events, targets = data\n",
    "        events = jnp.unpackbits(events, axis=1)\n",
    "        readout = SNN.apply(params, events)\n",
    "        traces, V_f = readout\n",
    "        acc, pred = spyx.fn.integral_accuracy(traces, targets)\n",
    "        loss = spyx.fn.integral_crossentropy(traces, targets)\n",
    "        return params, [acc, loss, pred, targets]\n",
    "    \n",
    "    test_data = dl.test_epoch()\n",
    "    \n",
    "    _, test_metrics = jax.lax.scan(\n",
    "            test_step,# func\n",
    "            params,# init\n",
    "            test_data,# xs\n",
    "            test_data.obs.shape[0]# len\n",
    "    )\n",
    "    \n",
    "    acc = jnp.mean(test_metrics[0])\n",
    "    loss = jnp.mean(test_metrics[1])\n",
    "    preds = jnp.array(test_metrics[2]).flatten()\n",
    "    tgts = jnp.array(test_metrics[3]).flatten()\n",
    "    return acc, loss, preds, tgts"
   ]
  },
  {
   "cell_type": "code",
   "execution_count": 17,
   "id": "f0e2626a-2ce8-4759-ae43-b0e0756cbd22",
   "metadata": {
    "execution": {
     "iopub.execute_input": "2023-08-17T15:06:23.340151Z",
     "iopub.status.busy": "2023-08-17T15:06:23.339431Z",
     "iopub.status.idle": "2023-08-17T15:06:23.342586Z",
     "shell.execute_reply": "2023-08-17T15:06:23.342105Z",
     "shell.execute_reply.started": "2023-08-17T15:06:23.340131Z"
    }
   },
   "outputs": [],
   "source": [
    "from time import time"
   ]
  },
  {
   "cell_type": "code",
   "execution_count": 18,
   "id": "ec1565db",
   "metadata": {
    "execution": {
     "iopub.execute_input": "2023-08-17T15:06:23.343698Z",
     "iopub.status.busy": "2023-08-17T15:06:23.343350Z",
     "iopub.status.idle": "2023-08-17T15:07:12.429030Z",
     "shell.execute_reply": "2023-08-17T15:07:12.428327Z",
     "shell.execute_reply.started": "2023-08-17T15:06:23.343682Z"
    },
    "scrolled": true
   },
   "outputs": [
    {
     "data": {
      "application/vnd.jupyter.widget-view+json": {
       "model_id": "716f8183b4c843baab750ee9a6bb0955",
       "version_major": 2,
       "version_minor": 0
      },
      "text/plain": [
       "  0%|          | 0/500 [00:00<?, ?it/s]"
      ]
     },
     "metadata": {},
     "output_type": "display_data"
    },
    {
     "name": "stdout",
     "output_type": "stream",
     "text": [
      "49.081605672836304 seconds elapsed\n"
     ]
    }
   ],
   "source": [
    "schedule = 2e-4\n",
    "\n",
    "start = time()\n",
    "grad_params_64, metrics_64 = gd(SNN_64, params_64, shd_dl, epochs=500, schedule=schedule) # :36 seconds for loop.\n",
    "total = time() - start\n",
    "print(total, \"seconds elapsed\")"
   ]
  },
  {
   "cell_type": "code",
   "execution_count": 19,
   "id": "086d0b93-b814-4d61-927e-1c1637f34ca9",
   "metadata": {
    "execution": {
     "iopub.execute_input": "2023-08-17T15:07:12.430086Z",
     "iopub.status.busy": "2023-08-17T15:07:12.429880Z",
     "iopub.status.idle": "2023-08-17T15:07:12.634601Z",
     "shell.execute_reply": "2023-08-17T15:07:12.633894Z",
     "shell.execute_reply.started": "2023-08-17T15:07:12.430069Z"
    }
   },
   "outputs": [
    {
     "name": "stdout",
     "output_type": "stream",
     "text": [
      "Performance: train_loss=1.8580430746078491, val_acc=0.8639323115348816, val_loss=1.8435771465301514\n"
     ]
    }
   ],
   "source": [
    "print(\"Performance: train_loss={}, val_acc={}, val_loss={}\".format(*metrics_64[-1]))"
   ]
  },
  {
   "cell_type": "code",
   "execution_count": 20,
   "id": "b23e91c4",
   "metadata": {
    "execution": {
     "iopub.execute_input": "2023-08-17T15:07:12.635954Z",
     "iopub.status.busy": "2023-08-17T15:07:12.635726Z",
     "iopub.status.idle": "2023-08-17T15:08:06.326730Z",
     "shell.execute_reply": "2023-08-17T15:08:06.326127Z",
     "shell.execute_reply.started": "2023-08-17T15:07:12.635930Z"
    },
    "scrolled": true
   },
   "outputs": [
    {
     "data": {
      "application/vnd.jupyter.widget-view+json": {
       "model_id": "ad7b3645afb545509231f72fb164809f",
       "version_major": 2,
       "version_minor": 0
      },
      "text/plain": [
       "  0%|          | 0/500 [00:00<?, ?it/s]"
      ]
     },
     "metadata": {},
     "output_type": "display_data"
    },
    {
     "name": "stdout",
     "output_type": "stream",
     "text": [
      "53.68734431266785 seconds elapsed\n"
     ]
    }
   ],
   "source": [
    "schedule = 1e-4\n",
    "\n",
    "start = time()\n",
    "grad_params_128, metrics_128 = gd(SNN_128, params_128, shd_dl, epochs=500, schedule=schedule) # :42 seconds for loop\n",
    "total = time() - start\n",
    "print(total, \"seconds elapsed\")"
   ]
  },
  {
   "cell_type": "code",
   "execution_count": 21,
   "id": "e6748c51",
   "metadata": {
    "execution": {
     "iopub.execute_input": "2023-08-17T15:08:06.327692Z",
     "iopub.status.busy": "2023-08-17T15:08:06.327509Z",
     "iopub.status.idle": "2023-08-17T15:08:06.332886Z",
     "shell.execute_reply": "2023-08-17T15:08:06.332383Z",
     "shell.execute_reply.started": "2023-08-17T15:08:06.327675Z"
    }
   },
   "outputs": [
    {
     "name": "stdout",
     "output_type": "stream",
     "text": [
      "Performance: train_loss=1.7571440935134888, val_acc=0.91796875, val_loss=1.7685388326644897\n"
     ]
    }
   ],
   "source": [
    "print(\"Performance: train_loss={}, val_acc={}, val_loss={}\".format(*metrics_128[-1]))"
   ]
  },
  {
   "cell_type": "code",
   "execution_count": 22,
   "id": "ead3d1f3",
   "metadata": {
    "execution": {
     "iopub.execute_input": "2023-08-17T15:08:06.333694Z",
     "iopub.status.busy": "2023-08-17T15:08:06.333528Z",
     "iopub.status.idle": "2023-08-17T15:09:12.284379Z",
     "shell.execute_reply": "2023-08-17T15:09:12.283841Z",
     "shell.execute_reply.started": "2023-08-17T15:08:06.333678Z"
    },
    "scrolled": true
   },
   "outputs": [
    {
     "data": {
      "application/vnd.jupyter.widget-view+json": {
       "model_id": "950bacb57ee54136a44a9f095a9d7dc2",
       "version_major": 2,
       "version_minor": 0
      },
      "text/plain": [
       "  0%|          | 0/500 [00:00<?, ?it/s]"
      ]
     },
     "metadata": {},
     "output_type": "display_data"
    },
    {
     "name": "stdout",
     "output_type": "stream",
     "text": [
      "65.9472815990448 seconds elapsed\n"
     ]
    }
   ],
   "source": [
    "schedule = 1e-4\n",
    "\n",
    "start = time()\n",
    "grad_params_256, metrics_256 = gd(SNN_256, params_256, shd_dl, epochs=500, schedule=schedule) # :54 seconds for loop\n",
    "total = time() - start\n",
    "print(total, \"seconds elapsed\")"
   ]
  },
  {
   "cell_type": "code",
   "execution_count": 23,
   "id": "ee0db09e",
   "metadata": {
    "execution": {
     "iopub.execute_input": "2023-08-17T15:09:12.285401Z",
     "iopub.status.busy": "2023-08-17T15:09:12.285220Z",
     "iopub.status.idle": "2023-08-17T15:09:12.290779Z",
     "shell.execute_reply": "2023-08-17T15:09:12.290257Z",
     "shell.execute_reply.started": "2023-08-17T15:09:12.285380Z"
    }
   },
   "outputs": [
    {
     "name": "stdout",
     "output_type": "stream",
     "text": [
      "Performance: train_loss=1.7013344764709473, val_acc=0.9322916865348816, val_loss=1.711901068687439\n"
     ]
    }
   ],
   "source": [
    "print(\"Performance: train_loss={}, val_acc={}, val_loss={}\".format(*metrics_256[-1]))"
   ]
  },
  {
   "cell_type": "code",
   "execution_count": 24,
   "id": "c395a1d3-d1cf-4b9d-adbe-740c7afff69d",
   "metadata": {
    "execution": {
     "iopub.execute_input": "2023-08-17T15:09:12.291624Z",
     "iopub.status.busy": "2023-08-17T15:09:12.291459Z",
     "iopub.status.idle": "2023-08-17T15:10:50.722943Z",
     "shell.execute_reply": "2023-08-17T15:10:50.722218Z",
     "shell.execute_reply.started": "2023-08-17T15:09:12.291606Z"
    },
    "scrolled": true
   },
   "outputs": [
    {
     "data": {
      "application/vnd.jupyter.widget-view+json": {
       "model_id": "cb12d83382f54612813a4bca3e163f22",
       "version_major": 2,
       "version_minor": 0
      },
      "text/plain": [
       "  0%|          | 0/500 [00:00<?, ?it/s]"
      ]
     },
     "metadata": {},
     "output_type": "display_data"
    },
    {
     "name": "stdout",
     "output_type": "stream",
     "text": [
      "98.42726278305054 seconds elapsed\n"
     ]
    }
   ],
   "source": [
    "schedule = 1e-4\n",
    "\n",
    "start = time()\n",
    "grad_params_512, metrics_512 = gd(SNN_512, params_512, shd_dl, epochs=500, schedule=schedule) # :42 seconds for loop\n",
    "total = time() - start\n",
    "print(total, \"seconds elapsed\")"
   ]
  },
  {
   "cell_type": "code",
   "execution_count": 25,
   "id": "ae904f3d-724a-4958-bce8-0dd23805859d",
   "metadata": {
    "execution": {
     "iopub.execute_input": "2023-08-17T15:10:50.724279Z",
     "iopub.status.busy": "2023-08-17T15:10:50.723866Z",
     "iopub.status.idle": "2023-08-17T15:10:50.729626Z",
     "shell.execute_reply": "2023-08-17T15:10:50.728925Z",
     "shell.execute_reply.started": "2023-08-17T15:10:50.724276Z"
    }
   },
   "outputs": [
    {
     "name": "stdout",
     "output_type": "stream",
     "text": [
      "Performance: train_loss=1.7472525835037231, val_acc=0.9381510615348816, val_loss=1.7331035137176514\n"
     ]
    }
   ],
   "source": [
    "print(\"Performance: train_loss={}, val_acc={}, val_loss={}\".format(*metrics_512[-1]))"
   ]
  },
  {
   "cell_type": "markdown",
   "id": "959b79e4",
   "metadata": {},
   "source": [
    "## Evaluation Time\n",
    "\n",
    "Now we'll run the network on the test set and see what happens:"
   ]
  },
  {
   "cell_type": "code",
   "execution_count": 26,
   "id": "6a9716b6",
   "metadata": {
    "execution": {
     "iopub.execute_input": "2023-08-17T15:10:50.730901Z",
     "iopub.status.busy": "2023-08-17T15:10:50.730685Z",
     "iopub.status.idle": "2023-08-17T15:10:53.546687Z",
     "shell.execute_reply": "2023-08-17T15:10:53.546021Z",
     "shell.execute_reply.started": "2023-08-17T15:10:50.730835Z"
    },
    "scrolled": true
   },
   "outputs": [
    {
     "name": "stdout",
     "output_type": "stream",
     "text": [
      "Accuracy: 0.8105469 Loss: 1.9138368\n"
     ]
    }
   ],
   "source": [
    "acc, loss, preds, tgts = test_gd(SNN_256, grad_params_256, shd_dl)\n",
    "print(\"Accuracy:\", acc, \"Loss:\", loss)"
   ]
  },
  {
   "cell_type": "code",
   "execution_count": null,
   "id": "2349676d",
   "metadata": {},
   "outputs": [],
   "source": []
  }
 ],
 "metadata": {
  "kernelspec": {
   "display_name": "Python 3 (ipykernel)",
   "language": "python",
   "name": "python3"
  },
  "language_info": {
   "codemirror_mode": {
    "name": "ipython",
    "version": 3
   },
   "file_extension": ".py",
   "mimetype": "text/x-python",
   "name": "python",
   "nbconvert_exporter": "python",
   "pygments_lexer": "ipython3",
   "version": "3.9.16"
  }
 },
 "nbformat": 4,
 "nbformat_minor": 5
}
