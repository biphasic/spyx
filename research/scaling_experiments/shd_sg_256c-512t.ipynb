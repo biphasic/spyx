{
 "cells": [
  {
   "cell_type": "markdown",
   "id": "fd3a7575",
   "metadata": {},
   "source": [
    "# Training an SNN using surrogate gradients! \n",
    "\n",
    "\n",
    "Train your first SNN in JAX in less than 10 minutes without needing a heavy-duty GPU!"
   ]
  },
  {
   "cell_type": "code",
   "execution_count": 1,
   "id": "3cf6fa71",
   "metadata": {
    "execution": {
     "iopub.execute_input": "2023-08-18T08:45:14.582359Z",
     "iopub.status.busy": "2023-08-18T08:45:14.581688Z",
     "iopub.status.idle": "2023-08-18T08:45:16.599598Z",
     "shell.execute_reply": "2023-08-18T08:45:16.599031Z",
     "shell.execute_reply.started": "2023-08-18T08:45:14.582332Z"
    }
   },
   "outputs": [],
   "source": [
    "import spyx\n",
    "import spyx.nn as snn\n",
    "\n",
    "# JAX imports\n",
    "import jax\n",
    "from jax import numpy as jnp\n",
    "import jmp\n",
    "import numpy as np\n",
    "\n",
    "from jax_tqdm import scan_tqdm\n",
    "from tqdm import tqdm\n",
    "\n",
    "# implement our SNN in DeepMind's Haiku\n",
    "import haiku as hk\n",
    "\n",
    "# for surrogate loss training.\n",
    "import optax\n",
    "\n",
    "# rendering tools\n",
    "import matplotlib.pyplot as plt\n",
    "from sklearn.metrics import confusion_matrix, ConfusionMatrixDisplay\n",
    "%matplotlib notebook"
   ]
  },
  {
   "cell_type": "code",
   "execution_count": 2,
   "id": "9bfdcd58",
   "metadata": {
    "execution": {
     "iopub.execute_input": "2023-08-18T08:45:16.601202Z",
     "iopub.status.busy": "2023-08-18T08:45:16.600761Z",
     "iopub.status.idle": "2023-08-18T08:45:16.720776Z",
     "shell.execute_reply": "2023-08-18T08:45:16.720114Z",
     "shell.execute_reply.started": "2023-08-18T08:45:16.601182Z"
    }
   },
   "outputs": [],
   "source": [
    "policy = jmp.get_policy('half')\n",
    "\n",
    "\n",
    "hk.mixed_precision.set_policy(hk.Linear, policy)\n",
    "hk.mixed_precision.set_policy(snn.LIF, policy)\n",
    "hk.mixed_precision.set_policy(snn.LI, policy)"
   ]
  },
  {
   "cell_type": "code",
   "execution_count": 3,
   "id": "6573ba59",
   "metadata": {
    "execution": {
     "iopub.execute_input": "2023-08-18T08:45:16.721991Z",
     "iopub.status.busy": "2023-08-18T08:45:16.721796Z",
     "iopub.status.idle": "2023-08-18T08:46:19.882178Z",
     "shell.execute_reply": "2023-08-18T08:46:19.881445Z",
     "shell.execute_reply.started": "2023-08-18T08:45:16.721974Z"
    }
   },
   "outputs": [],
   "source": [
    "shd_dl = spyx.data.SHD_loader(256,512,256)"
   ]
  },
  {
   "cell_type": "code",
   "execution_count": 4,
   "id": "e5d127b3",
   "metadata": {
    "execution": {
     "iopub.execute_input": "2023-08-18T08:46:19.883396Z",
     "iopub.status.busy": "2023-08-18T08:46:19.883216Z",
     "iopub.status.idle": "2023-08-18T08:46:24.223722Z",
     "shell.execute_reply": "2023-08-18T08:46:24.223048Z",
     "shell.execute_reply.started": "2023-08-18T08:46:19.883396Z"
    }
   },
   "outputs": [],
   "source": [
    "key = jax.random.PRNGKey(0)\n",
    "x, y = shd_dl.train_epoch(key)"
   ]
  },
  {
   "cell_type": "code",
   "execution_count": 5,
   "id": "df9bc18e",
   "metadata": {
    "execution": {
     "iopub.execute_input": "2023-08-18T08:46:24.229257Z",
     "iopub.status.busy": "2023-08-18T08:46:24.228506Z",
     "iopub.status.idle": "2023-08-18T08:46:24.233672Z",
     "shell.execute_reply": "2023-08-18T08:46:24.233072Z",
     "shell.execute_reply.started": "2023-08-18T08:46:24.229232Z"
    }
   },
   "outputs": [
    {
     "data": {
      "text/plain": [
       "(25, 256)"
      ]
     },
     "execution_count": 5,
     "metadata": {},
     "output_type": "execute_result"
    }
   ],
   "source": [
    "y.shape"
   ]
  },
  {
   "cell_type": "code",
   "execution_count": 6,
   "id": "f8e82dbb-fbcd-4510-a4ee-2db9a659dfe5",
   "metadata": {
    "execution": {
     "iopub.execute_input": "2023-08-18T08:46:24.234795Z",
     "iopub.status.busy": "2023-08-18T08:46:24.234609Z",
     "iopub.status.idle": "2023-08-18T08:46:24.238285Z",
     "shell.execute_reply": "2023-08-18T08:46:24.237790Z",
     "shell.execute_reply.started": "2023-08-18T08:46:24.234778Z"
    }
   },
   "outputs": [],
   "source": [
    "surrogate = spyx.axn.Axon(spyx.axn.arctan())"
   ]
  },
  {
   "cell_type": "code",
   "execution_count": 7,
   "id": "1e9ee900",
   "metadata": {
    "execution": {
     "iopub.execute_input": "2023-08-18T08:46:24.239372Z",
     "iopub.status.busy": "2023-08-18T08:46:24.239187Z",
     "iopub.status.idle": "2023-08-18T08:46:24.244060Z",
     "shell.execute_reply": "2023-08-18T08:46:24.243261Z",
     "shell.execute_reply.started": "2023-08-18T08:46:24.239356Z"
    }
   },
   "outputs": [],
   "source": [
    "def snn_64(x):\n",
    "    \n",
    "    x = hk.BatchApply(hk.Linear(64, with_bias=False))(x)\n",
    "    \n",
    "    core = hk.DeepRNN([\n",
    "        snn.LIF((64,), activation=surrogate),\n",
    "        hk.Linear(64, with_bias=False),\n",
    "        snn.LIF((64,), activation=surrogate),\n",
    "        hk.Linear(20, with_bias=False),\n",
    "        snn.LI((20,))\n",
    "    ])\n",
    "    \n",
    "    # static unroll for maximum performance\n",
    "    spikes, V = hk.dynamic_unroll(core, x, core.initial_state(x.shape[0]), time_major=False, unroll=16)\n",
    "    \n",
    "    return spikes, V"
   ]
  },
  {
   "cell_type": "code",
   "execution_count": 8,
   "id": "59302989",
   "metadata": {
    "execution": {
     "iopub.execute_input": "2023-08-18T08:46:24.244977Z",
     "iopub.status.busy": "2023-08-18T08:46:24.244808Z",
     "iopub.status.idle": "2023-08-18T08:46:24.249934Z",
     "shell.execute_reply": "2023-08-18T08:46:24.249148Z",
     "shell.execute_reply.started": "2023-08-18T08:46:24.244960Z"
    }
   },
   "outputs": [],
   "source": [
    "def snn_128(x):\n",
    "    \n",
    "    x = hk.BatchApply(hk.Linear(128, with_bias=False))(x)\n",
    "    \n",
    "    core = hk.DeepRNN([\n",
    "        snn.LIF((128,), activation=surrogate),\n",
    "        hk.Linear(128, with_bias=False),\n",
    "        snn.LIF((128,), activation=surrogate),\n",
    "        hk.Linear(20, with_bias=False),\n",
    "        snn.LI((20,))\n",
    "    ])\n",
    "    \n",
    "    # static unroll for maximum performance\n",
    "    spikes, V = hk.dynamic_unroll(core, x, core.initial_state(x.shape[0]), time_major=False, unroll=16)\n",
    "    \n",
    "    return spikes, V"
   ]
  },
  {
   "cell_type": "code",
   "execution_count": 9,
   "id": "6946dd93",
   "metadata": {
    "execution": {
     "iopub.execute_input": "2023-08-18T08:46:24.250986Z",
     "iopub.status.busy": "2023-08-18T08:46:24.250769Z",
     "iopub.status.idle": "2023-08-18T08:46:24.255802Z",
     "shell.execute_reply": "2023-08-18T08:46:24.255218Z",
     "shell.execute_reply.started": "2023-08-18T08:46:24.250971Z"
    }
   },
   "outputs": [],
   "source": [
    "def snn_256(x):\n",
    "    \n",
    "    x = hk.BatchApply(hk.Linear(256, with_bias=False))(x)\n",
    "    \n",
    "    core = hk.DeepRNN([\n",
    "        snn.LIF((256,), activation=surrogate),\n",
    "        hk.Linear(256, with_bias=False),\n",
    "        snn.LIF((256,), activation=surrogate),\n",
    "        hk.Linear(20, with_bias=False),\n",
    "        snn.LI((20,))\n",
    "    ])\n",
    "    \n",
    "    # static unroll for maximum performance\n",
    "    spikes, V = hk.dynamic_unroll(core, x, core.initial_state(x.shape[0]), time_major=False, unroll=16)\n",
    "    \n",
    "    return spikes, V"
   ]
  },
  {
   "cell_type": "code",
   "execution_count": 10,
   "id": "81f72d47-601b-4408-b6fb-36f60d8b6426",
   "metadata": {
    "execution": {
     "iopub.execute_input": "2023-08-18T08:46:24.256568Z",
     "iopub.status.busy": "2023-08-18T08:46:24.256406Z",
     "iopub.status.idle": "2023-08-18T08:46:24.260907Z",
     "shell.execute_reply": "2023-08-18T08:46:24.260384Z",
     "shell.execute_reply.started": "2023-08-18T08:46:24.256552Z"
    }
   },
   "outputs": [],
   "source": [
    "def snn_512(x):\n",
    "    \n",
    "    x = hk.BatchApply(hk.Linear(512, with_bias=False))(x)\n",
    "    \n",
    "    core = hk.DeepRNN([\n",
    "        snn.LIF((512,), activation=surrogate),\n",
    "        hk.Linear(512, with_bias=False),\n",
    "        snn.LIF((512,), activation=surrogate),\n",
    "        hk.Linear(20, with_bias=False),\n",
    "        snn.LI((20,))\n",
    "    ])\n",
    "    \n",
    "    # static unroll for maximum performance\n",
    "    spikes, V = hk.dynamic_unroll(core, x, core.initial_state(x.shape[0]), time_major=False, unroll=16)\n",
    "    \n",
    "    return spikes, V"
   ]
  },
  {
   "cell_type": "code",
   "execution_count": 11,
   "id": "e32e514a",
   "metadata": {
    "execution": {
     "iopub.execute_input": "2023-08-18T08:46:24.261880Z",
     "iopub.status.busy": "2023-08-18T08:46:24.261713Z",
     "iopub.status.idle": "2023-08-18T08:46:31.272035Z",
     "shell.execute_reply": "2023-08-18T08:46:31.271393Z",
     "shell.execute_reply.started": "2023-08-18T08:46:24.261865Z"
    }
   },
   "outputs": [],
   "source": [
    "key = jax.random.PRNGKey(0)\n",
    "# Since there's nothing stochastic about the network, we can avoid using an RNG as a param!\n",
    "SNN_64 = hk.without_apply_rng(hk.transform(snn_64))\n",
    "params_64 = SNN_64.init(rng=key, x=x[0])"
   ]
  },
  {
   "cell_type": "code",
   "execution_count": 12,
   "id": "85321879",
   "metadata": {
    "execution": {
     "iopub.execute_input": "2023-08-18T08:46:31.273695Z",
     "iopub.status.busy": "2023-08-18T08:46:31.273432Z",
     "iopub.status.idle": "2023-08-18T08:46:35.661129Z",
     "shell.execute_reply": "2023-08-18T08:46:35.660516Z",
     "shell.execute_reply.started": "2023-08-18T08:46:31.273670Z"
    }
   },
   "outputs": [],
   "source": [
    "key = jax.random.PRNGKey(0)\n",
    "# Since there's nothing stochastic about the network, we can avoid using an RNG as a param!\n",
    "SNN_128 = hk.without_apply_rng(hk.transform(snn_128))\n",
    "params_128 = SNN_128.init(rng=key, x=x[0])"
   ]
  },
  {
   "cell_type": "code",
   "execution_count": 13,
   "id": "9945035f",
   "metadata": {
    "execution": {
     "iopub.execute_input": "2023-08-18T08:46:35.662501Z",
     "iopub.status.busy": "2023-08-18T08:46:35.662257Z",
     "iopub.status.idle": "2023-08-18T08:46:40.049255Z",
     "shell.execute_reply": "2023-08-18T08:46:40.048558Z",
     "shell.execute_reply.started": "2023-08-18T08:46:35.662481Z"
    }
   },
   "outputs": [],
   "source": [
    "key = jax.random.PRNGKey(0)\n",
    "# Since there's nothing stochastic about the network, we can avoid using an RNG as a param!\n",
    "SNN_256 = hk.without_apply_rng(hk.transform(snn_256))\n",
    "params_256 = SNN_256.init(rng=key, x=x[0])"
   ]
  },
  {
   "cell_type": "code",
   "execution_count": 14,
   "id": "bcf31cb0-d691-459c-a444-a2bcf02880ab",
   "metadata": {
    "execution": {
     "iopub.execute_input": "2023-08-18T08:46:40.051924Z",
     "iopub.status.busy": "2023-08-18T08:46:40.051708Z",
     "iopub.status.idle": "2023-08-18T08:46:44.050610Z",
     "shell.execute_reply": "2023-08-18T08:46:44.049991Z",
     "shell.execute_reply.started": "2023-08-18T08:46:40.051905Z"
    }
   },
   "outputs": [],
   "source": [
    "key = jax.random.PRNGKey(0)\n",
    "# Since there's nothing stochastic about the network, we can avoid using an RNG as a param!\n",
    "SNN_512 = hk.without_apply_rng(hk.transform(snn_512))\n",
    "params_512 = SNN_512.init(rng=key, x=x[0])"
   ]
  },
  {
   "cell_type": "code",
   "execution_count": 15,
   "id": "aa93e1f4",
   "metadata": {
    "execution": {
     "iopub.execute_input": "2023-08-18T08:46:44.051946Z",
     "iopub.status.busy": "2023-08-18T08:46:44.051511Z",
     "iopub.status.idle": "2023-08-18T08:46:44.061993Z",
     "shell.execute_reply": "2023-08-18T08:46:44.061232Z",
     "shell.execute_reply.started": "2023-08-18T08:46:44.051926Z"
    }
   },
   "outputs": [],
   "source": [
    "def gd(SNN, params, dl, epochs=300, schedule=4e-4):\n",
    "    \n",
    "    aug = spyx.data.shift_augment(max_shift=16) # need to make this stateless\n",
    "\n",
    "    opt = optax.chain(\n",
    "        optax.centralize(),\n",
    "        optax.lion(learning_rate=schedule),\n",
    "    )\n",
    "    # create and initialize the optimizer\n",
    "    opt_state = opt.init(params)\n",
    "    grad_params = params\n",
    "        \n",
    "    # define and compile our eval function that computes the loss for our SNN\n",
    "    @jax.jit\n",
    "    def net_eval(weights, events, targets):\n",
    "        readout = SNN.apply(weights, events)\n",
    "        traces, V_f = readout\n",
    "        return spyx.fn.integral_crossentropy(traces, targets)\n",
    "        \n",
    "    # Use JAX to create a function that calculates the loss and the gradient!\n",
    "    surrogate_grad = jax.value_and_grad(net_eval) \n",
    "        \n",
    "    rng = jax.random.PRNGKey(0)        \n",
    "    \n",
    "    # compile the meat of our training loop for speed\n",
    "    @jax.jit\n",
    "    def train_step(state, data):\n",
    "        grad_params, opt_state = state\n",
    "        events, targets = data # fix this\n",
    "        events = jnp.unpackbits(events, axis=1) # decompress temporal axis\n",
    "        # compute loss and gradient                    # need better augment rng\n",
    "        loss, grads = surrogate_grad(grad_params, aug(events, jax.random.fold_in(rng,jnp.sum(targets))), targets)\n",
    "        # generate updates based on the gradients and optimizer\n",
    "        updates, opt_state = opt.update(grads, opt_state, grad_params)\n",
    "        # return the updated parameters\n",
    "        new_state = [optax.apply_updates(grad_params, updates), opt_state]\n",
    "        return new_state, loss\n",
    "    \n",
    "    # For validation epochs, do the same as before but compute the\n",
    "    # accuracy, predictions and losses (no gradients needed)\n",
    "    @jax.jit\n",
    "    def eval_step(grad_params, data):\n",
    "        events, targets = data # fix\n",
    "        events = jnp.unpackbits(events, axis=1)\n",
    "        readout = SNN.apply(grad_params, events)\n",
    "        traces, V_f = readout\n",
    "        acc, pred = spyx.fn.integral_accuracy(traces, targets)\n",
    "        loss = spyx.fn.integral_crossentropy(traces, targets)\n",
    "        return grad_params, jnp.array([acc, loss])\n",
    "        \n",
    "    \n",
    "    val_data = dl.val_epoch()\n",
    "    \n",
    "    # Here's the start of our training loop!\n",
    "    @scan_tqdm(epochs)\n",
    "    def epoch(epoch_state, epoch_num):\n",
    "        curr_params, curr_opt_state = epoch_state\n",
    "        \n",
    "        shuffle_rng = jax.random.fold_in(rng, epoch_num)\n",
    "        train_data = dl.train_epoch(shuffle_rng)\n",
    "        \n",
    "        # train epoch\n",
    "        end_state, train_loss = jax.lax.scan(\n",
    "            train_step,# func\n",
    "            [curr_params, curr_opt_state],# init\n",
    "            train_data,# xs\n",
    "            train_data.obs.shape[0]# len\n",
    "        )\n",
    "        \n",
    "        new_params, _ = end_state\n",
    "            \n",
    "        # val epoch\n",
    "        _, val_metrics = jax.lax.scan(\n",
    "            eval_step,# func\n",
    "            new_params,# init\n",
    "            val_data,# xs\n",
    "            val_data.obs.shape[0]# len\n",
    "        )\n",
    "\n",
    "        \n",
    "        return end_state, jnp.concatenate([jnp.expand_dims(jnp.mean(train_loss),0), jnp.mean(val_metrics, axis=0)])\n",
    "    # end epoch\n",
    "    \n",
    "    # epoch loop\n",
    "    final_state, metrics = jax.lax.scan(\n",
    "        epoch,\n",
    "        [grad_params, opt_state], # metric arrays\n",
    "        jnp.arange(epochs), # \n",
    "        epochs # len of loop\n",
    "    )\n",
    "    \n",
    "    final_params, _ = final_state\n",
    "    \n",
    "                \n",
    "    # return our final, optimized network.       \n",
    "    return final_params, metrics"
   ]
  },
  {
   "cell_type": "code",
   "execution_count": 16,
   "id": "f5eb4fb2",
   "metadata": {
    "execution": {
     "iopub.execute_input": "2023-08-18T08:46:44.062884Z",
     "iopub.status.busy": "2023-08-18T08:46:44.062682Z",
     "iopub.status.idle": "2023-08-18T08:46:44.068380Z",
     "shell.execute_reply": "2023-08-18T08:46:44.067662Z",
     "shell.execute_reply.started": "2023-08-18T08:46:44.062878Z"
    }
   },
   "outputs": [],
   "source": [
    "def test_gd(SNN, params, dl):\n",
    "\n",
    "    @jax.jit\n",
    "    def test_step(params, data):\n",
    "        events, targets = data\n",
    "        events = jnp.unpackbits(events, axis=1)\n",
    "        readout = SNN.apply(params, events)\n",
    "        traces, V_f = readout\n",
    "        acc, pred = spyx.fn.integral_accuracy(traces, targets)\n",
    "        loss = spyx.fn.integral_crossentropy(traces, targets)\n",
    "        return params, [acc, loss, pred, targets]\n",
    "    \n",
    "    test_data = dl.test_epoch()\n",
    "    \n",
    "    _, test_metrics = jax.lax.scan(\n",
    "            test_step,# func\n",
    "            params,# init\n",
    "            test_data,# xs\n",
    "            test_data.obs.shape[0]# len\n",
    "    )\n",
    "    \n",
    "    acc = jnp.mean(test_metrics[0])\n",
    "    loss = jnp.mean(test_metrics[1])\n",
    "    preds = jnp.array(test_metrics[2]).flatten()\n",
    "    tgts = jnp.array(test_metrics[3]).flatten()\n",
    "    return acc, loss, preds, tgts"
   ]
  },
  {
   "cell_type": "code",
   "execution_count": 17,
   "id": "f0e2626a-2ce8-4759-ae43-b0e0756cbd22",
   "metadata": {
    "execution": {
     "iopub.execute_input": "2023-08-18T08:46:44.069741Z",
     "iopub.status.busy": "2023-08-18T08:46:44.069172Z",
     "iopub.status.idle": "2023-08-18T08:46:44.072438Z",
     "shell.execute_reply": "2023-08-18T08:46:44.071783Z",
     "shell.execute_reply.started": "2023-08-18T08:46:44.069728Z"
    }
   },
   "outputs": [],
   "source": [
    "from time import time"
   ]
  },
  {
   "cell_type": "code",
   "execution_count": 18,
   "id": "ec1565db",
   "metadata": {
    "execution": {
     "iopub.execute_input": "2023-08-18T08:46:44.073289Z",
     "iopub.status.busy": "2023-08-18T08:46:44.073085Z",
     "iopub.status.idle": "2023-08-18T08:49:21.909149Z",
     "shell.execute_reply": "2023-08-18T08:49:21.908512Z",
     "shell.execute_reply.started": "2023-08-18T08:46:44.073246Z"
    },
    "scrolled": true
   },
   "outputs": [
    {
     "data": {
      "application/vnd.jupyter.widget-view+json": {
       "model_id": "5b526933dcae4e129329b8ac7cfb7923",
       "version_major": 2,
       "version_minor": 0
      },
      "text/plain": [
       "  0%|          | 0/500 [00:00<?, ?it/s]"
      ]
     },
     "metadata": {},
     "output_type": "display_data"
    },
    {
     "name": "stdout",
     "output_type": "stream",
     "text": [
      "157.83139777183533 seconds elapsed\n"
     ]
    }
   ],
   "source": [
    "schedule = 2e-4\n",
    "\n",
    "start = time()\n",
    "grad_params_64, metrics_64 = gd(SNN_64, params_64, shd_dl, epochs=500, schedule=schedule) # :36 seconds for loop.\n",
    "total = time() - start\n",
    "print(total, \"seconds elapsed\")"
   ]
  },
  {
   "cell_type": "code",
   "execution_count": 19,
   "id": "086d0b93-b814-4d61-927e-1c1637f34ca9",
   "metadata": {
    "execution": {
     "iopub.execute_input": "2023-08-18T08:49:21.910150Z",
     "iopub.status.busy": "2023-08-18T08:49:21.909960Z",
     "iopub.status.idle": "2023-08-18T08:49:22.117788Z",
     "shell.execute_reply": "2023-08-18T08:49:22.116938Z",
     "shell.execute_reply.started": "2023-08-18T08:49:21.910134Z"
    }
   },
   "outputs": [
    {
     "name": "stdout",
     "output_type": "stream",
     "text": [
      "Performance: train_loss=1.8653080463409424, val_acc=0.8509114980697632, val_loss=1.8607828617095947\n"
     ]
    }
   ],
   "source": [
    "print(\"Performance: train_loss={}, val_acc={}, val_loss={}\".format(*metrics_64[-1]))"
   ]
  },
  {
   "cell_type": "code",
   "execution_count": 20,
   "id": "b23e91c4",
   "metadata": {
    "execution": {
     "iopub.execute_input": "2023-08-18T08:49:22.119232Z",
     "iopub.status.busy": "2023-08-18T08:49:22.118933Z",
     "iopub.status.idle": "2023-08-18T08:52:19.792524Z",
     "shell.execute_reply": "2023-08-18T08:52:19.791831Z",
     "shell.execute_reply.started": "2023-08-18T08:49:22.119205Z"
    },
    "scrolled": true
   },
   "outputs": [
    {
     "data": {
      "application/vnd.jupyter.widget-view+json": {
       "model_id": "cecc38223437421eb203c9eb2d428165",
       "version_major": 2,
       "version_minor": 0
      },
      "text/plain": [
       "  0%|          | 0/500 [00:00<?, ?it/s]"
      ]
     },
     "metadata": {},
     "output_type": "display_data"
    },
    {
     "name": "stdout",
     "output_type": "stream",
     "text": [
      "177.668869972229 seconds elapsed\n"
     ]
    }
   ],
   "source": [
    "schedule = 1e-4\n",
    "\n",
    "start = time()\n",
    "grad_params_128, metrics_128 = gd(SNN_128, params_128, shd_dl, epochs=500, schedule=schedule) # :42 seconds for loop\n",
    "total = time() - start\n",
    "print(total, \"seconds elapsed\")"
   ]
  },
  {
   "cell_type": "code",
   "execution_count": 21,
   "id": "e6748c51",
   "metadata": {
    "execution": {
     "iopub.execute_input": "2023-08-18T08:52:19.794030Z",
     "iopub.status.busy": "2023-08-18T08:52:19.793441Z",
     "iopub.status.idle": "2023-08-18T08:52:19.799646Z",
     "shell.execute_reply": "2023-08-18T08:52:19.799043Z",
     "shell.execute_reply.started": "2023-08-18T08:52:19.794012Z"
    }
   },
   "outputs": [
    {
     "name": "stdout",
     "output_type": "stream",
     "text": [
      "Performance: train_loss=1.816926121711731, val_acc=0.8736979365348816, val_loss=1.821062445640564\n"
     ]
    }
   ],
   "source": [
    "print(\"Performance: train_loss={}, val_acc={}, val_loss={}\".format(*metrics_128[-1]))"
   ]
  },
  {
   "cell_type": "code",
   "execution_count": 22,
   "id": "ead3d1f3",
   "metadata": {
    "execution": {
     "iopub.execute_input": "2023-08-18T08:52:19.800791Z",
     "iopub.status.busy": "2023-08-18T08:52:19.800623Z",
     "iopub.status.idle": "2023-08-18T08:56:06.738137Z",
     "shell.execute_reply": "2023-08-18T08:56:06.737443Z",
     "shell.execute_reply.started": "2023-08-18T08:52:19.800775Z"
    },
    "scrolled": true
   },
   "outputs": [
    {
     "data": {
      "application/vnd.jupyter.widget-view+json": {
       "model_id": "9d7dee523e6e4c6a8534a2f8f58f1e59",
       "version_major": 2,
       "version_minor": 0
      },
      "text/plain": [
       "  0%|          | 0/500 [00:00<?, ?it/s]"
      ]
     },
     "metadata": {},
     "output_type": "display_data"
    },
    {
     "name": "stdout",
     "output_type": "stream",
     "text": [
      "226.93376660346985 seconds elapsed\n"
     ]
    }
   ],
   "source": [
    "schedule = 1e-4\n",
    "\n",
    "start = time()\n",
    "grad_params_256, metrics_256 = gd(SNN_256, params_256, shd_dl, epochs=500, schedule=schedule) # :54 seconds for loop\n",
    "total = time() - start\n",
    "print(total, \"seconds elapsed\")"
   ]
  },
  {
   "cell_type": "code",
   "execution_count": 23,
   "id": "ee0db09e",
   "metadata": {
    "execution": {
     "iopub.execute_input": "2023-08-18T08:56:06.739195Z",
     "iopub.status.busy": "2023-08-18T08:56:06.739006Z",
     "iopub.status.idle": "2023-08-18T08:56:06.744735Z",
     "shell.execute_reply": "2023-08-18T08:56:06.744138Z",
     "shell.execute_reply.started": "2023-08-18T08:56:06.739178Z"
    }
   },
   "outputs": [
    {
     "name": "stdout",
     "output_type": "stream",
     "text": [
      "Performance: train_loss=1.76340651512146, val_acc=0.9140625, val_loss=1.7605226039886475\n"
     ]
    }
   ],
   "source": [
    "print(\"Performance: train_loss={}, val_acc={}, val_loss={}\".format(*metrics_256[-1]))"
   ]
  },
  {
   "cell_type": "code",
   "execution_count": 24,
   "id": "c395a1d3-d1cf-4b9d-adbe-740c7afff69d",
   "metadata": {
    "execution": {
     "iopub.execute_input": "2023-08-18T08:56:06.745741Z",
     "iopub.status.busy": "2023-08-18T08:56:06.745574Z",
     "iopub.status.idle": "2023-08-18T09:02:01.599097Z",
     "shell.execute_reply": "2023-08-18T09:02:01.598351Z",
     "shell.execute_reply.started": "2023-08-18T08:56:06.745732Z"
    },
    "scrolled": true
   },
   "outputs": [
    {
     "data": {
      "application/vnd.jupyter.widget-view+json": {
       "model_id": "756e3c284cd44de3a0d2edc2c428aa15",
       "version_major": 2,
       "version_minor": 0
      },
      "text/plain": [
       "  0%|          | 0/500 [00:00<?, ?it/s]"
      ]
     },
     "metadata": {},
     "output_type": "display_data"
    },
    {
     "name": "stdout",
     "output_type": "stream",
     "text": [
      "354.84953331947327 seconds elapsed\n"
     ]
    }
   ],
   "source": [
    "schedule = .5e-4\n",
    "\n",
    "start = time()\n",
    "grad_params_512, metrics_512 = gd(SNN_512, params_512, shd_dl, epochs=500, schedule=schedule) # :42 seconds for loop\n",
    "total = time() - start\n",
    "print(total, \"seconds elapsed\")"
   ]
  },
  {
   "cell_type": "code",
   "execution_count": 25,
   "id": "ae904f3d-724a-4958-bce8-0dd23805859d",
   "metadata": {
    "execution": {
     "iopub.execute_input": "2023-08-18T09:02:01.600238Z",
     "iopub.status.busy": "2023-08-18T09:02:01.599983Z",
     "iopub.status.idle": "2023-08-18T09:02:01.607254Z",
     "shell.execute_reply": "2023-08-18T09:02:01.606448Z",
     "shell.execute_reply.started": "2023-08-18T09:02:01.600219Z"
    }
   },
   "outputs": [
    {
     "name": "stdout",
     "output_type": "stream",
     "text": [
      "Performance: train_loss=1.7722556591033936, val_acc=0.9069010615348816, val_loss=1.7690041065216064\n"
     ]
    }
   ],
   "source": [
    "print(\"Performance: train_loss={}, val_acc={}, val_loss={}\".format(*metrics_512[-1]))"
   ]
  },
  {
   "cell_type": "markdown",
   "id": "959b79e4",
   "metadata": {},
   "source": [
    "## Evaluation Time\n",
    "\n",
    "Now we'll run the network on the test set and see what happens:"
   ]
  },
  {
   "cell_type": "code",
   "execution_count": 26,
   "id": "6a9716b6",
   "metadata": {
    "execution": {
     "iopub.execute_input": "2023-08-18T09:02:01.608369Z",
     "iopub.status.busy": "2023-08-18T09:02:01.608185Z",
     "iopub.status.idle": "2023-08-18T09:02:05.136433Z",
     "shell.execute_reply": "2023-08-18T09:02:05.135760Z",
     "shell.execute_reply.started": "2023-08-18T09:02:01.608352Z"
    },
    "scrolled": true
   },
   "outputs": [
    {
     "name": "stdout",
     "output_type": "stream",
     "text": [
      "Accuracy: 0.7763672 Loss: 1.9612615\n"
     ]
    }
   ],
   "source": [
    "acc, loss, preds, tgts = test_gd(SNN_512, grad_params_512, shd_dl)\n",
    "print(\"Accuracy:\", acc, \"Loss:\", loss)"
   ]
  },
  {
   "cell_type": "code",
   "execution_count": null,
   "id": "2349676d",
   "metadata": {},
   "outputs": [],
   "source": []
  }
 ],
 "metadata": {
  "kernelspec": {
   "display_name": "Python 3 (ipykernel)",
   "language": "python",
   "name": "python3"
  },
  "language_info": {
   "codemirror_mode": {
    "name": "ipython",
    "version": 3
   },
   "file_extension": ".py",
   "mimetype": "text/x-python",
   "name": "python",
   "nbconvert_exporter": "python",
   "pygments_lexer": "ipython3",
   "version": "3.10.12"
  }
 },
 "nbformat": 4,
 "nbformat_minor": 5
}
