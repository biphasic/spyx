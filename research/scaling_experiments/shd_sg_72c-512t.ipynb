{
 "cells": [
  {
   "cell_type": "markdown",
   "id": "fd3a7575",
   "metadata": {},
   "source": [
    "# Training an SNN using surrogate gradients! 72c128t\n",
    "\n",
    "\n",
    "Train your first SNN in JAX in less than 10 minutes without needing a heavy-duty GPU!"
   ]
  },
  {
   "cell_type": "code",
   "execution_count": 1,
   "id": "3cf6fa71",
   "metadata": {
    "execution": {
     "iopub.execute_input": "2023-08-18T07:37:00.460266Z",
     "iopub.status.busy": "2023-08-18T07:37:00.459907Z",
     "iopub.status.idle": "2023-08-18T07:37:03.378316Z",
     "shell.execute_reply": "2023-08-18T07:37:03.377729Z",
     "shell.execute_reply.started": "2023-08-18T07:37:00.460235Z"
    }
   },
   "outputs": [],
   "source": [
    "import spyx\n",
    "import spyx.nn as snn\n",
    "\n",
    "# JAX imports\n",
    "import jax\n",
    "from jax import numpy as jnp\n",
    "import jmp\n",
    "import numpy as np\n",
    "\n",
    "from jax_tqdm import scan_tqdm\n",
    "from tqdm import tqdm\n",
    "\n",
    "# implement our SNN in DeepMind's Haiku\n",
    "import haiku as hk\n",
    "\n",
    "# for surrogate loss training.\n",
    "import optax"
   ]
  },
  {
   "cell_type": "code",
   "execution_count": 2,
   "id": "9bfdcd58",
   "metadata": {
    "execution": {
     "iopub.execute_input": "2023-08-18T07:37:03.380066Z",
     "iopub.status.busy": "2023-08-18T07:37:03.379531Z",
     "iopub.status.idle": "2023-08-18T07:37:03.485062Z",
     "shell.execute_reply": "2023-08-18T07:37:03.483999Z",
     "shell.execute_reply.started": "2023-08-18T07:37:03.380040Z"
    }
   },
   "outputs": [],
   "source": [
    "policy = jmp.get_policy('half')\n",
    "\n",
    "\n",
    "hk.mixed_precision.set_policy(hk.Linear, policy)\n",
    "hk.mixed_precision.set_policy(snn.LIF, policy)\n",
    "hk.mixed_precision.set_policy(snn.LI, policy)"
   ]
  },
  {
   "cell_type": "code",
   "execution_count": 3,
   "id": "6573ba59",
   "metadata": {
    "execution": {
     "iopub.execute_input": "2023-08-18T07:37:03.486640Z",
     "iopub.status.busy": "2023-08-18T07:37:03.486384Z",
     "iopub.status.idle": "2023-08-18T07:38:09.544948Z",
     "shell.execute_reply": "2023-08-18T07:38:09.544259Z",
     "shell.execute_reply.started": "2023-08-18T07:37:03.486616Z"
    }
   },
   "outputs": [],
   "source": [
    "shd_dl = spyx.data.SHD_loader(256,512,72)"
   ]
  },
  {
   "cell_type": "code",
   "execution_count": 4,
   "id": "e5d127b3",
   "metadata": {
    "execution": {
     "iopub.execute_input": "2023-08-18T07:38:09.546323Z",
     "iopub.status.busy": "2023-08-18T07:38:09.546125Z",
     "iopub.status.idle": "2023-08-18T07:38:12.059887Z",
     "shell.execute_reply": "2023-08-18T07:38:12.059161Z",
     "shell.execute_reply.started": "2023-08-18T07:38:09.546306Z"
    }
   },
   "outputs": [],
   "source": [
    "key = jax.random.PRNGKey(0)\n",
    "x, y = shd_dl.train_epoch(key)"
   ]
  },
  {
   "cell_type": "code",
   "execution_count": 5,
   "id": "df9bc18e",
   "metadata": {
    "execution": {
     "iopub.execute_input": "2023-08-18T07:38:12.061838Z",
     "iopub.status.busy": "2023-08-18T07:38:12.061645Z",
     "iopub.status.idle": "2023-08-18T07:38:12.068170Z",
     "shell.execute_reply": "2023-08-18T07:38:12.067142Z",
     "shell.execute_reply.started": "2023-08-18T07:38:12.061820Z"
    }
   },
   "outputs": [
    {
     "data": {
      "text/plain": [
       "(25, 256)"
      ]
     },
     "execution_count": 5,
     "metadata": {},
     "output_type": "execute_result"
    }
   ],
   "source": [
    "y.shape"
   ]
  },
  {
   "cell_type": "code",
   "execution_count": 6,
   "id": "f8e82dbb-fbcd-4510-a4ee-2db9a659dfe5",
   "metadata": {
    "execution": {
     "iopub.execute_input": "2023-08-18T07:38:12.069714Z",
     "iopub.status.busy": "2023-08-18T07:38:12.069436Z",
     "iopub.status.idle": "2023-08-18T07:38:12.073899Z",
     "shell.execute_reply": "2023-08-18T07:38:12.072965Z",
     "shell.execute_reply.started": "2023-08-18T07:38:12.069692Z"
    }
   },
   "outputs": [],
   "source": [
    "surrogate = spyx.axn.Axon(spyx.axn.arctan())"
   ]
  },
  {
   "cell_type": "code",
   "execution_count": 7,
   "id": "1e9ee900",
   "metadata": {
    "execution": {
     "iopub.execute_input": "2023-08-18T07:38:12.075230Z",
     "iopub.status.busy": "2023-08-18T07:38:12.075018Z",
     "iopub.status.idle": "2023-08-18T07:38:12.079969Z",
     "shell.execute_reply": "2023-08-18T07:38:12.079334Z",
     "shell.execute_reply.started": "2023-08-18T07:38:12.075212Z"
    }
   },
   "outputs": [],
   "source": [
    "def snn_64(x):\n",
    "    \n",
    "    x = hk.BatchApply(hk.Linear(64, with_bias=False))(x)\n",
    "    \n",
    "    core = hk.DeepRNN([\n",
    "        snn.LIF((64,), activation=surrogate),\n",
    "        hk.Linear(64, with_bias=False),\n",
    "        snn.LIF((64,), activation=surrogate),\n",
    "        hk.Linear(20, with_bias=False),\n",
    "        snn.LI((20,))\n",
    "    ])\n",
    "    \n",
    "    # static unroll for maximum performance\n",
    "    spikes, V = hk.dynamic_unroll(core, x, core.initial_state(x.shape[0]), time_major=False, unroll=16)\n",
    "    \n",
    "    return spikes, V"
   ]
  },
  {
   "cell_type": "code",
   "execution_count": 8,
   "id": "59302989",
   "metadata": {
    "execution": {
     "iopub.execute_input": "2023-08-18T07:38:12.081533Z",
     "iopub.status.busy": "2023-08-18T07:38:12.081312Z",
     "iopub.status.idle": "2023-08-18T07:38:12.085799Z",
     "shell.execute_reply": "2023-08-18T07:38:12.085017Z",
     "shell.execute_reply.started": "2023-08-18T07:38:12.081514Z"
    }
   },
   "outputs": [],
   "source": [
    "def snn_128(x):\n",
    "    \n",
    "    x = hk.BatchApply(hk.Linear(128, with_bias=False))(x)\n",
    "    \n",
    "    core = hk.DeepRNN([\n",
    "        snn.LIF((128,), activation=surrogate),\n",
    "        hk.Linear(128, with_bias=False),\n",
    "        snn.LIF((128,), activation=surrogate),\n",
    "        hk.Linear(20, with_bias=False),\n",
    "        snn.LI((20,))\n",
    "    ])\n",
    "    \n",
    "    # static unroll for maximum performance\n",
    "    spikes, V = hk.dynamic_unroll(core, x, core.initial_state(x.shape[0]), time_major=False, unroll=16)\n",
    "    \n",
    "    return spikes, V"
   ]
  },
  {
   "cell_type": "code",
   "execution_count": 9,
   "id": "6946dd93",
   "metadata": {
    "execution": {
     "iopub.execute_input": "2023-08-18T07:38:12.087186Z",
     "iopub.status.busy": "2023-08-18T07:38:12.086968Z",
     "iopub.status.idle": "2023-08-18T07:38:12.091980Z",
     "shell.execute_reply": "2023-08-18T07:38:12.091077Z",
     "shell.execute_reply.started": "2023-08-18T07:38:12.087169Z"
    }
   },
   "outputs": [],
   "source": [
    "def snn_256(x):\n",
    "    \n",
    "    x = hk.BatchApply(hk.Linear(256, with_bias=False))(x)\n",
    "    \n",
    "    core = hk.DeepRNN([\n",
    "        snn.LIF((256,), activation=surrogate),\n",
    "        hk.Linear(256, with_bias=False),\n",
    "        snn.LIF((256,), activation=surrogate),\n",
    "        hk.Linear(20, with_bias=False),\n",
    "        snn.LI((20,))\n",
    "    ])\n",
    "    \n",
    "    # static unroll for maximum performance\n",
    "    spikes, V = hk.dynamic_unroll(core, x, core.initial_state(x.shape[0]), time_major=False, unroll=16)\n",
    "    \n",
    "    return spikes, V"
   ]
  },
  {
   "cell_type": "code",
   "execution_count": 10,
   "id": "81f72d47-601b-4408-b6fb-36f60d8b6426",
   "metadata": {
    "execution": {
     "iopub.execute_input": "2023-08-18T07:38:12.093440Z",
     "iopub.status.busy": "2023-08-18T07:38:12.093155Z",
     "iopub.status.idle": "2023-08-18T07:38:12.098045Z",
     "shell.execute_reply": "2023-08-18T07:38:12.097434Z",
     "shell.execute_reply.started": "2023-08-18T07:38:12.093423Z"
    }
   },
   "outputs": [],
   "source": [
    "def snn_512(x):\n",
    "    \n",
    "    x = hk.BatchApply(hk.Linear(512, with_bias=False))(x)\n",
    "    \n",
    "    core = hk.DeepRNN([\n",
    "        snn.LIF((512,), activation=surrogate),\n",
    "        hk.Linear(512, with_bias=False),\n",
    "        snn.LIF((512,), activation=surrogate),\n",
    "        hk.Linear(20, with_bias=False),\n",
    "        snn.LI((20,))\n",
    "    ])\n",
    "    \n",
    "    # static unroll for maximum performance\n",
    "    spikes, V = hk.dynamic_unroll(core, x, core.initial_state(x.shape[0]), time_major=False, unroll=16)\n",
    "    \n",
    "    return spikes, V"
   ]
  },
  {
   "cell_type": "code",
   "execution_count": 11,
   "id": "e32e514a",
   "metadata": {
    "execution": {
     "iopub.execute_input": "2023-08-18T07:38:12.099460Z",
     "iopub.status.busy": "2023-08-18T07:38:12.099260Z",
     "iopub.status.idle": "2023-08-18T07:38:19.411332Z",
     "shell.execute_reply": "2023-08-18T07:38:19.410813Z",
     "shell.execute_reply.started": "2023-08-18T07:38:12.099440Z"
    }
   },
   "outputs": [],
   "source": [
    "key = jax.random.PRNGKey(0)\n",
    "# Since there's nothing stochastic about the network, we can avoid using an RNG as a param!\n",
    "SNN_64 = hk.without_apply_rng(hk.transform(snn_64))\n",
    "params_64 = SNN_64.init(rng=key, x=x[0])"
   ]
  },
  {
   "cell_type": "code",
   "execution_count": 12,
   "id": "85321879",
   "metadata": {
    "execution": {
     "iopub.execute_input": "2023-08-18T07:38:19.412765Z",
     "iopub.status.busy": "2023-08-18T07:38:19.412028Z",
     "iopub.status.idle": "2023-08-18T07:38:23.992574Z",
     "shell.execute_reply": "2023-08-18T07:38:23.991839Z",
     "shell.execute_reply.started": "2023-08-18T07:38:19.412753Z"
    }
   },
   "outputs": [],
   "source": [
    "key = jax.random.PRNGKey(0)\n",
    "# Since there's nothing stochastic about the network, we can avoid using an RNG as a param!\n",
    "SNN_128 = hk.without_apply_rng(hk.transform(snn_128))\n",
    "params_128 = SNN_128.init(rng=key, x=x[0])"
   ]
  },
  {
   "cell_type": "code",
   "execution_count": 13,
   "id": "9945035f",
   "metadata": {
    "execution": {
     "iopub.execute_input": "2023-08-18T07:38:23.993646Z",
     "iopub.status.busy": "2023-08-18T07:38:23.993451Z",
     "iopub.status.idle": "2023-08-18T07:38:28.434043Z",
     "shell.execute_reply": "2023-08-18T07:38:28.433287Z",
     "shell.execute_reply.started": "2023-08-18T07:38:23.993635Z"
    }
   },
   "outputs": [],
   "source": [
    "key = jax.random.PRNGKey(0)\n",
    "# Since there's nothing stochastic about the network, we can avoid using an RNG as a param!\n",
    "SNN_256 = hk.without_apply_rng(hk.transform(snn_256))\n",
    "params_256 = SNN_256.init(rng=key, x=x[0])"
   ]
  },
  {
   "cell_type": "code",
   "execution_count": 14,
   "id": "bcf31cb0-d691-459c-a444-a2bcf02880ab",
   "metadata": {
    "execution": {
     "iopub.execute_input": "2023-08-18T07:38:28.437946Z",
     "iopub.status.busy": "2023-08-18T07:38:28.437058Z",
     "iopub.status.idle": "2023-08-18T07:38:32.698213Z",
     "shell.execute_reply": "2023-08-18T07:38:32.697600Z",
     "shell.execute_reply.started": "2023-08-18T07:38:28.437914Z"
    }
   },
   "outputs": [],
   "source": [
    "key = jax.random.PRNGKey(0)\n",
    "# Since there's nothing stochastic about the network, we can avoid using an RNG as a param!\n",
    "SNN_512 = hk.without_apply_rng(hk.transform(snn_512))\n",
    "params_512 = SNN_512.init(rng=key, x=x[0])"
   ]
  },
  {
   "cell_type": "code",
   "execution_count": 15,
   "id": "aa93e1f4",
   "metadata": {
    "execution": {
     "iopub.execute_input": "2023-08-18T07:38:32.699414Z",
     "iopub.status.busy": "2023-08-18T07:38:32.699236Z",
     "iopub.status.idle": "2023-08-18T07:38:32.708631Z",
     "shell.execute_reply": "2023-08-18T07:38:32.707931Z",
     "shell.execute_reply.started": "2023-08-18T07:38:32.699398Z"
    }
   },
   "outputs": [],
   "source": [
    "def gd(SNN, params, dl, epochs=300, schedule=4e-4):\n",
    "    \n",
    "    aug = spyx.data.shift_augment(max_shift=4) # need to make this stateless\n",
    "\n",
    "    opt = optax.chain(\n",
    "        optax.centralize(),\n",
    "        optax.lion(learning_rate=schedule),\n",
    "    )\n",
    "    # create and initialize the optimizer\n",
    "    opt_state = opt.init(params)\n",
    "    grad_params = params\n",
    "        \n",
    "    # define and compile our eval function that computes the loss for our SNN\n",
    "    @jax.jit\n",
    "    def net_eval(weights, events, targets):\n",
    "        readout = SNN.apply(weights, events)\n",
    "        traces, V_f = readout\n",
    "        return spyx.fn.integral_crossentropy(traces, targets)\n",
    "        \n",
    "    # Use JAX to create a function that calculates the loss and the gradient!\n",
    "    surrogate_grad = jax.value_and_grad(net_eval) \n",
    "        \n",
    "    rng = jax.random.PRNGKey(0)        \n",
    "    \n",
    "    # compile the meat of our training loop for speed\n",
    "    @jax.jit\n",
    "    def train_step(state, data):\n",
    "        grad_params, opt_state = state\n",
    "        events, targets = data # fix this\n",
    "        events = jnp.unpackbits(events, axis=1) # decompress temporal axis\n",
    "        # compute loss and gradient                    # need better augment rng\n",
    "        loss, grads = surrogate_grad(grad_params, aug(events, jax.random.fold_in(rng,jnp.sum(targets))), targets)\n",
    "        # generate updates based on the gradients and optimizer\n",
    "        updates, opt_state = opt.update(grads, opt_state, grad_params)\n",
    "        # return the updated parameters\n",
    "        new_state = [optax.apply_updates(grad_params, updates), opt_state]\n",
    "        return new_state, loss\n",
    "    \n",
    "    # For validation epochs, do the same as before but compute the\n",
    "    # accuracy, predictions and losses (no gradients needed)\n",
    "    @jax.jit\n",
    "    def eval_step(grad_params, data):\n",
    "        events, targets = data # fix\n",
    "        events = jnp.unpackbits(events, axis=1)\n",
    "        readout = SNN.apply(grad_params, events)\n",
    "        traces, V_f = readout\n",
    "        acc, pred = spyx.fn.integral_accuracy(traces, targets)\n",
    "        loss = spyx.fn.integral_crossentropy(traces, targets)\n",
    "        return grad_params, jnp.array([acc, loss])\n",
    "        \n",
    "    \n",
    "    val_data = dl.val_epoch()\n",
    "    \n",
    "    # Here's the start of our training loop!\n",
    "    @scan_tqdm(epochs)\n",
    "    def epoch(epoch_state, epoch_num):\n",
    "        curr_params, curr_opt_state = epoch_state\n",
    "        \n",
    "        shuffle_rng = jax.random.fold_in(rng, epoch_num)\n",
    "        train_data = dl.train_epoch(shuffle_rng)\n",
    "        \n",
    "        # train epoch\n",
    "        end_state, train_loss = jax.lax.scan(\n",
    "            train_step,# func\n",
    "            [curr_params, curr_opt_state],# init\n",
    "            train_data,# xs\n",
    "            train_data.obs.shape[0]# len\n",
    "        )\n",
    "        \n",
    "        new_params, _ = end_state\n",
    "            \n",
    "        # val epoch\n",
    "        _, val_metrics = jax.lax.scan(\n",
    "            eval_step,# func\n",
    "            new_params,# init\n",
    "            val_data,# xs\n",
    "            val_data.obs.shape[0]# len\n",
    "        )\n",
    "\n",
    "        \n",
    "        return end_state, jnp.concatenate([jnp.expand_dims(jnp.mean(train_loss),0), jnp.mean(val_metrics, axis=0)])\n",
    "    # end epoch\n",
    "    \n",
    "    # epoch loop\n",
    "    final_state, metrics = jax.lax.scan(\n",
    "        epoch,\n",
    "        [grad_params, opt_state], # metric arrays\n",
    "        jnp.arange(epochs), # \n",
    "        epochs # len of loop\n",
    "    )\n",
    "    \n",
    "    final_params, _ = final_state\n",
    "    \n",
    "                \n",
    "    # return our final, optimized network.       \n",
    "    return final_params, metrics"
   ]
  },
  {
   "cell_type": "code",
   "execution_count": 16,
   "id": "f5eb4fb2",
   "metadata": {
    "execution": {
     "iopub.execute_input": "2023-08-18T07:38:32.709896Z",
     "iopub.status.busy": "2023-08-18T07:38:32.709706Z",
     "iopub.status.idle": "2023-08-18T07:38:32.714984Z",
     "shell.execute_reply": "2023-08-18T07:38:32.714365Z",
     "shell.execute_reply.started": "2023-08-18T07:38:32.709879Z"
    }
   },
   "outputs": [],
   "source": [
    "def test_gd(SNN, params, dl):\n",
    "\n",
    "    @jax.jit\n",
    "    def test_step(params, data):\n",
    "        events, targets = data\n",
    "        events = jnp.unpackbits(events, axis=1)\n",
    "        readout = SNN.apply(params, events)\n",
    "        traces, V_f = readout\n",
    "        acc, pred = spyx.fn.integral_accuracy(traces, targets)\n",
    "        loss = spyx.fn.integral_crossentropy(traces, targets)\n",
    "        return params, [acc, loss, pred, targets]\n",
    "    \n",
    "    test_data = dl.test_epoch()\n",
    "    \n",
    "    _, test_metrics = jax.lax.scan(\n",
    "            test_step,# func\n",
    "            params,# init\n",
    "            test_data,# xs\n",
    "            test_data.obs.shape[0]# len\n",
    "    )\n",
    "    \n",
    "    acc = jnp.mean(test_metrics[0])\n",
    "    loss = jnp.mean(test_metrics[1])\n",
    "    preds = jnp.array(test_metrics[2]).flatten()\n",
    "    tgts = jnp.array(test_metrics[3]).flatten()\n",
    "    return acc, loss, preds, tgts"
   ]
  },
  {
   "cell_type": "code",
   "execution_count": 17,
   "id": "f0e2626a-2ce8-4759-ae43-b0e0756cbd22",
   "metadata": {
    "execution": {
     "iopub.execute_input": "2023-08-18T07:38:32.716283Z",
     "iopub.status.busy": "2023-08-18T07:38:32.715746Z",
     "iopub.status.idle": "2023-08-18T07:38:32.719459Z",
     "shell.execute_reply": "2023-08-18T07:38:32.718834Z",
     "shell.execute_reply.started": "2023-08-18T07:38:32.716264Z"
    }
   },
   "outputs": [],
   "source": [
    "from time import time"
   ]
  },
  {
   "cell_type": "code",
   "execution_count": 18,
   "id": "ec1565db",
   "metadata": {
    "execution": {
     "iopub.execute_input": "2023-08-18T07:38:32.720888Z",
     "iopub.status.busy": "2023-08-18T07:38:32.720253Z",
     "iopub.status.idle": "2023-08-18T07:41:07.296679Z",
     "shell.execute_reply": "2023-08-18T07:41:07.295974Z",
     "shell.execute_reply.started": "2023-08-18T07:38:32.720864Z"
    },
    "scrolled": true
   },
   "outputs": [
    {
     "data": {
      "application/vnd.jupyter.widget-view+json": {
       "model_id": "7331eb0da87f4ee287c1faab9edb51e6",
       "version_major": 2,
       "version_minor": 0
      },
      "text/plain": [
       "  0%|          | 0/500 [00:00<?, ?it/s]"
      ]
     },
     "metadata": {},
     "output_type": "display_data"
    },
    {
     "name": "stdout",
     "output_type": "stream",
     "text": [
      "154.5722472667694 seconds elapsed\n"
     ]
    }
   ],
   "source": [
    "schedule = 2e-4\n",
    "\n",
    "start = time()\n",
    "grad_params_64, metrics_64 = gd(SNN_64, params_64, shd_dl, epochs=500, schedule=schedule) # :36 seconds for loop.\n",
    "total = time() - start\n",
    "print(total, \"seconds elapsed\")"
   ]
  },
  {
   "cell_type": "code",
   "execution_count": 19,
   "id": "1c431435",
   "metadata": {
    "execution": {
     "iopub.execute_input": "2023-08-18T07:41:07.297782Z",
     "iopub.status.busy": "2023-08-18T07:41:07.297578Z",
     "iopub.status.idle": "2023-08-18T07:41:07.526440Z",
     "shell.execute_reply": "2023-08-18T07:41:07.525700Z",
     "shell.execute_reply.started": "2023-08-18T07:41:07.297764Z"
    }
   },
   "outputs": [
    {
     "name": "stdout",
     "output_type": "stream",
     "text": [
      "Performance: train_loss=1.8937829732894897, val_acc=0.8391927480697632, val_loss=1.8964848518371582\n"
     ]
    }
   ],
   "source": [
    "print(\"Performance: train_loss={}, val_acc={}, val_loss={}\".format(*metrics_64[-1]))"
   ]
  },
  {
   "cell_type": "code",
   "execution_count": 20,
   "id": "b23e91c4",
   "metadata": {
    "execution": {
     "iopub.execute_input": "2023-08-18T07:41:07.527627Z",
     "iopub.status.busy": "2023-08-18T07:41:07.527440Z",
     "iopub.status.idle": "2023-08-18T07:44:03.456672Z",
     "shell.execute_reply": "2023-08-18T07:44:03.456125Z",
     "shell.execute_reply.started": "2023-08-18T07:41:07.527610Z"
    },
    "scrolled": true
   },
   "outputs": [
    {
     "data": {
      "application/vnd.jupyter.widget-view+json": {
       "model_id": "27560fa40cda4af3aaac901a75276a97",
       "version_major": 2,
       "version_minor": 0
      },
      "text/plain": [
       "  0%|          | 0/500 [00:00<?, ?it/s]"
      ]
     },
     "metadata": {},
     "output_type": "display_data"
    },
    {
     "name": "stdout",
     "output_type": "stream",
     "text": [
      "175.92575907707214 seconds elapsed\n"
     ]
    }
   ],
   "source": [
    "schedule = 2e-4\n",
    "\n",
    "start = time()\n",
    "grad_params_128, metrics_128 = gd(SNN_128, params_128, shd_dl, epochs=500, schedule=schedule) # :42 seconds for loop\n",
    "total = time() - start\n",
    "print(total, \"seconds elapsed\")"
   ]
  },
  {
   "cell_type": "code",
   "execution_count": 21,
   "id": "e6748c51",
   "metadata": {
    "execution": {
     "iopub.execute_input": "2023-08-18T07:44:03.457642Z",
     "iopub.status.busy": "2023-08-18T07:44:03.457422Z",
     "iopub.status.idle": "2023-08-18T07:44:03.463878Z",
     "shell.execute_reply": "2023-08-18T07:44:03.463282Z",
     "shell.execute_reply.started": "2023-08-18T07:44:03.457624Z"
    }
   },
   "outputs": [
    {
     "name": "stdout",
     "output_type": "stream",
     "text": [
      "Performance: train_loss=1.8900411128997803, val_acc=0.828125, val_loss=1.9124279022216797\n"
     ]
    }
   ],
   "source": [
    "print(\"Performance: train_loss={}, val_acc={}, val_loss={}\".format(*metrics_128[-1]))"
   ]
  },
  {
   "cell_type": "code",
   "execution_count": 22,
   "id": "ead3d1f3",
   "metadata": {
    "execution": {
     "iopub.execute_input": "2023-08-18T07:44:03.465532Z",
     "iopub.status.busy": "2023-08-18T07:44:03.465222Z",
     "iopub.status.idle": "2023-08-18T07:47:47.198308Z",
     "shell.execute_reply": "2023-08-18T07:47:47.197748Z",
     "shell.execute_reply.started": "2023-08-18T07:44:03.465510Z"
    },
    "scrolled": true
   },
   "outputs": [
    {
     "data": {
      "application/vnd.jupyter.widget-view+json": {
       "model_id": "2d17fba211314443ad5f3c39da80b711",
       "version_major": 2,
       "version_minor": 0
      },
      "text/plain": [
       "  0%|          | 0/500 [00:00<?, ?it/s]"
      ]
     },
     "metadata": {},
     "output_type": "display_data"
    },
    {
     "name": "stdout",
     "output_type": "stream",
     "text": [
      "223.72928071022034 seconds elapsed\n"
     ]
    }
   ],
   "source": [
    "schedule = 1e-4\n",
    "\n",
    "start = time()\n",
    "grad_params_256, metrics_256 = gd(SNN_256, params_256, shd_dl, epochs=500, schedule=schedule) # :54 seconds for loop\n",
    "total = time() - start\n",
    "print(total, \"seconds elapsed\")"
   ]
  },
  {
   "cell_type": "code",
   "execution_count": 23,
   "id": "ee0db09e",
   "metadata": {
    "execution": {
     "iopub.execute_input": "2023-08-18T07:47:47.199250Z",
     "iopub.status.busy": "2023-08-18T07:47:47.199054Z",
     "iopub.status.idle": "2023-08-18T07:47:47.204710Z",
     "shell.execute_reply": "2023-08-18T07:47:47.204217Z",
     "shell.execute_reply.started": "2023-08-18T07:47:47.199250Z"
    }
   },
   "outputs": [
    {
     "name": "stdout",
     "output_type": "stream",
     "text": [
      "Performance: train_loss=1.8418056964874268, val_acc=0.86328125, val_loss=1.8528361320495605\n"
     ]
    }
   ],
   "source": [
    "print(\"Performance: train_loss={}, val_acc={}, val_loss={}\".format(*metrics_256[-1]))"
   ]
  },
  {
   "cell_type": "code",
   "execution_count": 27,
   "id": "c395a1d3-d1cf-4b9d-adbe-740c7afff69d",
   "metadata": {
    "execution": {
     "iopub.execute_input": "2023-08-18T08:08:07.711897Z",
     "iopub.status.busy": "2023-08-18T08:08:07.711081Z",
     "iopub.status.idle": "2023-08-18T08:13:57.360779Z",
     "shell.execute_reply": "2023-08-18T08:13:57.360157Z",
     "shell.execute_reply.started": "2023-08-18T08:08:07.711867Z"
    },
    "scrolled": true
   },
   "outputs": [
    {
     "data": {
      "application/vnd.jupyter.widget-view+json": {
       "model_id": "90b1930afe18415dadd1b4530111984f",
       "version_major": 2,
       "version_minor": 0
      },
      "text/plain": [
       "  0%|          | 0/500 [00:00<?, ?it/s]"
      ]
     },
     "metadata": {},
     "output_type": "display_data"
    },
    {
     "name": "stdout",
     "output_type": "stream",
     "text": [
      "349.64549946784973 seconds elapsed\n"
     ]
    }
   ],
   "source": [
    "schedule = .5e-4\n",
    "\n",
    "start = time()\n",
    "grad_params_512, metrics_512 = gd(SNN_512, params_512, shd_dl, epochs=500, schedule=schedule) # :42 seconds for loop\n",
    "total = time() - start\n",
    "print(total, \"seconds elapsed\")"
   ]
  },
  {
   "cell_type": "code",
   "execution_count": 28,
   "id": "ae904f3d-724a-4958-bce8-0dd23805859d",
   "metadata": {
    "execution": {
     "iopub.execute_input": "2023-08-18T08:13:57.362167Z",
     "iopub.status.busy": "2023-08-18T08:13:57.361961Z",
     "iopub.status.idle": "2023-08-18T08:13:57.368022Z",
     "shell.execute_reply": "2023-08-18T08:13:57.367473Z",
     "shell.execute_reply.started": "2023-08-18T08:13:57.362149Z"
    }
   },
   "outputs": [
    {
     "name": "stdout",
     "output_type": "stream",
     "text": [
      "Performance: train_loss=1.8496559858322144, val_acc=0.8385416865348816, val_loss=1.8834779262542725\n"
     ]
    }
   ],
   "source": [
    "print(\"Performance: train_loss={}, val_acc={}, val_loss={}\".format(*metrics_512[-1]))"
   ]
  },
  {
   "cell_type": "markdown",
   "id": "959b79e4",
   "metadata": {},
   "source": [
    "## Evaluation Time\n",
    "\n",
    "Now we'll run the network on the test set and see what happens:"
   ]
  },
  {
   "cell_type": "code",
   "execution_count": 26,
   "id": "6a9716b6",
   "metadata": {
    "execution": {
     "iopub.execute_input": "2023-08-18T07:53:37.620127Z",
     "iopub.status.busy": "2023-08-18T07:53:37.619943Z",
     "iopub.status.idle": "2023-08-18T07:53:40.494715Z",
     "shell.execute_reply": "2023-08-18T07:53:40.494173Z",
     "shell.execute_reply.started": "2023-08-18T07:53:37.620127Z"
    },
    "scrolled": true
   },
   "outputs": [
    {
     "name": "stdout",
     "output_type": "stream",
     "text": [
      "Accuracy: 0.7133789 Loss: 2.1053305\n"
     ]
    }
   ],
   "source": [
    "acc, loss, preds, tgts = test_gd(SNN_128, grad_params_128, shd_dl)\n",
    "print(\"Accuracy:\", acc, \"Loss:\", loss)"
   ]
  },
  {
   "cell_type": "code",
   "execution_count": null,
   "id": "2349676d",
   "metadata": {},
   "outputs": [],
   "source": []
  }
 ],
 "metadata": {
  "kernelspec": {
   "display_name": "Python 3 (ipykernel)",
   "language": "python",
   "name": "python3"
  },
  "language_info": {
   "codemirror_mode": {
    "name": "ipython",
    "version": 3
   },
   "file_extension": ".py",
   "mimetype": "text/x-python",
   "name": "python",
   "nbconvert_exporter": "python",
   "pygments_lexer": "ipython3",
   "version": "3.9.16"
  }
 },
 "nbformat": 4,
 "nbformat_minor": 5
}
