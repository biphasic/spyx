{
 "cells": [
  {
   "cell_type": "markdown",
   "id": "fd3a7575",
   "metadata": {},
   "source": [
    "# Training an SNN using surrogate gradients! 72c128t\n",
    "\n",
    "\n",
    "Train your first SNN in JAX in less than 10 minutes without needing a heavy-duty GPU!"
   ]
  },
  {
   "cell_type": "code",
   "execution_count": 1,
   "id": "3cf6fa71",
   "metadata": {
    "execution": {
     "iopub.execute_input": "2023-08-18T12:19:17.582218Z",
     "iopub.status.busy": "2023-08-18T12:19:17.581686Z",
     "iopub.status.idle": "2023-08-18T12:19:19.674233Z",
     "shell.execute_reply": "2023-08-18T12:19:19.673637Z",
     "shell.execute_reply.started": "2023-08-18T12:19:17.582191Z"
    }
   },
   "outputs": [],
   "source": [
    "import spyx\n",
    "import spyx.nn as snn\n",
    "\n",
    "# JAX imports\n",
    "import jax\n",
    "from jax import numpy as jnp\n",
    "import jmp\n",
    "import numpy as np\n",
    "\n",
    "from jax_tqdm import scan_tqdm\n",
    "from tqdm import tqdm\n",
    "\n",
    "# implement our SNN in DeepMind's Haiku\n",
    "import haiku as hk\n",
    "\n",
    "# for surrogate loss training.\n",
    "import optax\n",
    "\n",
    "# rendering tools\n",
    "import matplotlib.pyplot as plt\n",
    "from sklearn.metrics import confusion_matrix, ConfusionMatrixDisplay\n",
    "%matplotlib notebook"
   ]
  },
  {
   "cell_type": "code",
   "execution_count": 2,
   "id": "9bfdcd58",
   "metadata": {
    "execution": {
     "iopub.execute_input": "2023-08-18T12:19:19.676216Z",
     "iopub.status.busy": "2023-08-18T12:19:19.675592Z",
     "iopub.status.idle": "2023-08-18T12:19:19.813490Z",
     "shell.execute_reply": "2023-08-18T12:19:19.812749Z",
     "shell.execute_reply.started": "2023-08-18T12:19:19.676194Z"
    }
   },
   "outputs": [],
   "source": [
    "policy = jmp.get_policy('half')\n",
    "\n",
    "\n",
    "hk.mixed_precision.set_policy(hk.Linear, policy)\n",
    "hk.mixed_precision.set_policy(snn.LIF, policy)\n",
    "hk.mixed_precision.set_policy(snn.LI, policy)"
   ]
  },
  {
   "cell_type": "code",
   "execution_count": 3,
   "id": "6573ba59",
   "metadata": {
    "execution": {
     "iopub.execute_input": "2023-08-18T12:19:19.814523Z",
     "iopub.status.busy": "2023-08-18T12:19:19.814334Z",
     "iopub.status.idle": "2023-08-18T12:20:47.695066Z",
     "shell.execute_reply": "2023-08-18T12:20:47.694368Z",
     "shell.execute_reply.started": "2023-08-18T12:19:19.814506Z"
    }
   },
   "outputs": [],
   "source": [
    "shd_dl = spyx.data.SHD_loader(256,1024,256)"
   ]
  },
  {
   "cell_type": "code",
   "execution_count": 4,
   "id": "e5d127b3",
   "metadata": {
    "execution": {
     "iopub.execute_input": "2023-08-18T12:20:47.696612Z",
     "iopub.status.busy": "2023-08-18T12:20:47.696411Z",
     "iopub.status.idle": "2023-08-18T12:20:55.513334Z",
     "shell.execute_reply": "2023-08-18T12:20:55.512677Z",
     "shell.execute_reply.started": "2023-08-18T12:20:47.696593Z"
    }
   },
   "outputs": [],
   "source": [
    "key = jax.random.PRNGKey(0)\n",
    "x, y = shd_dl.train_epoch(key)"
   ]
  },
  {
   "cell_type": "code",
   "execution_count": 5,
   "id": "df9bc18e",
   "metadata": {
    "execution": {
     "iopub.execute_input": "2023-08-18T12:20:55.515263Z",
     "iopub.status.busy": "2023-08-18T12:20:55.515057Z",
     "iopub.status.idle": "2023-08-18T12:20:55.521005Z",
     "shell.execute_reply": "2023-08-18T12:20:55.520041Z",
     "shell.execute_reply.started": "2023-08-18T12:20:55.515246Z"
    }
   },
   "outputs": [
    {
     "data": {
      "text/plain": [
       "(25, 256)"
      ]
     },
     "execution_count": 5,
     "metadata": {},
     "output_type": "execute_result"
    }
   ],
   "source": [
    "y.shape"
   ]
  },
  {
   "cell_type": "code",
   "execution_count": 6,
   "id": "f8e82dbb-fbcd-4510-a4ee-2db9a659dfe5",
   "metadata": {
    "execution": {
     "iopub.execute_input": "2023-08-18T12:20:55.522567Z",
     "iopub.status.busy": "2023-08-18T12:20:55.522319Z",
     "iopub.status.idle": "2023-08-18T12:20:55.526681Z",
     "shell.execute_reply": "2023-08-18T12:20:55.525992Z",
     "shell.execute_reply.started": "2023-08-18T12:20:55.522553Z"
    }
   },
   "outputs": [],
   "source": [
    "surrogate = spyx.axn.Axon(spyx.axn.arctan())"
   ]
  },
  {
   "cell_type": "code",
   "execution_count": 7,
   "id": "1e9ee900",
   "metadata": {
    "execution": {
     "iopub.execute_input": "2023-08-18T12:20:55.528309Z",
     "iopub.status.busy": "2023-08-18T12:20:55.527645Z",
     "iopub.status.idle": "2023-08-18T12:20:55.532477Z",
     "shell.execute_reply": "2023-08-18T12:20:55.531731Z",
     "shell.execute_reply.started": "2023-08-18T12:20:55.528255Z"
    }
   },
   "outputs": [],
   "source": [
    "def snn_64(x):\n",
    "    \n",
    "    x = hk.BatchApply(hk.Linear(64, with_bias=False))(x)\n",
    "    \n",
    "    core = hk.DeepRNN([\n",
    "        snn.LIF((64,), activation=surrogate),\n",
    "        hk.Linear(64, with_bias=False),\n",
    "        snn.LIF((64,), activation=surrogate),\n",
    "        hk.Linear(20, with_bias=False),\n",
    "        snn.LI((20,))\n",
    "    ])\n",
    "    \n",
    "    # static unroll for maximum performance\n",
    "    spikes, V = hk.dynamic_unroll(core, x, core.initial_state(x.shape[0]), time_major=False, unroll=16)\n",
    "    \n",
    "    return spikes, V"
   ]
  },
  {
   "cell_type": "code",
   "execution_count": 8,
   "id": "59302989",
   "metadata": {
    "execution": {
     "iopub.execute_input": "2023-08-18T12:20:55.534085Z",
     "iopub.status.busy": "2023-08-18T12:20:55.533350Z",
     "iopub.status.idle": "2023-08-18T12:20:55.538397Z",
     "shell.execute_reply": "2023-08-18T12:20:55.537575Z",
     "shell.execute_reply.started": "2023-08-18T12:20:55.534045Z"
    }
   },
   "outputs": [],
   "source": [
    "def snn_128(x):\n",
    "    \n",
    "    x = hk.BatchApply(hk.Linear(128, with_bias=False))(x)\n",
    "    \n",
    "    core = hk.DeepRNN([\n",
    "        snn.LIF((128,), activation=surrogate),\n",
    "        hk.Linear(128, with_bias=False),\n",
    "        snn.LIF((128,), activation=surrogate),\n",
    "        hk.Linear(20, with_bias=False),\n",
    "        snn.LI((20,))\n",
    "    ])\n",
    "    \n",
    "    # static unroll for maximum performance\n",
    "    spikes, V = hk.dynamic_unroll(core, x, core.initial_state(x.shape[0]), time_major=False, unroll=16)\n",
    "    \n",
    "    return spikes, V"
   ]
  },
  {
   "cell_type": "code",
   "execution_count": 9,
   "id": "6946dd93",
   "metadata": {
    "execution": {
     "iopub.execute_input": "2023-08-18T12:20:55.540051Z",
     "iopub.status.busy": "2023-08-18T12:20:55.539396Z",
     "iopub.status.idle": "2023-08-18T12:20:55.544613Z",
     "shell.execute_reply": "2023-08-18T12:20:55.543575Z",
     "shell.execute_reply.started": "2023-08-18T12:20:55.540030Z"
    }
   },
   "outputs": [],
   "source": [
    "def snn_256(x):\n",
    "    \n",
    "    x = hk.BatchApply(hk.Linear(256, with_bias=False))(x)\n",
    "    \n",
    "    core = hk.DeepRNN([\n",
    "        snn.LIF((256,), activation=surrogate),\n",
    "        hk.Linear(256, with_bias=False),\n",
    "        snn.LIF((256,), activation=surrogate),\n",
    "        hk.Linear(20, with_bias=False),\n",
    "        snn.LI((20,))\n",
    "    ])\n",
    "    \n",
    "    # static unroll for maximum performance\n",
    "    spikes, V = hk.dynamic_unroll(core, x, core.initial_state(x.shape[0]), time_major=False, unroll=16)\n",
    "    \n",
    "    return spikes, V"
   ]
  },
  {
   "cell_type": "code",
   "execution_count": 10,
   "id": "81f72d47-601b-4408-b6fb-36f60d8b6426",
   "metadata": {
    "execution": {
     "iopub.execute_input": "2023-08-18T12:20:55.546018Z",
     "iopub.status.busy": "2023-08-18T12:20:55.545495Z",
     "iopub.status.idle": "2023-08-18T12:20:55.550291Z",
     "shell.execute_reply": "2023-08-18T12:20:55.549564Z",
     "shell.execute_reply.started": "2023-08-18T12:20:55.545996Z"
    }
   },
   "outputs": [],
   "source": [
    "def snn_512(x):\n",
    "    \n",
    "    x = hk.BatchApply(hk.Linear(512, with_bias=False))(x)\n",
    "    \n",
    "    core = hk.DeepRNN([\n",
    "        snn.LIF((512,), activation=surrogate),\n",
    "        hk.Linear(512, with_bias=False),\n",
    "        snn.LIF((512,), activation=surrogate),\n",
    "        hk.Linear(20, with_bias=False),\n",
    "        snn.LI((20,))\n",
    "    ])\n",
    "    \n",
    "    # static unroll for maximum performance\n",
    "    spikes, V = hk.dynamic_unroll(core, x, core.initial_state(x.shape[0]), time_major=False, unroll=16)\n",
    "    \n",
    "    return spikes, V"
   ]
  },
  {
   "cell_type": "code",
   "execution_count": 11,
   "id": "e32e514a",
   "metadata": {
    "execution": {
     "iopub.execute_input": "2023-08-18T12:20:55.551526Z",
     "iopub.status.busy": "2023-08-18T12:20:55.551112Z",
     "iopub.status.idle": "2023-08-18T12:21:02.378483Z",
     "shell.execute_reply": "2023-08-18T12:21:02.377835Z",
     "shell.execute_reply.started": "2023-08-18T12:20:55.551504Z"
    }
   },
   "outputs": [],
   "source": [
    "key = jax.random.PRNGKey(0)\n",
    "# Since there's nothing stochastic about the network, we can avoid using an RNG as a param!\n",
    "SNN_64 = hk.without_apply_rng(hk.transform(snn_64))\n",
    "params_64 = SNN_64.init(rng=key, x=x[0])"
   ]
  },
  {
   "cell_type": "code",
   "execution_count": 12,
   "id": "85321879",
   "metadata": {
    "execution": {
     "iopub.execute_input": "2023-08-18T12:21:02.379499Z",
     "iopub.status.busy": "2023-08-18T12:21:02.379288Z",
     "iopub.status.idle": "2023-08-18T12:21:06.770996Z",
     "shell.execute_reply": "2023-08-18T12:21:06.770355Z",
     "shell.execute_reply.started": "2023-08-18T12:21:02.379474Z"
    }
   },
   "outputs": [],
   "source": [
    "key = jax.random.PRNGKey(0)\n",
    "# Since there's nothing stochastic about the network, we can avoid using an RNG as a param!\n",
    "SNN_128 = hk.without_apply_rng(hk.transform(snn_128))\n",
    "params_128 = SNN_128.init(rng=key, x=x[0])"
   ]
  },
  {
   "cell_type": "code",
   "execution_count": 13,
   "id": "9945035f",
   "metadata": {
    "execution": {
     "iopub.execute_input": "2023-08-18T12:21:06.772026Z",
     "iopub.status.busy": "2023-08-18T12:21:06.771838Z",
     "iopub.status.idle": "2023-08-18T12:21:11.114304Z",
     "shell.execute_reply": "2023-08-18T12:21:11.113804Z",
     "shell.execute_reply.started": "2023-08-18T12:21:06.772008Z"
    }
   },
   "outputs": [],
   "source": [
    "key = jax.random.PRNGKey(0)\n",
    "# Since there's nothing stochastic about the network, we can avoid using an RNG as a param!\n",
    "SNN_256 = hk.without_apply_rng(hk.transform(snn_256))\n",
    "params_256 = SNN_256.init(rng=key, x=x[0])"
   ]
  },
  {
   "cell_type": "code",
   "execution_count": 14,
   "id": "bcf31cb0-d691-459c-a444-a2bcf02880ab",
   "metadata": {
    "execution": {
     "iopub.execute_input": "2023-08-18T12:21:11.117338Z",
     "iopub.status.busy": "2023-08-18T12:21:11.116551Z",
     "iopub.status.idle": "2023-08-18T12:21:15.163373Z",
     "shell.execute_reply": "2023-08-18T12:21:15.162645Z",
     "shell.execute_reply.started": "2023-08-18T12:21:11.117311Z"
    }
   },
   "outputs": [],
   "source": [
    "key = jax.random.PRNGKey(0)\n",
    "# Since there's nothing stochastic about the network, we can avoid using an RNG as a param!\n",
    "SNN_512 = hk.without_apply_rng(hk.transform(snn_512))\n",
    "params_512 = SNN_512.init(rng=key, x=x[0])"
   ]
  },
  {
   "cell_type": "code",
   "execution_count": 15,
   "id": "aa93e1f4",
   "metadata": {
    "execution": {
     "iopub.execute_input": "2023-08-18T12:21:15.164804Z",
     "iopub.status.busy": "2023-08-18T12:21:15.164297Z",
     "iopub.status.idle": "2023-08-18T12:21:15.174794Z",
     "shell.execute_reply": "2023-08-18T12:21:15.174183Z",
     "shell.execute_reply.started": "2023-08-18T12:21:15.164782Z"
    }
   },
   "outputs": [],
   "source": [
    "def gd(SNN, params, dl, epochs=300, schedule=4e-4):\n",
    "    \n",
    "    aug = spyx.data.shift_augment(max_shift=16) # need to make this stateless\n",
    "\n",
    "    opt = optax.chain(\n",
    "        optax.centralize(),\n",
    "        optax.lion(learning_rate=schedule),\n",
    "    )\n",
    "    # create and initialize the optimizer\n",
    "    opt_state = opt.init(params)\n",
    "    grad_params = params\n",
    "        \n",
    "    # define and compile our eval function that computes the loss for our SNN\n",
    "    @jax.jit\n",
    "    def net_eval(weights, events, targets):\n",
    "        readout = SNN.apply(weights, events)\n",
    "        traces, V_f = readout\n",
    "        return spyx.fn.integral_crossentropy(traces, targets)\n",
    "        \n",
    "    # Use JAX to create a function that calculates the loss and the gradient!\n",
    "    surrogate_grad = jax.value_and_grad(net_eval) \n",
    "        \n",
    "    rng = jax.random.PRNGKey(0)        \n",
    "    \n",
    "    # compile the meat of our training loop for speed\n",
    "    @jax.jit\n",
    "    def train_step(state, data):\n",
    "        grad_params, opt_state = state\n",
    "        events, targets = data # fix this\n",
    "        events = jnp.unpackbits(events, axis=1) # decompress temporal axis\n",
    "        # compute loss and gradient                    # need better augment rng\n",
    "        loss, grads = surrogate_grad(grad_params, aug(events, jax.random.fold_in(rng,jnp.sum(targets))), targets)\n",
    "        # generate updates based on the gradients and optimizer\n",
    "        updates, opt_state = opt.update(grads, opt_state, grad_params)\n",
    "        # return the updated parameters\n",
    "        new_state = [optax.apply_updates(grad_params, updates), opt_state]\n",
    "        return new_state, loss\n",
    "    \n",
    "    # For validation epochs, do the same as before but compute the\n",
    "    # accuracy, predictions and losses (no gradients needed)\n",
    "    @jax.jit\n",
    "    def eval_step(grad_params, data):\n",
    "        events, targets = data # fix\n",
    "        events = jnp.unpackbits(events, axis=1)\n",
    "        readout = SNN.apply(grad_params, events)\n",
    "        traces, V_f = readout\n",
    "        acc, pred = spyx.fn.integral_accuracy(traces, targets)\n",
    "        loss = spyx.fn.integral_crossentropy(traces, targets)\n",
    "        return grad_params, jnp.array([acc, loss])\n",
    "        \n",
    "    \n",
    "    val_data = dl.val_epoch()\n",
    "    \n",
    "    # Here's the start of our training loop!\n",
    "    @scan_tqdm(epochs)\n",
    "    def epoch(epoch_state, epoch_num):\n",
    "        curr_params, curr_opt_state = epoch_state\n",
    "        \n",
    "        shuffle_rng = jax.random.fold_in(rng, epoch_num)\n",
    "        train_data = dl.train_epoch(shuffle_rng)\n",
    "        \n",
    "        # train epoch\n",
    "        end_state, train_loss = jax.lax.scan(\n",
    "            train_step,# func\n",
    "            [curr_params, curr_opt_state],# init\n",
    "            train_data,# xs\n",
    "            train_data.obs.shape[0]# len\n",
    "        )\n",
    "        \n",
    "        new_params, _ = end_state\n",
    "            \n",
    "        # val epoch\n",
    "        _, val_metrics = jax.lax.scan(\n",
    "            eval_step,# func\n",
    "            new_params,# init\n",
    "            val_data,# xs\n",
    "            val_data.obs.shape[0]# len\n",
    "        )\n",
    "\n",
    "        \n",
    "        return end_state, jnp.concatenate([jnp.expand_dims(jnp.mean(train_loss),0), jnp.mean(val_metrics, axis=0)])\n",
    "    # end epoch\n",
    "    \n",
    "    # epoch loop\n",
    "    final_state, metrics = jax.lax.scan(\n",
    "        epoch,\n",
    "        [grad_params, opt_state], # metric arrays\n",
    "        jnp.arange(epochs), # \n",
    "        epochs # len of loop\n",
    "    )\n",
    "    \n",
    "    final_params, _ = final_state\n",
    "    \n",
    "                \n",
    "    # return our final, optimized network.       \n",
    "    return final_params, metrics"
   ]
  },
  {
   "cell_type": "code",
   "execution_count": 16,
   "id": "f5eb4fb2",
   "metadata": {
    "execution": {
     "iopub.execute_input": "2023-08-18T12:21:15.176107Z",
     "iopub.status.busy": "2023-08-18T12:21:15.175931Z",
     "iopub.status.idle": "2023-08-18T12:21:15.181423Z",
     "shell.execute_reply": "2023-08-18T12:21:15.180654Z",
     "shell.execute_reply.started": "2023-08-18T12:21:15.176091Z"
    }
   },
   "outputs": [],
   "source": [
    "def test_gd(SNN, params, dl):\n",
    "\n",
    "    @jax.jit\n",
    "    def test_step(params, data):\n",
    "        events, targets = data\n",
    "        events = jnp.unpackbits(events, axis=1)\n",
    "        readout = SNN.apply(params, events)\n",
    "        traces, V_f = readout\n",
    "        acc, pred = spyx.fn.integral_accuracy(traces, targets)\n",
    "        loss = spyx.fn.integral_crossentropy(traces, targets)\n",
    "        return params, [acc, loss, pred, targets]\n",
    "    \n",
    "    test_data = dl.test_epoch()\n",
    "    \n",
    "    _, test_metrics = jax.lax.scan(\n",
    "            test_step,# func\n",
    "            params,# init\n",
    "            test_data,# xs\n",
    "            test_data.obs.shape[0]# len\n",
    "    )\n",
    "    \n",
    "    acc = jnp.mean(test_metrics[0])\n",
    "    loss = jnp.mean(test_metrics[1])\n",
    "    preds = jnp.array(test_metrics[2]).flatten()\n",
    "    tgts = jnp.array(test_metrics[3]).flatten()\n",
    "    return acc, loss, preds, tgts"
   ]
  },
  {
   "cell_type": "code",
   "execution_count": 17,
   "id": "f0e2626a-2ce8-4759-ae43-b0e0756cbd22",
   "metadata": {
    "execution": {
     "iopub.execute_input": "2023-08-18T12:21:15.182592Z",
     "iopub.status.busy": "2023-08-18T12:21:15.182159Z",
     "iopub.status.idle": "2023-08-18T12:21:15.185388Z",
     "shell.execute_reply": "2023-08-18T12:21:15.184724Z",
     "shell.execute_reply.started": "2023-08-18T12:21:15.182574Z"
    }
   },
   "outputs": [],
   "source": [
    "from time import time"
   ]
  },
  {
   "cell_type": "code",
   "execution_count": 18,
   "id": "ec1565db",
   "metadata": {
    "execution": {
     "iopub.execute_input": "2023-08-18T12:21:15.186062Z",
     "iopub.status.busy": "2023-08-18T12:21:15.185917Z",
     "iopub.status.idle": "2023-08-18T12:26:18.662570Z",
     "shell.execute_reply": "2023-08-18T12:26:18.661904Z",
     "shell.execute_reply.started": "2023-08-18T12:21:15.186049Z"
    },
    "scrolled": true
   },
   "outputs": [
    {
     "data": {
      "application/vnd.jupyter.widget-view+json": {
       "model_id": "8108c1c45f344f7584a12c0ea6736d8a",
       "version_major": 2,
       "version_minor": 0
      },
      "text/plain": [
       "  0%|          | 0/500 [00:00<?, ?it/s]"
      ]
     },
     "metadata": {},
     "output_type": "display_data"
    },
    {
     "name": "stdout",
     "output_type": "stream",
     "text": [
      "303.4728798866272 seconds elapsed\n"
     ]
    }
   ],
   "source": [
    "schedule = 2e-4\n",
    "\n",
    "start = time()\n",
    "grad_params_64, metrics_64 = gd(SNN_64, params_64, shd_dl, epochs=500, schedule=schedule) # :36 seconds for loop.\n",
    "total = time() - start\n",
    "print(total, \"seconds elapsed\")"
   ]
  },
  {
   "cell_type": "code",
   "execution_count": 19,
   "id": "086d0b93-b814-4d61-927e-1c1637f34ca9",
   "metadata": {
    "execution": {
     "iopub.execute_input": "2023-08-18T12:26:18.664093Z",
     "iopub.status.busy": "2023-08-18T12:26:18.663846Z",
     "iopub.status.idle": "2023-08-18T12:26:18.894452Z",
     "shell.execute_reply": "2023-08-18T12:26:18.893853Z",
     "shell.execute_reply.started": "2023-08-18T12:26:18.664070Z"
    }
   },
   "outputs": [
    {
     "name": "stdout",
     "output_type": "stream",
     "text": [
      "Performance: train_loss=1.9385422468185425, val_acc=0.8287760615348816, val_loss=1.9123954772949219\n"
     ]
    }
   ],
   "source": [
    "print(\"Performance: train_loss={}, val_acc={}, val_loss={}\".format(*metrics_64[-1]))"
   ]
  },
  {
   "cell_type": "code",
   "execution_count": 20,
   "id": "b23e91c4",
   "metadata": {
    "execution": {
     "iopub.execute_input": "2023-08-18T12:26:18.895586Z",
     "iopub.status.busy": "2023-08-18T12:26:18.895392Z",
     "iopub.status.idle": "2023-08-18T12:32:06.119867Z",
     "shell.execute_reply": "2023-08-18T12:32:06.119116Z",
     "shell.execute_reply.started": "2023-08-18T12:26:18.895564Z"
    },
    "scrolled": true
   },
   "outputs": [
    {
     "data": {
      "application/vnd.jupyter.widget-view+json": {
       "model_id": "6859ce51fc4e4c2db32ed59958948bf0",
       "version_major": 2,
       "version_minor": 0
      },
      "text/plain": [
       "  0%|          | 0/500 [00:00<?, ?it/s]"
      ]
     },
     "metadata": {},
     "output_type": "display_data"
    },
    {
     "name": "stdout",
     "output_type": "stream",
     "text": [
      "347.22015047073364 seconds elapsed\n"
     ]
    }
   ],
   "source": [
    "schedule = 1e-4\n",
    "\n",
    "start = time()\n",
    "grad_params_128, metrics_128 = gd(SNN_128, params_128, shd_dl, epochs=500, schedule=schedule) # :42 seconds for loop\n",
    "total = time() - start\n",
    "print(total, \"seconds elapsed\")"
   ]
  },
  {
   "cell_type": "code",
   "execution_count": 21,
   "id": "e6748c51",
   "metadata": {
    "execution": {
     "iopub.execute_input": "2023-08-18T12:32:06.120858Z",
     "iopub.status.busy": "2023-08-18T12:32:06.120684Z",
     "iopub.status.idle": "2023-08-18T12:32:06.126661Z",
     "shell.execute_reply": "2023-08-18T12:32:06.126101Z",
     "shell.execute_reply.started": "2023-08-18T12:32:06.120842Z"
    }
   },
   "outputs": [
    {
     "name": "stdout",
     "output_type": "stream",
     "text": [
      "Performance: train_loss=1.8767774105072021, val_acc=0.8736979365348816, val_loss=1.8424882888793945\n"
     ]
    }
   ],
   "source": [
    "print(\"Performance: train_loss={}, val_acc={}, val_loss={}\".format(*metrics_128[-1]))"
   ]
  },
  {
   "cell_type": "code",
   "execution_count": 22,
   "id": "ead3d1f3",
   "metadata": {
    "execution": {
     "iopub.execute_input": "2023-08-18T12:32:06.127892Z",
     "iopub.status.busy": "2023-08-18T12:32:06.127722Z",
     "iopub.status.idle": "2023-08-18T12:39:29.897636Z",
     "shell.execute_reply": "2023-08-18T12:39:29.897060Z",
     "shell.execute_reply.started": "2023-08-18T12:32:06.127876Z"
    },
    "scrolled": true
   },
   "outputs": [
    {
     "data": {
      "application/vnd.jupyter.widget-view+json": {
       "model_id": "53e281210c014f45851644376d05606a",
       "version_major": 2,
       "version_minor": 0
      },
      "text/plain": [
       "  0%|          | 0/500 [00:00<?, ?it/s]"
      ]
     },
     "metadata": {},
     "output_type": "display_data"
    },
    {
     "name": "stdout",
     "output_type": "stream",
     "text": [
      "443.76652693748474 seconds elapsed\n"
     ]
    }
   ],
   "source": [
    "schedule = 1e-4\n",
    "\n",
    "start = time()\n",
    "grad_params_256, metrics_256 = gd(SNN_256, params_256, shd_dl, epochs=500, schedule=schedule) # :54 seconds for loop\n",
    "total = time() - start\n",
    "print(total, \"seconds elapsed\")"
   ]
  },
  {
   "cell_type": "code",
   "execution_count": 23,
   "id": "ee0db09e",
   "metadata": {
    "execution": {
     "iopub.execute_input": "2023-08-18T12:39:29.898682Z",
     "iopub.status.busy": "2023-08-18T12:39:29.898501Z",
     "iopub.status.idle": "2023-08-18T12:39:29.904428Z",
     "shell.execute_reply": "2023-08-18T12:39:29.903850Z",
     "shell.execute_reply.started": "2023-08-18T12:39:29.898666Z"
    }
   },
   "outputs": [
    {
     "name": "stdout",
     "output_type": "stream",
     "text": [
      "Performance: train_loss=1.8004436492919922, val_acc=0.9036458730697632, val_loss=1.7923839092254639\n"
     ]
    }
   ],
   "source": [
    "print(\"Performance: train_loss={}, val_acc={}, val_loss={}\".format(*metrics_256[-1]))"
   ]
  },
  {
   "cell_type": "code",
   "execution_count": 24,
   "id": "c395a1d3-d1cf-4b9d-adbe-740c7afff69d",
   "metadata": {
    "execution": {
     "iopub.execute_input": "2023-08-18T12:39:29.905953Z",
     "iopub.status.busy": "2023-08-18T12:39:29.905399Z",
     "iopub.status.idle": "2023-08-18T12:51:07.874755Z",
     "shell.execute_reply": "2023-08-18T12:51:07.874106Z",
     "shell.execute_reply.started": "2023-08-18T12:39:29.905925Z"
    },
    "scrolled": true
   },
   "outputs": [
    {
     "data": {
      "application/vnd.jupyter.widget-view+json": {
       "model_id": "34ba0729bb96403fafc699e920901804",
       "version_major": 2,
       "version_minor": 0
      },
      "text/plain": [
       "  0%|          | 0/500 [00:00<?, ?it/s]"
      ]
     },
     "metadata": {},
     "output_type": "display_data"
    },
    {
     "name": "stdout",
     "output_type": "stream",
     "text": [
      "697.9654779434204 seconds elapsed\n"
     ]
    }
   ],
   "source": [
    "schedule = .5e-4\n",
    "\n",
    "start = time()\n",
    "grad_params_512, metrics_512 = gd(SNN_512, params_512, shd_dl, epochs=500, schedule=schedule) # :42 seconds for loop\n",
    "total = time() - start\n",
    "print(total, \"seconds elapsed\")"
   ]
  },
  {
   "cell_type": "code",
   "execution_count": 25,
   "id": "ae904f3d-724a-4958-bce8-0dd23805859d",
   "metadata": {
    "execution": {
     "iopub.execute_input": "2023-08-18T12:51:07.875874Z",
     "iopub.status.busy": "2023-08-18T12:51:07.875688Z",
     "iopub.status.idle": "2023-08-18T12:51:07.881243Z",
     "shell.execute_reply": "2023-08-18T12:51:07.880593Z",
     "shell.execute_reply.started": "2023-08-18T12:51:07.875857Z"
    }
   },
   "outputs": [
    {
     "name": "stdout",
     "output_type": "stream",
     "text": [
      "Performance: train_loss=1.797947645187378, val_acc=0.8951823115348816, val_loss=1.7962278127670288\n"
     ]
    }
   ],
   "source": [
    "print(\"Performance: train_loss={}, val_acc={}, val_loss={}\".format(*metrics_512[-1]))"
   ]
  },
  {
   "cell_type": "markdown",
   "id": "959b79e4",
   "metadata": {},
   "source": [
    "## Evaluation Time\n",
    "\n",
    "Now we'll run the network on the test set and see what happens:"
   ]
  },
  {
   "cell_type": "code",
   "execution_count": 26,
   "id": "6a9716b6",
   "metadata": {
    "execution": {
     "iopub.execute_input": "2023-08-18T12:51:07.883033Z",
     "iopub.status.busy": "2023-08-18T12:51:07.881984Z",
     "iopub.status.idle": "2023-08-18T12:51:12.305597Z",
     "shell.execute_reply": "2023-08-18T12:51:12.304775Z",
     "shell.execute_reply.started": "2023-08-18T12:51:07.882982Z"
    },
    "scrolled": true
   },
   "outputs": [
    {
     "name": "stdout",
     "output_type": "stream",
     "text": [
      "Accuracy: 0.75 Loss: 2.0277839\n"
     ]
    }
   ],
   "source": [
    "acc, loss, preds, tgts = test_gd(SNN_512, grad_params_512, shd_dl)\n",
    "print(\"Accuracy:\", acc, \"Loss:\", loss)"
   ]
  },
  {
   "cell_type": "code",
   "execution_count": null,
   "id": "2349676d",
   "metadata": {},
   "outputs": [],
   "source": []
  }
 ],
 "metadata": {
  "kernelspec": {
   "display_name": "Python 3 (ipykernel)",
   "language": "python",
   "name": "python3"
  },
  "language_info": {
   "codemirror_mode": {
    "name": "ipython",
    "version": 3
   },
   "file_extension": ".py",
   "mimetype": "text/x-python",
   "name": "python",
   "nbconvert_exporter": "python",
   "pygments_lexer": "ipython3",
   "version": "3.9.16"
  }
 },
 "nbformat": 4,
 "nbformat_minor": 5
}
