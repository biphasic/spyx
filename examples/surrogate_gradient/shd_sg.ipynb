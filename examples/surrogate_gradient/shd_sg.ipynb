{
 "cells": [
  {
   "cell_type": "markdown",
   "id": "fd3a7575",
   "metadata": {},
   "source": [
    "# Training an SNN using surrogate gradients!\n",
    "\n",
    "Train your first SNN in JAX in less than 10 minutes without needing a heavy-duty GPU!"
   ]
  },
  {
   "cell_type": "code",
   "execution_count": 1,
   "id": "3cf6fa71",
   "metadata": {},
   "outputs": [
    {
     "name": "stderr",
     "output_type": "stream",
     "text": [
      "/home/legion/.local/lib/python3.10/site-packages/torchvision/io/image.py:13: UserWarning: Failed to load image Python extension: '/home/legion/.local/lib/python3.10/site-packages/torchvision/image.so: undefined symbol: _ZN3c106detail23torchInternalAssertFailEPKcS2_jS2_RKSs'If you don't plan on using image functionality from `torchvision.io`, you can ignore this warning. Otherwise, there might be something wrong with your environment. Did you have `libjpeg` or `libpng` installed before building `torchvision` from source?\n",
      "  warn(\n"
     ]
    }
   ],
   "source": [
    "import spyx\n",
    "import spyx.nn as snn\n",
    "\n",
    "# JAX imports\n",
    "import os\n",
    "import jax\n",
    "os.environ[\"XLA_PYTHON_CLIENT_MEM_FRACTION\"] = \".70\"\n",
    "from jax import numpy as jnp\n",
    "import numpy as np\n",
    "\n",
    "from tqdm import tqdm\n",
    "\n",
    "# implement our SNN in DeepMind's Haiku\n",
    "import haiku as hk\n",
    "\n",
    "# for surrogate loss training.\n",
    "import optax\n",
    "\n",
    "# rendering tools\n",
    "import matplotlib.pyplot as plt\n",
    "%matplotlib notebook\n",
    "import graphviz\n",
    "import mediapy as media"
   ]
  },
  {
   "cell_type": "markdown",
   "id": "95bf2a89",
   "metadata": {},
   "source": [
    "## Data Loading"
   ]
  },
  {
   "cell_type": "code",
   "execution_count": 2,
   "id": "6573ba59",
   "metadata": {},
   "outputs": [],
   "source": [
    "shd_dl = spyx.data.SHD_loader(64)"
   ]
  },
  {
   "cell_type": "code",
   "execution_count": 3,
   "id": "c9f89744",
   "metadata": {},
   "outputs": [
    {
     "data": {
      "text/plain": [
       "(64, 100, 128)"
      ]
     },
     "execution_count": 3,
     "metadata": {},
     "output_type": "execute_result"
    }
   ],
   "source": [
    "shd_dl.train_step().obs.shape"
   ]
  },
  {
   "cell_type": "markdown",
   "id": "f878677e",
   "metadata": {},
   "source": [
    "## SNN\n",
    "\n",
    "Here we define a simple feed-forward SNN using Haiku's RNN features, incorporating our\n",
    "LIF neuron models where activation functions would usually go. Haiku manages all of the state for us, so when we transform the function and get an apply() function we just need to pass the params!\n",
    "\n",
    "Since spiking neurons have a discrete all-or-nothing activation, in order to do gradient descent we'll have to approximate the derivative of the Heaviside function with something smoother. In this case, we use the SuperSpike surrogate gradient from Zenke & Ganguli 2017.\n",
    "Also not that we aren't using bias terms on the linear layers and since the inputs are images, we flatten the data before feeding it to the first layer.\n",
    "\n",
    "Depending on computational constraints, we can use haiku's dynamic unroll to iterate the SNN, or we can use static unroll where the SNN will be unrolled during the JIT compiling process to further increase speed when training on GPU. Note that the static unroll will take longer to compile, but once it runs the iterations per second will be 2x-3x greater than the dynamic unroll."
   ]
  },
  {
   "cell_type": "code",
   "execution_count": 4,
   "id": "1e9ee900",
   "metadata": {},
   "outputs": [],
   "source": [
    "def shd_snn(x):\n",
    "    # seqs is [T, F].\n",
    "    core = hk.DeepRNN([\n",
    "        hk.Linear(128, with_bias=False),\n",
    "        snn.LIF(128, activation=spyx.activation.SuperSpike()),\n",
    "        hk.Linear(128, with_bias=False),\n",
    "        snn.LIF(128, activation=spyx.activation.SuperSpike()),\n",
    "        hk.Linear(10, with_bias=False),\n",
    "        snn.LI(10)\n",
    "    ])\n",
    "    # static unroll for maximum performance\n",
    "    spikes, V = hk.dynamic_unroll(core, x.astype(jnp.float32), core.initial_state(x.shape[0]), time_major=False)\n",
    "    return spikes, V"
   ]
  },
  {
   "cell_type": "code",
   "execution_count": 5,
   "id": "e32e514a",
   "metadata": {},
   "outputs": [],
   "source": [
    "key = jax.random.PRNGKey(0)\n",
    "# Since there's nothing stochastic about the network, we can avoid using an RNG as a param!\n",
    "SNN = hk.without_apply_rng(hk.transform(shd_snn))\n",
    "params = SNN.init(rng=key, x=shd_dl.train_step().obs)"
   ]
  },
  {
   "cell_type": "markdown",
   "id": "0711ce25",
   "metadata": {},
   "source": [
    "## Gradient Descent\n",
    "\n",
    "We define a training loop below.\n",
    "\n",
    "We use the Lion optimizer from Optax, which is a more efficient competitor to the popular Adam. The eval steps and updates are JIT'ed to maximize time spent in optimized GPU code and minimize time spent in higher-level python.\n",
    "\n",
    "The use of regularizers in the spiking network will be covered in a seperate tutorial."
   ]
  },
  {
   "cell_type": "code",
   "execution_count": 7,
   "id": "aa93e1f4",
   "metadata": {},
   "outputs": [],
   "source": [
    "def gd(SNN, params, dl, epochs=50, test_every=5):\n",
    "    \n",
    "    # create and initialize the optimizer\n",
    "    opt = optax.lion(3e-4)\n",
    "    opt_state = opt.init(params)\n",
    "    grad_params = params\n",
    "        \n",
    "    # define and compile our eval function that computes the loss for our SNN\n",
    "    @jax.jit\n",
    "    def net_eval(weights, events, targets):\n",
    "        readout = SNN.apply(weights, events)\n",
    "        traces, V_f = readout\n",
    "        return spyx.loss.integral_crossentropy(traces, targets)\n",
    "        \n",
    "    # Use JAX to create a function that calculates the loss and the gradient!\n",
    "    surrogate_grad = jax.value_and_grad(net_eval) \n",
    "        \n",
    "    # compile the meat of our training loop for speed\n",
    "    @jax.jit\n",
    "    def step(grad_params, opt_state, events, targets):\n",
    "        # compute loss and gradient\n",
    "        loss, grads = surrogate_grad(grad_params, events, targets)\n",
    "        # generate updates based on the gradients and optimizer\n",
    "        updates, opt_state = opt.update(grads, opt_state, grad_params)\n",
    "        # return the updated parameters\n",
    "        return optax.apply_updates(grad_params, updates), opt_state, loss\n",
    "    \n",
    "    # For validation epochs, do the same as before but compute the\n",
    "    # accuracy, predictions and losses (no gradients needed)\n",
    "    @jax.jit\n",
    "    def eval_step(grad_params, events, targets):\n",
    "        readout = SNN.apply(grad_params, events)\n",
    "        traces, V_f = readout\n",
    "        acc, pred = spyx.loss.integral_accuracy(traces, targets)\n",
    "        loss = spyx.loss.integral_crossentropy(traces, targets)\n",
    "        return acc, pred, loss\n",
    "        \n",
    "    # Here's the start of our training loop!\n",
    "    for gen in range(epochs):\n",
    "        # reset our training data loader so we're at the beginning of the train set\n",
    "        # important to reset loader before making pbar so that the len of the dataset is correct.\n",
    "        dl.train_reset()\n",
    "        # make a progress bar with tqdm so things look official\n",
    "        pbar = tqdm([*range(dl.train_len//dl.batch_size)])\n",
    "        pbar.set_description(\"Epoch #{}\".format(gen))\n",
    "\n",
    "        for _ in pbar:\n",
    "            # fetch the batch and the labels\n",
    "            events, targets = dl.train_step() \n",
    "            # compute new params and loss\n",
    "            grad_params, opt_state, loss = step(grad_params, opt_state, events, targets)\n",
    "            #update progress bar\n",
    "            pbar.set_postfix(Loss=loss)\n",
    "            \n",
    "        # after a number of epochs, check performance on validation set\n",
    "        if gen % test_every == test_every-1:\n",
    "            # reset validation iterator\n",
    "            dl.val_reset()\n",
    "            \n",
    "            # containers for SNN results. Can return these if desired.\n",
    "            accs = []\n",
    "            preds = []\n",
    "            losses = []\n",
    "            \n",
    "            # progress bars!\n",
    "            pbar = tqdm([*range(dl.val_len//dl.batch_size)])\n",
    "            pbar.set_description(\"Validating\")\n",
    "            for _ in pbar:\n",
    "                # get validation batch\n",
    "                events, targets = dl.val_step()\n",
    "                # get perfomance on validation batch\n",
    "                acc, pred, loss = eval_step(grad_params, events, targets)\n",
    "                # save accuracy, prediction, loss\n",
    "                accs.append(acc)\n",
    "                preds.append(pred)\n",
    "                losses.append(loss)\n",
    "                # update progress bar, showing running loss and accuracy\n",
    "                pbar.set_postfix(Loss=np.mean(losses), Accuracy=np.mean(accs))\n",
    "                \n",
    "    # return our final, optimized network.       \n",
    "    return grad_params"
   ]
  },
  {
   "cell_type": "code",
   "execution_count": 8,
   "id": "f5eb4fb2",
   "metadata": {},
   "outputs": [],
   "source": [
    "def test_gd(SNN, params, dl):\n",
    "    @jax.jit\n",
    "    def net_eval(weights, events, targets):\n",
    "        readout = SNN.apply(weights, events)\n",
    "        traces, V_f = readout\n",
    "        return spyx.loss.integral_crossentropy(traces, targets)\n",
    "    \n",
    "    @jax.jit\n",
    "    def eval_step(grad_params, events, targets):\n",
    "        readout = SNN.apply(grad_params, events)\n",
    "        traces, V_f = readout\n",
    "        acc, pred = spyx.loss.integral_accuracy(traces, targets)\n",
    "        loss = spyx.loss.integral_crossentropy(traces, targets)\n",
    "        return acc, pred, loss\n",
    "    \n",
    "    dl.test_reset()\n",
    "    accs = []\n",
    "    preds = []\n",
    "    losses = []\n",
    "    pbar = tqdm([*range(dl.test_len//dl.batch_size)])\n",
    "    pbar.set_description(\"Validating\")\n",
    "    for _ in pbar:\n",
    "        events, targets = dl.test_step()\n",
    "        \n",
    "        acc, pred, loss = eval_step(grad_params, events, targets)\n",
    "        \n",
    "        accs.append(acc)\n",
    "        preds.append(pred)\n",
    "        losses.append(loss)\n",
    "        \n",
    "        pbar.set_postfix(Loss=np.mean(losses), Accuracy=np.mean(accs))\n",
    "    \n",
    "    return accs, preds, losses"
   ]
  },
  {
   "cell_type": "markdown",
   "id": "d1669fb3",
   "metadata": {},
   "source": [
    "## Training Time\n",
    "\n",
    "We'll train the network for 50 epochs since SHD is more difficult than MNIST.\n",
    "\n",
    "The SHD dataloader for Spyx has built-in leave-one-group-out cross validation. This is becuase the test set for SHD has two unseen speakers, so when we train our model we need to make it robust to speakers it isn't training on in the hopes of improving generalization accuracy."
   ]
  },
  {
   "cell_type": "code",
   "execution_count": 9,
   "id": "ec1565db",
   "metadata": {},
   "outputs": [
    {
     "name": "stderr",
     "output_type": "stream",
     "text": [
      "Epoch #0: 100%|████████████████████████████████████████| 113/113 [00:23<00:00,  4.87it/s, Loss=1.2769353]\n",
      "Epoch #1: 100%|████████████████████████████████████████| 111/111 [00:17<00:00,  6.41it/s, Loss=1.3964385]\n",
      "Epoch #2: 100%|█████████████████████████████████████████| 116/116 [00:17<00:00,  6.47it/s, Loss=1.423845]\n",
      "Epoch #3: 100%|████████████████████████████████████████| 120/120 [00:19<00:00,  6.10it/s, Loss=1.2863275]\n",
      "Epoch #4: 100%|█████████████████████████████████████████| 115/115 [00:23<00:00,  4.91it/s, Loss=1.293759]\n",
      "Validating: 100%|██████████████████████████████| 12/12 [00:03<00:00,  3.67it/s, Accuracy=0.296, Loss=1.4]\n",
      "Epoch #5: 100%|████████████████████████████████████████| 115/115 [00:27<00:00,  4.21it/s, Loss=1.2449274]\n",
      "Epoch #6: 100%|████████████████████████████████████████| 114/114 [00:26<00:00,  4.23it/s, Loss=1.0935566]\n",
      "Epoch #7: 100%|████████████████████████████████████████| 115/115 [00:27<00:00,  4.21it/s, Loss=1.1239145]\n",
      "Epoch #8: 100%|████████████████████████████████████████| 111/111 [00:26<00:00,  4.11it/s, Loss=1.1233093]\n",
      "Epoch #9: 100%|████████████████████████████████████████| 113/113 [00:26<00:00,  4.20it/s, Loss=1.1391053]\n",
      "Validating: 100%|█████████████████████████████| 14/14 [00:05<00:00,  2.47it/s, Accuracy=0.464, Loss=1.12]\n",
      "Epoch #10: 100%|███████████████████████████████████████| 113/113 [00:16<00:00,  6.92it/s, Loss=1.0531743]\n",
      "Epoch #11: 100%|███████████████████████████████████████| 111/111 [00:16<00:00,  6.79it/s, Loss=1.1414648]\n",
      "Epoch #12: 100%|███████████████████████████████████████| 116/116 [00:17<00:00,  6.78it/s, Loss=1.0986995]\n",
      "Epoch #13: 100%|███████████████████████████████████████| 120/120 [00:17<00:00,  6.77it/s, Loss=1.1015879]\n",
      "Epoch #14: 100%|███████████████████████████████████████| 115/115 [00:16<00:00,  6.84it/s, Loss=1.0828805]\n",
      "Validating: 100%|█████████████████████████████| 12/12 [00:01<00:00,  6.75it/s, Accuracy=0.424, Loss=1.25]\n",
      "Epoch #15: 100%|███████████████████████████████████████| 115/115 [00:17<00:00,  6.76it/s, Loss=1.0398474]\n",
      "Epoch #16: 100%|███████████████████████████████████████| 114/114 [00:17<00:00,  6.56it/s, Loss=1.0384045]\n",
      "Epoch #17: 100%|███████████████████████████████████████| 115/115 [00:27<00:00,  4.19it/s, Loss=1.1636615]\n",
      "Epoch #18: 100%|█████████████████████████████████████████| 111/111 [00:27<00:00,  4.08it/s, Loss=1.07265]\n",
      "Epoch #19: 100%|████████████████████████████████████████| 113/113 [00:26<00:00,  4.19it/s, Loss=1.218316]\n",
      "Validating: 100%|█████████████████████████████| 14/14 [00:03<00:00,  4.42it/s, Accuracy=0.475, Loss=1.09]\n",
      "Epoch #20: 100%|███████████████████████████████████████| 113/113 [00:26<00:00,  4.20it/s, Loss=1.0146477]\n",
      "Epoch #21: 100%|████████████████████████████████████████| 111/111 [00:26<00:00,  4.16it/s, Loss=1.086813]\n",
      "Epoch #22: 100%|███████████████████████████████████████| 116/116 [00:27<00:00,  4.17it/s, Loss=1.1034752]\n",
      "Epoch #23: 100%|████████████████████████████████████████| 120/120 [00:28<00:00,  4.18it/s, Loss=1.118333]\n",
      "Epoch #24: 100%|███████████████████████████████████████| 115/115 [00:27<00:00,  4.19it/s, Loss=1.0958405]\n",
      "Validating: 100%|█████████████████████████████| 12/12 [00:02<00:00,  4.06it/s, Accuracy=0.462, Loss=1.22]\n",
      "Epoch #25: 100%|███████████████████████████████████████| 115/115 [00:27<00:00,  4.13it/s, Loss=1.0609996]\n",
      "Epoch #26: 100%|███████████████████████████████████████| 114/114 [00:27<00:00,  4.20it/s, Loss=1.0637943]\n",
      "Epoch #27: 100%|███████████████████████████████████████| 115/115 [00:27<00:00,  4.20it/s, Loss=1.0914202]\n",
      "Epoch #28: 100%|███████████████████████████████████████| 111/111 [00:26<00:00,  4.21it/s, Loss=1.0463997]\n",
      "Epoch #29: 100%|████████████████████████████████████████| 113/113 [00:27<00:00,  4.06it/s, Loss=1.066584]\n",
      "Validating: 100%|█████████████████████████████| 14/14 [00:03<00:00,  4.44it/s, Accuracy=0.481, Loss=1.08]\n",
      "Epoch #30: 100%|███████████████████████████████████████| 113/113 [00:27<00:00,  4.18it/s, Loss=1.0928766]\n",
      "Epoch #31: 100%|████████████████████████████████████████| 111/111 [00:26<00:00,  4.17it/s, Loss=1.000452]\n",
      "Epoch #32: 100%|███████████████████████████████████████| 116/116 [00:27<00:00,  4.18it/s, Loss=1.1118755]\n",
      "Epoch #33: 100%|██████████████████████████████████████| 120/120 [00:28<00:00,  4.18it/s, Loss=0.95641905]\n",
      "Epoch #34: 100%|███████████████████████████████████████| 115/115 [00:27<00:00,  4.14it/s, Loss=1.0628191]\n",
      "Validating: 100%|█████████████████████████████| 12/12 [00:03<00:00,  3.87it/s, Accuracy=0.456, Loss=1.22]\n",
      "Epoch #35: 100%|███████████████████████████████████████| 115/115 [00:27<00:00,  4.12it/s, Loss=1.0588127]\n",
      "Epoch #36: 100%|███████████████████████████████████████| 114/114 [00:27<00:00,  4.15it/s, Loss=1.0843362]\n",
      "Epoch #37: 100%|███████████████████████████████████████| 115/115 [00:27<00:00,  4.13it/s, Loss=1.0473131]\n",
      "Epoch #38: 100%|███████████████████████████████████████| 111/111 [00:28<00:00,  3.96it/s, Loss=1.0253042]\n",
      "Epoch #39: 100%|███████████████████████████████████████| 113/113 [00:27<00:00,  4.16it/s, Loss=1.0331198]\n",
      "Validating: 100%|█████████████████████████████| 14/14 [00:03<00:00,  4.42it/s, Accuracy=0.488, Loss=1.08]\n",
      "Epoch #40: 100%|████████████████████████████████████████| 113/113 [00:26<00:00,  4.22it/s, Loss=1.055998]\n",
      "Epoch #41: 100%|███████████████████████████████████████| 111/111 [00:26<00:00,  4.14it/s, Loss=1.1054274]\n",
      "Epoch #42: 100%|███████████████████████████████████████| 116/116 [00:27<00:00,  4.19it/s, Loss=1.1437824]\n",
      "Epoch #43: 100%|███████████████████████████████████████| 120/120 [00:28<00:00,  4.19it/s, Loss=1.1644393]\n",
      "Epoch #44: 100%|████████████████████████████████████████| 115/115 [00:27<00:00,  4.20it/s, Loss=1.053777]\n",
      "Validating: 100%|█████████████████████████████| 12/12 [00:02<00:00,  4.11it/s, Accuracy=0.487, Loss=1.19]\n",
      "Epoch #45: 100%|███████████████████████████████████████| 115/115 [00:27<00:00,  4.18it/s, Loss=1.0005002]\n",
      "Epoch #46: 100%|███████████████████████████████████████| 114/114 [00:27<00:00,  4.21it/s, Loss=1.0382259]\n",
      "Epoch #47: 100%|███████████████████████████████████████| 115/115 [00:27<00:00,  4.18it/s, Loss=1.1214378]\n",
      "Epoch #48: 100%|████████████████████████████████████████| 111/111 [00:26<00:00,  4.20it/s, Loss=1.102013]\n",
      "Epoch #49: 100%|███████████████████████████████████████| 113/113 [00:26<00:00,  4.19it/s, Loss=1.1485198]\n",
      "Validating: 100%|█████████████████████████████| 14/14 [00:03<00:00,  4.43it/s, Accuracy=0.493, Loss=1.06]\n"
     ]
    }
   ],
   "source": [
    "grad_params = gd(SNN, params, shd_dl)"
   ]
  },
  {
   "cell_type": "markdown",
   "id": "959b79e4",
   "metadata": {},
   "source": [
    "## Evaluation Time\n",
    "\n",
    "Now we'll run the network on the test set and see what happens:"
   ]
  },
  {
   "cell_type": "code",
   "execution_count": 10,
   "id": "6a9716b6",
   "metadata": {},
   "outputs": [
    {
     "name": "stderr",
     "output_type": "stream",
     "text": [
      "Validating: 100%|█████████████████████████████| 35/35 [00:10<00:00,  3.22it/s, Accuracy=0.371, Loss=1.17]\n"
     ]
    }
   ],
   "source": [
    "acc, preds, losses = test_gd(SNN, params, shd_dl)"
   ]
  },
  {
   "cell_type": "markdown",
   "id": "dcc40d37",
   "metadata": {},
   "source": [
    "Not quite what we hoped for!"
   ]
  }
 ],
 "metadata": {
  "kernelspec": {
   "display_name": "Python 3 (ipykernel)",
   "language": "python",
   "name": "python3"
  },
  "language_info": {
   "codemirror_mode": {
    "name": "ipython",
    "version": 3
   },
   "file_extension": ".py",
   "mimetype": "text/x-python",
   "name": "python",
   "nbconvert_exporter": "python",
   "pygments_lexer": "ipython3",
   "version": "3.10.6"
  }
 },
 "nbformat": 4,
 "nbformat_minor": 5
}
