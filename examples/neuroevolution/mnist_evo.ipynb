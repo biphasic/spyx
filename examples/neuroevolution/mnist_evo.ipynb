{
 "cells": [
  {
   "cell_type": "markdown",
   "id": "fd3a7575",
   "metadata": {},
   "source": [
    "# Training an SNN using Neuroevolution!"
   ]
  },
  {
   "cell_type": "code",
   "execution_count": 4,
   "id": "3cf6fa71",
   "metadata": {},
   "outputs": [],
   "source": [
    "import spyx\n",
    "import spyx.nn as snn\n",
    "\n",
    "# JAX imports\n",
    "import os\n",
    "import jax\n",
    "os.environ[\"XLA_PYTHON_CLIENT_MEM_FRACTION\"] = \".70\"\n",
    "from jax import numpy as jnp\n",
    "import numpy as np\n",
    "\n",
    "from tqdm import tqdm\n",
    "\n",
    "# implement our SNN in DeepMind's Haiku\n",
    "import haiku as hk\n",
    "\n",
    "# optimize the parameters using evosax\n",
    "import evosax\n",
    "from evosax.strategies import PersistentES as PES\n",
    "\n",
    "# rendering tools\n",
    "import matplotlib.pyplot as plt\n",
    "%matplotlib notebook\n",
    "import graphviz\n",
    "import mediapy as media"
   ]
  },
  {
   "cell_type": "markdown",
   "id": "95bf2a89",
   "metadata": {},
   "source": [
    "## Data Loading"
   ]
  },
  {
   "cell_type": "code",
   "execution_count": 33,
   "id": "6573ba59",
   "metadata": {},
   "outputs": [],
   "source": [
    "mnist_dl = spyx.data.MNIST_loader(64)"
   ]
  },
  {
   "cell_type": "markdown",
   "id": "f878677e",
   "metadata": {},
   "source": [
    "## SNN"
   ]
  },
  {
   "cell_type": "code",
   "execution_count": 3,
   "id": "1e9ee900",
   "metadata": {},
   "outputs": [],
   "source": [
    "def mnist_snn(x):\n",
    "    # seqs is [T, F].\n",
    "    core = hk.DeepRNN([\n",
    "        hk.Flatten(),\n",
    "        hk.Linear(784, with_bias=False),\n",
    "        snn.LIF(784, activation=spyx.activation.SuperSpike()),\n",
    "        hk.Linear(128, with_bias=False),\n",
    "        snn.LIF(128, activation=spyx.activation.SuperSpike()),\n",
    "        hk.Linear(10, with_bias=False),\n",
    "        snn.LI(10)\n",
    "    ])\n",
    "    spikes, V = hk.dynamic_unroll(core, x.astype(jnp.float32), core.initial_state(x.shape[0]), time_major=False)\n",
    "    return spikes, V"
   ]
  },
  {
   "cell_type": "code",
   "execution_count": 4,
   "id": "e32e514a",
   "metadata": {},
   "outputs": [],
   "source": [
    "key = jax.random.PRNGKey(0)\n",
    "SNN = hk.without_apply_rng(hk.transform(mnist_snn))\n",
    "params = SNN.init(rng=key, x=mnist_dl.train_step().obs)"
   ]
  },
  {
   "cell_type": "code",
   "execution_count": 5,
   "id": "c813cd4a",
   "metadata": {
    "scrolled": true
   },
   "outputs": [
    {
     "name": "stdout",
     "output_type": "stream",
     "text": [
      "+-------------------------------------+----------------------------------------------------------------------------------+-----------------+---------------------------------------------------------+------------------------------------------------------+---------------+---------------+\n",
      "| Module                              | Config                                                                           | Module params   | Input                                                   | Output                                               |   Param count |   Param bytes |\n",
      "+=====================================+==================================================================================+=================+=========================================================+======================================================+===============+===============+\n",
      "| deep_rnn (DeepRNN.initial_state)    | DeepRNN(                                                                         |                 | 64                                                      | (f16[64,784], f16[64,128], f32[64,10])               |           912 |       1.82 KB |\n",
      "|                                     |     layers=[Flatten(),                                                           |                 |                                                         |                                                      |               |               |\n",
      "|                                     |             Linear(output_size=784, with_bias=False),                            |                 |                                                         |                                                      |               |               |\n",
      "|                                     |             LIF(                                                                 |                 |                                                         |                                                      |               |               |\n",
      "|                                     |                hidden_size=784,                                                  |                 |                                                         |                                                      |               |               |\n",
      "|                                     |                activation=<spyx.activation.SuperSpike object at 0x7fac105deb90>, |                 |                                                         |                                                      |               |               |\n",
      "|                                     |            ),                                                                    |                 |                                                         |                                                      |               |               |\n",
      "|                                     |             Linear(output_size=128, with_bias=False),                            |                 |                                                         |                                                      |               |               |\n",
      "|                                     |             LIF(                                                                 |                 |                                                         |                                                      |               |               |\n",
      "|                                     |                hidden_size=128,                                                  |                 |                                                         |                                                      |               |               |\n",
      "|                                     |                activation=<spyx.activation.SuperSpike object at 0x7fac105dfeb0>, |                 |                                                         |                                                      |               |               |\n",
      "|                                     |            ),                                                                    |                 |                                                         |                                                      |               |               |\n",
      "|                                     |             Linear(output_size=10, with_bias=False),                             |                 |                                                         |                                                      |               |               |\n",
      "|                                     |             LI(layer_size=10)],                                                  |                 |                                                         |                                                      |               |               |\n",
      "|                                     | )                                                                                |                 |                                                         |                                                      |               |               |\n",
      "+-------------------------------------+----------------------------------------------------------------------------------+-----------------+---------------------------------------------------------+------------------------------------------------------+---------------+---------------+\n",
      "| LIF (LIF.initial_state)             | LIF(                                                                             | b: f16[784]     | 64                                                      | f16[64,784]                                          |           784 |       1.57 KB |\n",
      "|  └ deep_rnn (DeepRNN.initial_state) |     hidden_size=784,                                                             |                 |                                                         |                                                      |               |               |\n",
      "|                                     |     activation=<spyx.activation.SuperSpike object at 0x7fac105deb90>,            |                 |                                                         |                                                      |               |               |\n",
      "|                                     | )                                                                                |                 |                                                         |                                                      |               |               |\n",
      "+-------------------------------------+----------------------------------------------------------------------------------+-----------------+---------------------------------------------------------+------------------------------------------------------+---------------+---------------+\n",
      "| LIF_1 (LIF.initial_state)           | LIF(                                                                             | b: f16[128]     | 64                                                      | f16[64,128]                                          |           128 |      256.00 B |\n",
      "|  └ deep_rnn (DeepRNN.initial_state) |     hidden_size=128,                                                             |                 |                                                         |                                                      |               |               |\n",
      "|                                     |     activation=<spyx.activation.SuperSpike object at 0x7fac105dfeb0>,            |                 |                                                         |                                                      |               |               |\n",
      "|                                     | )                                                                                |                 |                                                         |                                                      |               |               |\n",
      "+-------------------------------------+----------------------------------------------------------------------------------+-----------------+---------------------------------------------------------+------------------------------------------------------+---------------+---------------+\n",
      "| LI (LI.initial_state)               | LI(layer_size=10)                                                                |                 | 64                                                      | f32[64,10]                                           |             0 |        0.00 B |\n",
      "|  └ deep_rnn (DeepRNN.initial_state) |                                                                                  |                 |                                                         |                                                      |               |               |\n",
      "+-------------------------------------+----------------------------------------------------------------------------------+-----------------+---------------------------------------------------------+------------------------------------------------------+---------------+---------------+\n",
      "| deep_rnn (DeepRNN)                  | DeepRNN(                                                                         |                 | f32[64,28,28,1], (f16[64,784], f16[64,128], f32[64,10]) | (f32[64,10], (f16[64,784], f16[64,128], f32[64,10])) |       717,200 |       2.66 MB |\n",
      "|                                     |     layers=[Flatten(),                                                           |                 |                                                         |                                                      |               |               |\n",
      "|                                     |             Linear(output_size=784, with_bias=False),                            |                 |                                                         |                                                      |               |               |\n",
      "|                                     |             LIF(                                                                 |                 |                                                         |                                                      |               |               |\n",
      "|                                     |                hidden_size=784,                                                  |                 |                                                         |                                                      |               |               |\n",
      "|                                     |                activation=<spyx.activation.SuperSpike object at 0x7fac105deb90>, |                 |                                                         |                                                      |               |               |\n",
      "|                                     |            ),                                                                    |                 |                                                         |                                                      |               |               |\n",
      "|                                     |             Linear(output_size=128, with_bias=False),                            |                 |                                                         |                                                      |               |               |\n",
      "|                                     |             LIF(                                                                 |                 |                                                         |                                                      |               |               |\n",
      "|                                     |                hidden_size=128,                                                  |                 |                                                         |                                                      |               |               |\n",
      "|                                     |                activation=<spyx.activation.SuperSpike object at 0x7fac105dfeb0>, |                 |                                                         |                                                      |               |               |\n",
      "|                                     |            ),                                                                    |                 |                                                         |                                                      |               |               |\n",
      "|                                     |             Linear(output_size=10, with_bias=False),                             |                 |                                                         |                                                      |               |               |\n",
      "|                                     |             LI(layer_size=10)],                                                  |                 |                                                         |                                                      |               |               |\n",
      "|                                     | )                                                                                |                 |                                                         |                                                      |               |               |\n",
      "+-------------------------------------+----------------------------------------------------------------------------------+-----------------+---------------------------------------------------------+------------------------------------------------------+---------------+---------------+\n",
      "| flatten (Flatten)                   | Flatten()                                                                        |                 | f32[64,28,28,1]                                         | f32[64,784]                                          |             0 |        0.00 B |\n",
      "|  └ deep_rnn (DeepRNN)               |                                                                                  |                 |                                                         |                                                      |               |               |\n",
      "+-------------------------------------+----------------------------------------------------------------------------------+-----------------+---------------------------------------------------------+------------------------------------------------------+---------------+---------------+\n",
      "| linear (Linear)                     | Linear(output_size=784, with_bias=False)                                         | w: f32[784,784] | f32[64,784]                                             | f32[64,784]                                          |       614,656 |       2.46 MB |\n",
      "|  └ deep_rnn (DeepRNN)               |                                                                                  |                 |                                                         |                                                      |               |               |\n",
      "+-------------------------------------+----------------------------------------------------------------------------------+-----------------+---------------------------------------------------------+------------------------------------------------------+---------------+---------------+\n",
      "| LIF (LIF)                           | LIF(                                                                             | b: f16[784]     | f32[64,784], f16[64,784]                                | (f16[64,784], f16[64,784])                           |           784 |       1.57 KB |\n",
      "|  └ deep_rnn (DeepRNN)               |     hidden_size=784,                                                             |                 |                                                         |                                                      |               |               |\n",
      "|                                     |     activation=<spyx.activation.SuperSpike object at 0x7fac105deb90>,            |                 |                                                         |                                                      |               |               |\n",
      "|                                     | )                                                                                |                 |                                                         |                                                      |               |               |\n",
      "+-------------------------------------+----------------------------------------------------------------------------------+-----------------+---------------------------------------------------------+------------------------------------------------------+---------------+---------------+\n",
      "| linear_1 (Linear)                   | Linear(output_size=128, with_bias=False)                                         | w: f16[784,128] | f16[64,784]                                             | f16[64,128]                                          |       100,352 |     200.70 KB |\n",
      "|  └ deep_rnn (DeepRNN)               |                                                                                  |                 |                                                         |                                                      |               |               |\n",
      "+-------------------------------------+----------------------------------------------------------------------------------+-----------------+---------------------------------------------------------+------------------------------------------------------+---------------+---------------+\n",
      "| LIF_1 (LIF)                         | LIF(                                                                             | b: f16[128]     | f16[64,128], f16[64,128]                                | (f16[64,128], f16[64,128])                           |           128 |      256.00 B |\n",
      "|  └ deep_rnn (DeepRNN)               |     hidden_size=128,                                                             |                 |                                                         |                                                      |               |               |\n",
      "|                                     |     activation=<spyx.activation.SuperSpike object at 0x7fac105dfeb0>,            |                 |                                                         |                                                      |               |               |\n",
      "|                                     | )                                                                                |                 |                                                         |                                                      |               |               |\n",
      "+-------------------------------------+----------------------------------------------------------------------------------+-----------------+---------------------------------------------------------+------------------------------------------------------+---------------+---------------+\n",
      "| linear_2 (Linear)                   | Linear(output_size=10, with_bias=False)                                          | w: f16[128,10]  | f16[64,128]                                             | f16[64,10]                                           |         1,280 |       2.56 KB |\n",
      "|  └ deep_rnn (DeepRNN)               |                                                                                  |                 |                                                         |                                                      |               |               |\n",
      "+-------------------------------------+----------------------------------------------------------------------------------+-----------------+---------------------------------------------------------+------------------------------------------------------+---------------+---------------+\n",
      "| LI (LI)                             | LI(layer_size=10)                                                                |                 | f16[64,10], f32[64,10]                                  | (f32[64,10], f32[64,10])                             |             0 |        0.00 B |\n",
      "|  └ deep_rnn (DeepRNN)               |                                                                                  |                 |                                                         |                                                      |               |               |\n",
      "+-------------------------------------+----------------------------------------------------------------------------------+-----------------+---------------------------------------------------------+------------------------------------------------------+---------------+---------------+\n"
     ]
    }
   ],
   "source": [
    "print(hk.experimental.tabulate(SNN)(mnist_dl.train_step().obs))"
   ]
  },
  {
   "cell_type": "markdown",
   "id": "27f27afe",
   "metadata": {},
   "source": [
    "## Evolution"
   ]
  },
  {
   "cell_type": "code",
   "execution_count": 15,
   "id": "4503759e",
   "metadata": {},
   "outputs": [],
   "source": [
    "def evolution(SNN, params, dl, epochs=15, test_every=5, key=0):\n",
    "\n",
    "    rng = jax.random.PRNGKey(key)\n",
    "    param_reshaper = evosax.ParameterReshaper(params)\n",
    "    \n",
    "\n",
    "    strategy = PES(popsize=64,\n",
    "                num_dims=param_reshaper.total_params,\n",
    "                opt_name=\"clipup\",\n",
    "                )\n",
    "    \n",
    "    es_params = strategy.default_params\n",
    "    es_params = es_params.replace(init_min= -1, init_max=1)\n",
    "    # check the initialization here....\n",
    "    state = strategy.initialize(rng)\n",
    "    state = state.replace(mean=param_reshaper.flatten_single(params))\n",
    "\n",
    "        \n",
    "    sim_fn = jax.vmap(SNN.apply, (0, None)) #jit this outside the loop...\n",
    "    acc_fn = jax.vmap(spyx.loss.integral_accuracy, (0, None))\n",
    "    loss_fn = jax.vmap(spyx.loss.integral_crossentropy, (0, None))\n",
    "    \n",
    "    @jax.jit\n",
    "    def step(rng, state, events, targets):\n",
    "        rng, rng_ask = jax.random.split(rng, 2)\n",
    "        # ASK\n",
    "        pop, state = strategy.ask(rng_ask, state)\n",
    "        population_params = param_reshaper.reshape(pop.astype(jnp.float32))\n",
    "        # EVAL\n",
    "        spikes, V = sim_fn(population_params, events)\n",
    "        loss = loss_fn(spikes, targets)\n",
    "        # TELL\n",
    "        state = strategy.tell(pop, loss, state)        \n",
    "        \n",
    "        return rng, state, loss\n",
    "    \n",
    "    \n",
    "    for gen in range(epochs):\n",
    "        pbar = tqdm([*range(dl.train_len//dl.batch_size)])\n",
    "        pbar.set_description(\"Epoch #{}\".format(gen))\n",
    "        dl.train_reset()\n",
    "        for _ in pbar:\n",
    "            events, targets = dl.train_step() # non-jittable...\n",
    "\n",
    "            rng, state, loss = step(rng, state, events, targets)\n",
    "            \n",
    "            pbar.set_postfix(Loss=jnp.min(loss))\n",
    "        \n",
    "        elite = param_reshaper.reshape(jnp.array([state.best_member]))\n",
    "        if gen % test_every == test_every-1:\n",
    "            dl.val_reset()\n",
    "            accs = []\n",
    "            losses = []\n",
    "            \n",
    "            pbar = tqdm([*range(dl.val_len//dl.batch_size)])\n",
    "            pbar.set_description(\"Validate\")\n",
    "            for _ in pbar:\n",
    "                events, targets = dl.val_step()\n",
    "                spikes, V = sim_fn(elite, events)\n",
    "                acc, pred = acc_fn(spikes, targets)\n",
    "                loss = loss_fn(spikes, targets)\n",
    "                \n",
    "                accs.append(acc)\n",
    "                losses.append(loss)\n",
    "                \n",
    "                pbar.set_postfix(Loss=np.mean(losses), Accuracy=np.mean(accs))\n",
    "        \n",
    "    return jax.tree_util.tree_map(jnp.squeeze, elite)"
   ]
  },
  {
   "cell_type": "code",
   "execution_count": 9,
   "id": "3634d312",
   "metadata": {},
   "outputs": [
    {
     "name": "stdout",
     "output_type": "stream",
     "text": [
      "ParameterReshaper: 717200 parameters detected for optimization.\n"
     ]
    },
    {
     "name": "stderr",
     "output_type": "stream",
     "text": [
      "Epoch #0: 100%|█████████████████████████████████████████| 656/656 [03:14<00:00,  3.37it/s, Loss=3.101177]\n",
      "Epoch #1: 100%|████████████████████████████████████████| 656/656 [03:12<00:00,  3.42it/s, Loss=2.7998104]\n",
      "Epoch #2: 100%|████████████████████████████████████████| 656/656 [03:12<00:00,  3.41it/s, Loss=2.6480782]\n",
      "Epoch #3: 100%|█████████████████████████████████████████| 656/656 [03:12<00:00,  3.40it/s, Loss=2.570093]\n",
      "Epoch #4: 100%|█████████████████████████████████████████| 656/656 [03:10<00:00,  3.44it/s, Loss=2.508956]\n",
      "Validate: 100%|████████████████████████████| 281/281 [01:07<00:00,  4.16it/s, Accuracy=0.0895, Loss=2.84]\n",
      "Epoch #5: 100%|████████████████████████████████████████| 656/656 [03:12<00:00,  3.40it/s, Loss=2.3636222]\n",
      "Epoch #6: 100%|████████████████████████████████████████| 656/656 [03:12<00:00,  3.41it/s, Loss=2.3868988]\n",
      "Epoch #7: 100%|████████████████████████████████████████| 656/656 [03:12<00:00,  3.41it/s, Loss=2.3733869]\n",
      "Epoch #8: 100%|████████████████████████████████████████| 656/656 [03:12<00:00,  3.41it/s, Loss=2.3253257]\n",
      "Epoch #9: 100%|█████████████████████████████████████████| 656/656 [03:12<00:00,  3.41it/s, Loss=2.323529]\n",
      "Validate: 100%|█████████████████████████████| 281/281 [01:05<00:00,  4.31it/s, Accuracy=0.103, Loss=2.46]\n",
      "Epoch #10: 100%|███████████████████████████████████████| 656/656 [03:11<00:00,  3.43it/s, Loss=2.3331232]\n",
      "Epoch #11: 100%|███████████████████████████████████████| 656/656 [03:11<00:00,  3.42it/s, Loss=2.2833085]\n",
      "Epoch #12: 100%|███████████████████████████████████████| 656/656 [03:14<00:00,  3.37it/s, Loss=2.2625852]\n",
      "Epoch #13: 100%|███████████████████████████████████████| 656/656 [03:13<00:00,  3.39it/s, Loss=2.2575274]\n",
      "Epoch #14: 100%|███████████████████████████████████████| 656/656 [03:09<00:00,  3.47it/s, Loss=2.2751217]\n",
      "Validate: 100%|████████████████████████████| 281/281 [01:05<00:00,  4.29it/s, Accuracy=0.0998, Loss=2.47]\n"
     ]
    }
   ],
   "source": [
    "elite_params = evolution(SNN, params, mnist_dl)"
   ]
  },
  {
   "cell_type": "markdown",
   "id": "281b68c8",
   "metadata": {},
   "source": [
    "Yikes... Looks like 717,200 parameters is too much for neuroevolution to handle!"
   ]
  },
  {
   "cell_type": "markdown",
   "id": "12630de8",
   "metadata": {},
   "source": [
    "### Attempt # 2"
   ]
  },
  {
   "cell_type": "code",
   "execution_count": 38,
   "id": "ca9a4978",
   "metadata": {},
   "outputs": [],
   "source": [
    "def mnist_scnn(x):\n",
    "    # seqs is [T, F].\n",
    "    core = hk.DeepRNN([\n",
    "        hk.MaxPool(3, 3, \"SAME\"),\n",
    "        hk.DepthwiseConv2D(8, 3, with_bias=False),\n",
    "        hk.Flatten(),\n",
    "        hk.Linear(64, with_bias=False),\n",
    "        snn.LIF(64, activation=spyx.activation.SuperSpike()),\n",
    "        hk.Linear(10, with_bias=False),\n",
    "        snn.LI(10)\n",
    "    ])\n",
    "    spikes, V = hk.dynamic_unroll(core, x.astype(jnp.float32), core.initial_state(x.shape[0]), time_major=False)\n",
    "    return spikes, V"
   ]
  },
  {
   "cell_type": "code",
   "execution_count": 39,
   "id": "ab7df6e7",
   "metadata": {},
   "outputs": [],
   "source": [
    "key = jax.random.PRNGKey(0)\n",
    "SNN = hk.without_apply_rng(hk.transform(mnist_scnn))\n",
    "params = SNN.init(rng=key, x=mnist_dl.train_step().obs)"
   ]
  },
  {
   "cell_type": "code",
   "execution_count": 40,
   "id": "686f0d39",
   "metadata": {
    "scrolled": true
   },
   "outputs": [
    {
     "name": "stdout",
     "output_type": "stream",
     "text": [
      "+-------------------------------------+-------------------------------------------------------------------------------------+-----------------+-------------------------------------------+----------------------------------------+---------------+---------------+\n",
      "| Module                              | Config                                                                              | Module params   | Input                                     | Output                                 |   Param count |   Param bytes |\n",
      "+=====================================+=====================================================================================+=================+===========================================+========================================+===============+===============+\n",
      "| deep_rnn (DeepRNN.initial_state)    | DeepRNN(                                                                            |                 | 64                                        | (f16[64,64], f32[64,10])               |            64 |      128.00 B |\n",
      "|                                     |     layers=[MaxPool(window_shape=2, strides=2, padding='SAME'),                     |                 |                                           |                                        |               |               |\n",
      "|                                     |             DepthwiseConv2D(channel_multiplier=8, kernel_shape=3, with_bias=False), |                 |                                           |                                        |               |               |\n",
      "|                                     |             MaxPool(window_shape=2, strides=2, padding='SAME'),                     |                 |                                           |                                        |               |               |\n",
      "|                                     |             Flatten(),                                                              |                 |                                           |                                        |               |               |\n",
      "|                                     |             Linear(output_size=64, with_bias=False),                                |                 |                                           |                                        |               |               |\n",
      "|                                     |             LIF(                                                                    |                 |                                           |                                        |               |               |\n",
      "|                                     |                hidden_size=64,                                                      |                 |                                           |                                        |               |               |\n",
      "|                                     |                activation=<spyx.activation.SuperSpike object at 0x7fa8e3cf27a0>,    |                 |                                           |                                        |               |               |\n",
      "|                                     |            ),                                                                       |                 |                                           |                                        |               |               |\n",
      "|                                     |             Linear(output_size=10, with_bias=False),                                |                 |                                           |                                        |               |               |\n",
      "|                                     |             LI(layer_size=10)],                                                     |                 |                                           |                                        |               |               |\n",
      "|                                     | )                                                                                   |                 |                                           |                                        |               |               |\n",
      "+-------------------------------------+-------------------------------------------------------------------------------------+-----------------+-------------------------------------------+----------------------------------------+---------------+---------------+\n",
      "| LIF (LIF.initial_state)             | LIF(                                                                                | b: f16[64]      | 64                                        | f16[64,64]                             |            64 |      128.00 B |\n",
      "|  └ deep_rnn (DeepRNN.initial_state) |     hidden_size=64,                                                                 |                 |                                           |                                        |               |               |\n",
      "|                                     |     activation=<spyx.activation.SuperSpike object at 0x7fa8e3cf27a0>,               |                 |                                           |                                        |               |               |\n",
      "|                                     | )                                                                                   |                 |                                           |                                        |               |               |\n",
      "+-------------------------------------+-------------------------------------------------------------------------------------+-----------------+-------------------------------------------+----------------------------------------+---------------+---------------+\n",
      "| LI (LI.initial_state)               | LI(layer_size=10)                                                                   |                 | 64                                        | f32[64,10]                             |             0 |        0.00 B |\n",
      "|  └ deep_rnn (DeepRNN.initial_state) |                                                                                     |                 |                                           |                                        |               |               |\n",
      "+-------------------------------------+-------------------------------------------------------------------------------------+-----------------+-------------------------------------------+----------------------------------------+---------------+---------------+\n",
      "| deep_rnn (DeepRNN)                  | DeepRNN(                                                                            |                 | f32[64,28,28,1], (f16[64,64], f32[64,10]) | (f32[64,10], (f16[64,64], f32[64,10])) |        25,864 |     102.05 KB |\n",
      "|                                     |     layers=[MaxPool(window_shape=2, strides=2, padding='SAME'),                     |                 |                                           |                                        |               |               |\n",
      "|                                     |             DepthwiseConv2D(channel_multiplier=8, kernel_shape=3, with_bias=False), |                 |                                           |                                        |               |               |\n",
      "|                                     |             MaxPool(window_shape=2, strides=2, padding='SAME'),                     |                 |                                           |                                        |               |               |\n",
      "|                                     |             Flatten(),                                                              |                 |                                           |                                        |               |               |\n",
      "|                                     |             Linear(output_size=64, with_bias=False),                                |                 |                                           |                                        |               |               |\n",
      "|                                     |             LIF(                                                                    |                 |                                           |                                        |               |               |\n",
      "|                                     |                hidden_size=64,                                                      |                 |                                           |                                        |               |               |\n",
      "|                                     |                activation=<spyx.activation.SuperSpike object at 0x7fa8e3cf27a0>,    |                 |                                           |                                        |               |               |\n",
      "|                                     |            ),                                                                       |                 |                                           |                                        |               |               |\n",
      "|                                     |             Linear(output_size=10, with_bias=False),                                |                 |                                           |                                        |               |               |\n",
      "|                                     |             LI(layer_size=10)],                                                     |                 |                                           |                                        |               |               |\n",
      "|                                     | )                                                                                   |                 |                                           |                                        |               |               |\n",
      "+-------------------------------------+-------------------------------------------------------------------------------------+-----------------+-------------------------------------------+----------------------------------------+---------------+---------------+\n",
      "| max_pool (MaxPool)                  | MaxPool(window_shape=2, strides=2, padding='SAME')                                  |                 | f32[64,28,28,1]                           | f32[64,14,14,1]                        |             0 |        0.00 B |\n",
      "|  └ deep_rnn (DeepRNN)               |                                                                                     |                 |                                           |                                        |               |               |\n",
      "+-------------------------------------+-------------------------------------------------------------------------------------+-----------------+-------------------------------------------+----------------------------------------+---------------+---------------+\n",
      "| depthwise_conv2_d (DepthwiseConv2D) | DepthwiseConv2D(channel_multiplier=8, kernel_shape=3, with_bias=False)              | w: f32[3,3,1,8] | f32[64,14,14,1]                           | f32[64,14,14,8]                        |            72 |      288.00 B |\n",
      "|  └ deep_rnn (DeepRNN)               |                                                                                     |                 |                                           |                                        |               |               |\n",
      "+-------------------------------------+-------------------------------------------------------------------------------------+-----------------+-------------------------------------------+----------------------------------------+---------------+---------------+\n",
      "| max_pool_1 (MaxPool)                | MaxPool(window_shape=2, strides=2, padding='SAME')                                  |                 | f32[64,14,14,8]                           | f32[64,7,7,8]                          |             0 |        0.00 B |\n",
      "|  └ deep_rnn (DeepRNN)               |                                                                                     |                 |                                           |                                        |               |               |\n",
      "+-------------------------------------+-------------------------------------------------------------------------------------+-----------------+-------------------------------------------+----------------------------------------+---------------+---------------+\n",
      "| flatten (Flatten)                   | Flatten()                                                                           |                 | f32[64,7,7,8]                             | f32[64,392]                            |             0 |        0.00 B |\n",
      "|  └ deep_rnn (DeepRNN)               |                                                                                     |                 |                                           |                                        |               |               |\n",
      "+-------------------------------------+-------------------------------------------------------------------------------------+-----------------+-------------------------------------------+----------------------------------------+---------------+---------------+\n",
      "| linear (Linear)                     | Linear(output_size=64, with_bias=False)                                             | w: f32[392,64]  | f32[64,392]                               | f32[64,64]                             |        25,088 |     100.35 KB |\n",
      "|  └ deep_rnn (DeepRNN)               |                                                                                     |                 |                                           |                                        |               |               |\n",
      "+-------------------------------------+-------------------------------------------------------------------------------------+-----------------+-------------------------------------------+----------------------------------------+---------------+---------------+\n",
      "| LIF (LIF)                           | LIF(                                                                                | b: f16[64]      | f32[64,64], f16[64,64]                    | (f16[64,64], f16[64,64])               |            64 |      128.00 B |\n",
      "|  └ deep_rnn (DeepRNN)               |     hidden_size=64,                                                                 |                 |                                           |                                        |               |               |\n",
      "|                                     |     activation=<spyx.activation.SuperSpike object at 0x7fa8e3cf27a0>,               |                 |                                           |                                        |               |               |\n",
      "|                                     | )                                                                                   |                 |                                           |                                        |               |               |\n",
      "+-------------------------------------+-------------------------------------------------------------------------------------+-----------------+-------------------------------------------+----------------------------------------+---------------+---------------+\n",
      "| linear_1 (Linear)                   | Linear(output_size=10, with_bias=False)                                             | w: f16[64,10]   | f16[64,64]                                | f16[64,10]                             |           640 |       1.28 KB |\n",
      "|  └ deep_rnn (DeepRNN)               |                                                                                     |                 |                                           |                                        |               |               |\n",
      "+-------------------------------------+-------------------------------------------------------------------------------------+-----------------+-------------------------------------------+----------------------------------------+---------------+---------------+\n",
      "| LI (LI)                             | LI(layer_size=10)                                                                   |                 | f16[64,10], f32[64,10]                    | (f32[64,10], f32[64,10])               |             0 |        0.00 B |\n",
      "|  └ deep_rnn (DeepRNN)               |                                                                                     |                 |                                           |                                        |               |               |\n",
      "+-------------------------------------+-------------------------------------------------------------------------------------+-----------------+-------------------------------------------+----------------------------------------+---------------+---------------+\n"
     ]
    }
   ],
   "source": [
    "print(hk.experimental.tabulate(SNN)(mnist_dl.train_step().obs))"
   ]
  },
  {
   "cell_type": "code",
   "execution_count": 41,
   "id": "025c5f6a",
   "metadata": {},
   "outputs": [
    {
     "name": "stdout",
     "output_type": "stream",
     "text": [
      "ParameterReshaper: 25864 parameters detected for optimization.\n"
     ]
    },
    {
     "name": "stderr",
     "output_type": "stream",
     "text": [
      "Epoch #0: 100%|████████████████████████████████████████| 656/656 [00:20<00:00, 32.18it/s, Loss=6.8789053]\n",
      "Epoch #1: 100%|█████████████████████████████████████████| 656/656 [00:19<00:00, 32.85it/s, Loss=3.243165]\n",
      "Epoch #2: 100%|████████████████████████████████████████| 656/656 [00:20<00:00, 31.69it/s, Loss=2.3815699]\n",
      "Epoch #3: 100%|████████████████████████████████████████| 656/656 [00:24<00:00, 27.17it/s, Loss=2.2731974]\n",
      "Epoch #4: 100%|████████████████████████████████████████| 656/656 [00:20<00:00, 32.46it/s, Loss=2.2836933]\n",
      "Validate: 100%|████████████████████████████| 281/281 [00:52<00:00,  5.35it/s, Accuracy=0.0931, Loss=2.45]\n",
      "Epoch #5: 100%|█████████████████████████████████████████| 656/656 [00:19<00:00, 32.84it/s, Loss=2.277646]\n",
      "Epoch #6: 100%|█████████████████████████████████████████| 656/656 [00:20<00:00, 32.45it/s, Loss=2.288693]\n",
      "Epoch #7: 100%|█████████████████████████████████████████| 656/656 [00:20<00:00, 32.34it/s, Loss=2.283051]\n",
      "Epoch #8: 100%|████████████████████████████████████████| 656/656 [00:21<00:00, 30.03it/s, Loss=2.2884862]\n",
      "Epoch #9: 100%|████████████████████████████████████████| 656/656 [00:20<00:00, 32.12it/s, Loss=2.2882805]\n",
      "Validate: 100%|████████████████████████████| 281/281 [00:56<00:00,  4.95it/s, Accuracy=0.0926, Loss=2.46]\n",
      "Epoch #10: 100%|███████████████████████████████████████| 656/656 [00:25<00:00, 25.53it/s, Loss=2.2938159]\n",
      "Epoch #11: 100%|███████████████████████████████████████| 656/656 [00:25<00:00, 25.36it/s, Loss=2.2904289]\n",
      "Epoch #12: 100%|████████████████████████████████████████| 656/656 [00:22<00:00, 29.19it/s, Loss=2.281536]\n",
      "Epoch #13: 100%|████████████████████████████████████████| 656/656 [00:19<00:00, 33.01it/s, Loss=2.282452]\n",
      "Epoch #14: 100%|███████████████████████████████████████| 656/656 [00:20<00:00, 32.39it/s, Loss=2.2847347]\n",
      "Validate: 100%|████████████████████████████| 281/281 [00:54<00:00,  5.12it/s, Accuracy=0.0925, Loss=2.45]\n"
     ]
    }
   ],
   "source": [
    "elite_params = evolution(SNN, params, mnist_dl)"
   ]
  },
  {
   "cell_type": "code",
   "execution_count": null,
   "id": "bbb589eb",
   "metadata": {},
   "outputs": [],
   "source": []
  }
 ],
 "metadata": {
  "kernelspec": {
   "display_name": "Python 3 (ipykernel)",
   "language": "python",
   "name": "python3"
  },
  "language_info": {
   "codemirror_mode": {
    "name": "ipython",
    "version": 3
   },
   "file_extension": ".py",
   "mimetype": "text/x-python",
   "name": "python",
   "nbconvert_exporter": "python",
   "pygments_lexer": "ipython3",
   "version": "3.10.6"
  }
 },
 "nbformat": 4,
 "nbformat_minor": 5
}
